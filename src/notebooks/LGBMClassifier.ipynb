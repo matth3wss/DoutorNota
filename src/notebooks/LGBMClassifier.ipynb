{
 "cells": [
  {
   "cell_type": "code",
   "execution_count": 33,
   "metadata": {},
   "outputs": [],
   "source": [
    "import pandas as pd\n",
    "from pycaret.classification import setup, compare_models, ensemble_model, evaluate_model, predict_model, save_model, load_model, tune_model"
   ]
  },
  {
   "cell_type": "code",
   "execution_count": 34,
   "metadata": {},
   "outputs": [
    {
     "data": {
      "text/html": [
       "<div>\n",
       "<style scoped>\n",
       "    .dataframe tbody tr th:only-of-type {\n",
       "        vertical-align: middle;\n",
       "    }\n",
       "\n",
       "    .dataframe tbody tr th {\n",
       "        vertical-align: top;\n",
       "    }\n",
       "\n",
       "    .dataframe thead th {\n",
       "        text-align: right;\n",
       "    }\n",
       "</style>\n",
       "<table border=\"1\" class=\"dataframe\">\n",
       "  <thead>\n",
       "    <tr style=\"text-align: right;\">\n",
       "      <th></th>\n",
       "      <th>status</th>\n",
       "      <th>freq_turma</th>\n",
       "      <th>ccr</th>\n",
       "      <th>nome_docente</th>\n",
       "    </tr>\n",
       "  </thead>\n",
       "  <tbody>\n",
       "    <tr>\n",
       "      <th>0</th>\n",
       "      <td>0</td>\n",
       "      <td>88.33</td>\n",
       "      <td>Algoritmos e programação - GEX003</td>\n",
       "      <td>ANDRESSA SEBBEN (30), GEOMAR ANDRE SCHREINER (30)</td>\n",
       "    </tr>\n",
       "  </tbody>\n",
       "</table>\n",
       "</div>"
      ],
      "text/plain": [
       "   status  freq_turma                                ccr  \\\n",
       "0       0       88.33  Algoritmos e programação - GEX003   \n",
       "\n",
       "                                        nome_docente  \n",
       "0  ANDRESSA SEBBEN (30), GEOMAR ANDRE SCHREINER (30)  "
      ]
     },
     "execution_count": 34,
     "metadata": {},
     "output_type": "execute_result"
    }
   ],
   "source": [
    "df = pd.read_csv('../../src/output/alunos_final.csv')\n",
    "df.head(1)"
   ]
  },
  {
   "cell_type": "code",
   "execution_count": 35,
   "metadata": {},
   "outputs": [
    {
     "data": {
      "text/html": [
       "<style type=\"text/css\">\n",
       "#T_5b074_row9_col1, #T_5b074_row15_col1 {\n",
       "  background-color: lightgreen;\n",
       "}\n",
       "</style>\n",
       "<table id=\"T_5b074\">\n",
       "  <thead>\n",
       "    <tr>\n",
       "      <th class=\"blank level0\" >&nbsp;</th>\n",
       "      <th id=\"T_5b074_level0_col0\" class=\"col_heading level0 col0\" >Description</th>\n",
       "      <th id=\"T_5b074_level0_col1\" class=\"col_heading level0 col1\" >Value</th>\n",
       "    </tr>\n",
       "  </thead>\n",
       "  <tbody>\n",
       "    <tr>\n",
       "      <th id=\"T_5b074_level0_row0\" class=\"row_heading level0 row0\" >0</th>\n",
       "      <td id=\"T_5b074_row0_col0\" class=\"data row0 col0\" >Session id</td>\n",
       "      <td id=\"T_5b074_row0_col1\" class=\"data row0 col1\" >123</td>\n",
       "    </tr>\n",
       "    <tr>\n",
       "      <th id=\"T_5b074_level0_row1\" class=\"row_heading level0 row1\" >1</th>\n",
       "      <td id=\"T_5b074_row1_col0\" class=\"data row1 col0\" >Target</td>\n",
       "      <td id=\"T_5b074_row1_col1\" class=\"data row1 col1\" >status</td>\n",
       "    </tr>\n",
       "    <tr>\n",
       "      <th id=\"T_5b074_level0_row2\" class=\"row_heading level0 row2\" >2</th>\n",
       "      <td id=\"T_5b074_row2_col0\" class=\"data row2 col0\" >Target type</td>\n",
       "      <td id=\"T_5b074_row2_col1\" class=\"data row2 col1\" >Binary</td>\n",
       "    </tr>\n",
       "    <tr>\n",
       "      <th id=\"T_5b074_level0_row3\" class=\"row_heading level0 row3\" >3</th>\n",
       "      <td id=\"T_5b074_row3_col0\" class=\"data row3 col0\" >Original data shape</td>\n",
       "      <td id=\"T_5b074_row3_col1\" class=\"data row3 col1\" >(14398, 4)</td>\n",
       "    </tr>\n",
       "    <tr>\n",
       "      <th id=\"T_5b074_level0_row4\" class=\"row_heading level0 row4\" >4</th>\n",
       "      <td id=\"T_5b074_row4_col0\" class=\"data row4 col0\" >Transformed data shape</td>\n",
       "      <td id=\"T_5b074_row4_col1\" class=\"data row4 col1\" >(13689, 4)</td>\n",
       "    </tr>\n",
       "    <tr>\n",
       "      <th id=\"T_5b074_level0_row5\" class=\"row_heading level0 row5\" >5</th>\n",
       "      <td id=\"T_5b074_row5_col0\" class=\"data row5 col0\" >Transformed train set shape</td>\n",
       "      <td id=\"T_5b074_row5_col1\" class=\"data row5 col1\" >(13545, 4)</td>\n",
       "    </tr>\n",
       "    <tr>\n",
       "      <th id=\"T_5b074_level0_row6\" class=\"row_heading level0 row6\" >6</th>\n",
       "      <td id=\"T_5b074_row6_col0\" class=\"data row6 col0\" >Transformed test set shape</td>\n",
       "      <td id=\"T_5b074_row6_col1\" class=\"data row6 col1\" >(144, 4)</td>\n",
       "    </tr>\n",
       "    <tr>\n",
       "      <th id=\"T_5b074_level0_row7\" class=\"row_heading level0 row7\" >7</th>\n",
       "      <td id=\"T_5b074_row7_col0\" class=\"data row7 col0\" >Numeric features</td>\n",
       "      <td id=\"T_5b074_row7_col1\" class=\"data row7 col1\" >1</td>\n",
       "    </tr>\n",
       "    <tr>\n",
       "      <th id=\"T_5b074_level0_row8\" class=\"row_heading level0 row8\" >8</th>\n",
       "      <td id=\"T_5b074_row8_col0\" class=\"data row8 col0\" >Categorical features</td>\n",
       "      <td id=\"T_5b074_row8_col1\" class=\"data row8 col1\" >2</td>\n",
       "    </tr>\n",
       "    <tr>\n",
       "      <th id=\"T_5b074_level0_row9\" class=\"row_heading level0 row9\" >9</th>\n",
       "      <td id=\"T_5b074_row9_col0\" class=\"data row9 col0\" >Preprocess</td>\n",
       "      <td id=\"T_5b074_row9_col1\" class=\"data row9 col1\" >True</td>\n",
       "    </tr>\n",
       "    <tr>\n",
       "      <th id=\"T_5b074_level0_row10\" class=\"row_heading level0 row10\" >10</th>\n",
       "      <td id=\"T_5b074_row10_col0\" class=\"data row10 col0\" >Imputation type</td>\n",
       "      <td id=\"T_5b074_row10_col1\" class=\"data row10 col1\" >simple</td>\n",
       "    </tr>\n",
       "    <tr>\n",
       "      <th id=\"T_5b074_level0_row11\" class=\"row_heading level0 row11\" >11</th>\n",
       "      <td id=\"T_5b074_row11_col0\" class=\"data row11 col0\" >Numeric imputation</td>\n",
       "      <td id=\"T_5b074_row11_col1\" class=\"data row11 col1\" >mean</td>\n",
       "    </tr>\n",
       "    <tr>\n",
       "      <th id=\"T_5b074_level0_row12\" class=\"row_heading level0 row12\" >12</th>\n",
       "      <td id=\"T_5b074_row12_col0\" class=\"data row12 col0\" >Categorical imputation</td>\n",
       "      <td id=\"T_5b074_row12_col1\" class=\"data row12 col1\" >mode</td>\n",
       "    </tr>\n",
       "    <tr>\n",
       "      <th id=\"T_5b074_level0_row13\" class=\"row_heading level0 row13\" >13</th>\n",
       "      <td id=\"T_5b074_row13_col0\" class=\"data row13 col0\" >Maximum one-hot encoding</td>\n",
       "      <td id=\"T_5b074_row13_col1\" class=\"data row13 col1\" >25</td>\n",
       "    </tr>\n",
       "    <tr>\n",
       "      <th id=\"T_5b074_level0_row14\" class=\"row_heading level0 row14\" >14</th>\n",
       "      <td id=\"T_5b074_row14_col0\" class=\"data row14 col0\" >Encoding method</td>\n",
       "      <td id=\"T_5b074_row14_col1\" class=\"data row14 col1\" >None</td>\n",
       "    </tr>\n",
       "    <tr>\n",
       "      <th id=\"T_5b074_level0_row15\" class=\"row_heading level0 row15\" >15</th>\n",
       "      <td id=\"T_5b074_row15_col0\" class=\"data row15 col0\" >Remove outliers</td>\n",
       "      <td id=\"T_5b074_row15_col1\" class=\"data row15 col1\" >True</td>\n",
       "    </tr>\n",
       "    <tr>\n",
       "      <th id=\"T_5b074_level0_row16\" class=\"row_heading level0 row16\" >16</th>\n",
       "      <td id=\"T_5b074_row16_col0\" class=\"data row16 col0\" >Outliers threshold</td>\n",
       "      <td id=\"T_5b074_row16_col1\" class=\"data row16 col1\" >0.050000</td>\n",
       "    </tr>\n",
       "    <tr>\n",
       "      <th id=\"T_5b074_level0_row17\" class=\"row_heading level0 row17\" >17</th>\n",
       "      <td id=\"T_5b074_row17_col0\" class=\"data row17 col0\" >Fold Generator</td>\n",
       "      <td id=\"T_5b074_row17_col1\" class=\"data row17 col1\" >StratifiedKFold</td>\n",
       "    </tr>\n",
       "    <tr>\n",
       "      <th id=\"T_5b074_level0_row18\" class=\"row_heading level0 row18\" >18</th>\n",
       "      <td id=\"T_5b074_row18_col0\" class=\"data row18 col0\" >Fold Number</td>\n",
       "      <td id=\"T_5b074_row18_col1\" class=\"data row18 col1\" >10</td>\n",
       "    </tr>\n",
       "    <tr>\n",
       "      <th id=\"T_5b074_level0_row19\" class=\"row_heading level0 row19\" >19</th>\n",
       "      <td id=\"T_5b074_row19_col0\" class=\"data row19 col0\" >CPU Jobs</td>\n",
       "      <td id=\"T_5b074_row19_col1\" class=\"data row19 col1\" >4</td>\n",
       "    </tr>\n",
       "    <tr>\n",
       "      <th id=\"T_5b074_level0_row20\" class=\"row_heading level0 row20\" >20</th>\n",
       "      <td id=\"T_5b074_row20_col0\" class=\"data row20 col0\" >Use GPU</td>\n",
       "      <td id=\"T_5b074_row20_col1\" class=\"data row20 col1\" >False</td>\n",
       "    </tr>\n",
       "    <tr>\n",
       "      <th id=\"T_5b074_level0_row21\" class=\"row_heading level0 row21\" >21</th>\n",
       "      <td id=\"T_5b074_row21_col0\" class=\"data row21 col0\" >Log Experiment</td>\n",
       "      <td id=\"T_5b074_row21_col1\" class=\"data row21 col1\" >False</td>\n",
       "    </tr>\n",
       "    <tr>\n",
       "      <th id=\"T_5b074_level0_row22\" class=\"row_heading level0 row22\" >22</th>\n",
       "      <td id=\"T_5b074_row22_col0\" class=\"data row22 col0\" >Experiment Name</td>\n",
       "      <td id=\"T_5b074_row22_col1\" class=\"data row22 col1\" >clf-default-name</td>\n",
       "    </tr>\n",
       "    <tr>\n",
       "      <th id=\"T_5b074_level0_row23\" class=\"row_heading level0 row23\" >23</th>\n",
       "      <td id=\"T_5b074_row23_col0\" class=\"data row23 col0\" >USI</td>\n",
       "      <td id=\"T_5b074_row23_col1\" class=\"data row23 col1\" >f9f8</td>\n",
       "    </tr>\n",
       "  </tbody>\n",
       "</table>\n"
      ],
      "text/plain": [
       "<pandas.io.formats.style.Styler at 0x1dd347b9480>"
      ]
     },
     "metadata": {},
     "output_type": "display_data"
    }
   ],
   "source": [
    "s = setup(df, target='status', \n",
    "          iterative_imputation_iters=10, \n",
    "          session_id=123,  \n",
    "          train_size=0.99, \n",
    "          remove_outliers=True, \n",
    "          outliers_method='iforest',\n",
    "          categorical_features=['ccr', 'nome_docente'],\n",
    "          numeric_features=['freq_turma'],\n",
    "          fold_strategy='stratifiedkfold',\n",
    "          fold=10,\n",
    "          fold_shuffle=True,\n",
    "          n_jobs=4\n",
    "          )"
   ]
  },
  {
   "cell_type": "code",
   "execution_count": 36,
   "metadata": {},
   "outputs": [
    {
     "data": {
      "text/html": [],
      "text/plain": [
       "<IPython.core.display.HTML object>"
      ]
     },
     "metadata": {},
     "output_type": "display_data"
    },
    {
     "data": {
      "text/html": [
       "<style type=\"text/css\">\n",
       "#T_58096 th {\n",
       "  text-align: left;\n",
       "}\n",
       "#T_58096_row0_col0, #T_58096_row0_col3, #T_58096_row0_col4, #T_58096_row1_col0, #T_58096_row1_col1, #T_58096_row1_col2, #T_58096_row1_col3, #T_58096_row1_col4, #T_58096_row1_col5, #T_58096_row1_col6, #T_58096_row1_col7, #T_58096_row2_col0, #T_58096_row2_col1, #T_58096_row2_col2, #T_58096_row2_col3, #T_58096_row2_col4, #T_58096_row2_col5, #T_58096_row2_col6, #T_58096_row2_col7, #T_58096_row3_col0, #T_58096_row3_col1, #T_58096_row3_col2, #T_58096_row3_col3, #T_58096_row3_col4, #T_58096_row3_col5, #T_58096_row3_col6, #T_58096_row3_col7, #T_58096_row4_col0, #T_58096_row4_col1, #T_58096_row4_col2, #T_58096_row4_col3, #T_58096_row4_col4, #T_58096_row4_col5, #T_58096_row4_col6, #T_58096_row4_col7, #T_58096_row5_col0, #T_58096_row5_col1, #T_58096_row5_col2, #T_58096_row5_col3, #T_58096_row5_col4, #T_58096_row5_col5, #T_58096_row5_col6, #T_58096_row5_col7, #T_58096_row6_col0, #T_58096_row6_col1, #T_58096_row6_col2, #T_58096_row6_col3, #T_58096_row6_col4, #T_58096_row6_col5, #T_58096_row6_col6, #T_58096_row6_col7, #T_58096_row7_col0, #T_58096_row7_col1, #T_58096_row7_col2, #T_58096_row7_col3, #T_58096_row7_col4, #T_58096_row7_col5, #T_58096_row7_col6, #T_58096_row7_col7, #T_58096_row8_col0, #T_58096_row8_col1, #T_58096_row8_col2, #T_58096_row8_col3, #T_58096_row8_col4, #T_58096_row8_col5, #T_58096_row8_col6, #T_58096_row8_col7, #T_58096_row9_col0, #T_58096_row9_col1, #T_58096_row9_col2, #T_58096_row9_col3, #T_58096_row9_col5, #T_58096_row9_col6, #T_58096_row9_col7, #T_58096_row10_col0, #T_58096_row10_col1, #T_58096_row10_col2, #T_58096_row10_col3, #T_58096_row10_col4, #T_58096_row10_col5, #T_58096_row10_col6, #T_58096_row10_col7, #T_58096_row11_col0, #T_58096_row11_col1, #T_58096_row11_col2, #T_58096_row11_col3, #T_58096_row11_col4, #T_58096_row11_col5, #T_58096_row11_col6, #T_58096_row11_col7, #T_58096_row12_col0, #T_58096_row12_col1, #T_58096_row12_col2, #T_58096_row12_col4, #T_58096_row12_col5, #T_58096_row12_col6, #T_58096_row12_col7, #T_58096_row13_col0, #T_58096_row13_col1, #T_58096_row13_col2, #T_58096_row13_col3, #T_58096_row13_col4, #T_58096_row13_col5, #T_58096_row13_col6, #T_58096_row13_col7 {\n",
       "  text-align: left;\n",
       "}\n",
       "#T_58096_row0_col1, #T_58096_row0_col2, #T_58096_row0_col5, #T_58096_row0_col6, #T_58096_row0_col7, #T_58096_row9_col4, #T_58096_row12_col3 {\n",
       "  text-align: left;\n",
       "  background-color: yellow;\n",
       "}\n",
       "#T_58096_row0_col8, #T_58096_row1_col8, #T_58096_row2_col8, #T_58096_row3_col8, #T_58096_row4_col8, #T_58096_row5_col8, #T_58096_row6_col8, #T_58096_row7_col8, #T_58096_row8_col8, #T_58096_row10_col8, #T_58096_row11_col8, #T_58096_row12_col8, #T_58096_row13_col8 {\n",
       "  text-align: left;\n",
       "  background-color: lightgrey;\n",
       "}\n",
       "#T_58096_row9_col8 {\n",
       "  text-align: left;\n",
       "  background-color: yellow;\n",
       "  background-color: lightgrey;\n",
       "}\n",
       "</style>\n",
       "<table id=\"T_58096\">\n",
       "  <thead>\n",
       "    <tr>\n",
       "      <th class=\"blank level0\" >&nbsp;</th>\n",
       "      <th id=\"T_58096_level0_col0\" class=\"col_heading level0 col0\" >Model</th>\n",
       "      <th id=\"T_58096_level0_col1\" class=\"col_heading level0 col1\" >Accuracy</th>\n",
       "      <th id=\"T_58096_level0_col2\" class=\"col_heading level0 col2\" >AUC</th>\n",
       "      <th id=\"T_58096_level0_col3\" class=\"col_heading level0 col3\" >Recall</th>\n",
       "      <th id=\"T_58096_level0_col4\" class=\"col_heading level0 col4\" >Prec.</th>\n",
       "      <th id=\"T_58096_level0_col5\" class=\"col_heading level0 col5\" >F1</th>\n",
       "      <th id=\"T_58096_level0_col6\" class=\"col_heading level0 col6\" >Kappa</th>\n",
       "      <th id=\"T_58096_level0_col7\" class=\"col_heading level0 col7\" >MCC</th>\n",
       "      <th id=\"T_58096_level0_col8\" class=\"col_heading level0 col8\" >TT (Sec)</th>\n",
       "    </tr>\n",
       "  </thead>\n",
       "  <tbody>\n",
       "    <tr>\n",
       "      <th id=\"T_58096_level0_row0\" class=\"row_heading level0 row0\" >lightgbm</th>\n",
       "      <td id=\"T_58096_row0_col0\" class=\"data row0 col0\" >Light Gradient Boosting Machine</td>\n",
       "      <td id=\"T_58096_row0_col1\" class=\"data row0 col1\" >0.8374</td>\n",
       "      <td id=\"T_58096_row0_col2\" class=\"data row0 col2\" >0.8951</td>\n",
       "      <td id=\"T_58096_row0_col3\" class=\"data row0 col3\" >0.6515</td>\n",
       "      <td id=\"T_58096_row0_col4\" class=\"data row0 col4\" >0.8656</td>\n",
       "      <td id=\"T_58096_row0_col5\" class=\"data row0 col5\" >0.7431</td>\n",
       "      <td id=\"T_58096_row0_col6\" class=\"data row0 col6\" >0.6276</td>\n",
       "      <td id=\"T_58096_row0_col7\" class=\"data row0 col7\" >0.6414</td>\n",
       "      <td id=\"T_58096_row0_col8\" class=\"data row0 col8\" >0.4290</td>\n",
       "    </tr>\n",
       "    <tr>\n",
       "      <th id=\"T_58096_level0_row1\" class=\"row_heading level0 row1\" >gbc</th>\n",
       "      <td id=\"T_58096_row1_col0\" class=\"data row1 col0\" >Gradient Boosting Classifier</td>\n",
       "      <td id=\"T_58096_row1_col1\" class=\"data row1 col1\" >0.8318</td>\n",
       "      <td id=\"T_58096_row1_col2\" class=\"data row1 col2\" >0.8878</td>\n",
       "      <td id=\"T_58096_row1_col3\" class=\"data row1 col3\" >0.6342</td>\n",
       "      <td id=\"T_58096_row1_col4\" class=\"data row1 col4\" >0.8646</td>\n",
       "      <td id=\"T_58096_row1_col5\" class=\"data row1 col5\" >0.7313</td>\n",
       "      <td id=\"T_58096_row1_col6\" class=\"data row1 col6\" >0.6132</td>\n",
       "      <td id=\"T_58096_row1_col7\" class=\"data row1 col7\" >0.6290</td>\n",
       "      <td id=\"T_58096_row1_col8\" class=\"data row1 col8\" >0.5870</td>\n",
       "    </tr>\n",
       "    <tr>\n",
       "      <th id=\"T_58096_level0_row2\" class=\"row_heading level0 row2\" >et</th>\n",
       "      <td id=\"T_58096_row2_col0\" class=\"data row2 col0\" >Extra Trees Classifier</td>\n",
       "      <td id=\"T_58096_row2_col1\" class=\"data row2 col1\" >0.8287</td>\n",
       "      <td id=\"T_58096_row2_col2\" class=\"data row2 col2\" >0.8655</td>\n",
       "      <td id=\"T_58096_row2_col3\" class=\"data row2 col3\" >0.6555</td>\n",
       "      <td id=\"T_58096_row2_col4\" class=\"data row2 col4\" >0.8353</td>\n",
       "      <td id=\"T_58096_row2_col5\" class=\"data row2 col5\" >0.7344</td>\n",
       "      <td id=\"T_58096_row2_col6\" class=\"data row2 col6\" >0.6107</td>\n",
       "      <td id=\"T_58096_row2_col7\" class=\"data row2 col7\" >0.6206</td>\n",
       "      <td id=\"T_58096_row2_col8\" class=\"data row2 col8\" >0.5040</td>\n",
       "    </tr>\n",
       "    <tr>\n",
       "      <th id=\"T_58096_level0_row3\" class=\"row_heading level0 row3\" >dt</th>\n",
       "      <td id=\"T_58096_row3_col0\" class=\"data row3 col0\" >Decision Tree Classifier</td>\n",
       "      <td id=\"T_58096_row3_col1\" class=\"data row3 col1\" >0.8270</td>\n",
       "      <td id=\"T_58096_row3_col2\" class=\"data row3 col2\" >0.8589</td>\n",
       "      <td id=\"T_58096_row3_col3\" class=\"data row3 col3\" >0.6540</td>\n",
       "      <td id=\"T_58096_row3_col4\" class=\"data row3 col4\" >0.8316</td>\n",
       "      <td id=\"T_58096_row3_col5\" class=\"data row3 col5\" >0.7319</td>\n",
       "      <td id=\"T_58096_row3_col6\" class=\"data row3 col6\" >0.6069</td>\n",
       "      <td id=\"T_58096_row3_col7\" class=\"data row3 col7\" >0.6166</td>\n",
       "      <td id=\"T_58096_row3_col8\" class=\"data row3 col8\" >0.3510</td>\n",
       "    </tr>\n",
       "    <tr>\n",
       "      <th id=\"T_58096_level0_row4\" class=\"row_heading level0 row4\" >rf</th>\n",
       "      <td id=\"T_58096_row4_col0\" class=\"data row4 col0\" >Random Forest Classifier</td>\n",
       "      <td id=\"T_58096_row4_col1\" class=\"data row4 col1\" >0.8268</td>\n",
       "      <td id=\"T_58096_row4_col2\" class=\"data row4 col2\" >0.8801</td>\n",
       "      <td id=\"T_58096_row4_col3\" class=\"data row4 col3\" >0.6707</td>\n",
       "      <td id=\"T_58096_row4_col4\" class=\"data row4 col4\" >0.8173</td>\n",
       "      <td id=\"T_58096_row4_col5\" class=\"data row4 col5\" >0.7366</td>\n",
       "      <td id=\"T_58096_row4_col6\" class=\"data row4 col6\" >0.6095</td>\n",
       "      <td id=\"T_58096_row4_col7\" class=\"data row4 col7\" >0.6162</td>\n",
       "      <td id=\"T_58096_row4_col8\" class=\"data row4 col8\" >0.5340</td>\n",
       "    </tr>\n",
       "    <tr>\n",
       "      <th id=\"T_58096_level0_row5\" class=\"row_heading level0 row5\" >ada</th>\n",
       "      <td id=\"T_58096_row5_col0\" class=\"data row5 col0\" >Ada Boost Classifier</td>\n",
       "      <td id=\"T_58096_row5_col1\" class=\"data row5 col1\" >0.8265</td>\n",
       "      <td id=\"T_58096_row5_col2\" class=\"data row5 col2\" >0.8814</td>\n",
       "      <td id=\"T_58096_row5_col3\" class=\"data row5 col3\" >0.6315</td>\n",
       "      <td id=\"T_58096_row5_col4\" class=\"data row5 col4\" >0.8498</td>\n",
       "      <td id=\"T_58096_row5_col5\" class=\"data row5 col5\" >0.7244</td>\n",
       "      <td id=\"T_58096_row5_col6\" class=\"data row5 col6\" >0.6018</td>\n",
       "      <td id=\"T_58096_row5_col7\" class=\"data row5 col7\" >0.6160</td>\n",
       "      <td id=\"T_58096_row5_col8\" class=\"data row5 col8\" >0.4630</td>\n",
       "    </tr>\n",
       "    <tr>\n",
       "      <th id=\"T_58096_level0_row6\" class=\"row_heading level0 row6\" >lda</th>\n",
       "      <td id=\"T_58096_row6_col0\" class=\"data row6 col0\" >Linear Discriminant Analysis</td>\n",
       "      <td id=\"T_58096_row6_col1\" class=\"data row6 col1\" >0.8207</td>\n",
       "      <td id=\"T_58096_row6_col2\" class=\"data row6 col2\" >0.8709</td>\n",
       "      <td id=\"T_58096_row6_col3\" class=\"data row6 col3\" >0.6000</td>\n",
       "      <td id=\"T_58096_row6_col4\" class=\"data row6 col4\" >0.8620</td>\n",
       "      <td id=\"T_58096_row6_col5\" class=\"data row6 col5\" >0.7073</td>\n",
       "      <td id=\"T_58096_row6_col6\" class=\"data row6 col6\" >0.5840</td>\n",
       "      <td id=\"T_58096_row6_col7\" class=\"data row6 col7\" >0.6040</td>\n",
       "      <td id=\"T_58096_row6_col8\" class=\"data row6 col8\" >0.3310</td>\n",
       "    </tr>\n",
       "    <tr>\n",
       "      <th id=\"T_58096_level0_row7\" class=\"row_heading level0 row7\" >knn</th>\n",
       "      <td id=\"T_58096_row7_col0\" class=\"data row7 col0\" >K Neighbors Classifier</td>\n",
       "      <td id=\"T_58096_row7_col1\" class=\"data row7 col1\" >0.8204</td>\n",
       "      <td id=\"T_58096_row7_col2\" class=\"data row7 col2\" >0.8625</td>\n",
       "      <td id=\"T_58096_row7_col3\" class=\"data row7 col3\" >0.6761</td>\n",
       "      <td id=\"T_58096_row7_col4\" class=\"data row7 col4\" >0.7963</td>\n",
       "      <td id=\"T_58096_row7_col5\" class=\"data row7 col5\" >0.7312</td>\n",
       "      <td id=\"T_58096_row7_col6\" class=\"data row7 col6\" >0.5977</td>\n",
       "      <td id=\"T_58096_row7_col7\" class=\"data row7 col7\" >0.6023</td>\n",
       "      <td id=\"T_58096_row7_col8\" class=\"data row7 col8\" >0.4020</td>\n",
       "    </tr>\n",
       "    <tr>\n",
       "      <th id=\"T_58096_level0_row8\" class=\"row_heading level0 row8\" >lr</th>\n",
       "      <td id=\"T_58096_row8_col0\" class=\"data row8 col0\" >Logistic Regression</td>\n",
       "      <td id=\"T_58096_row8_col1\" class=\"data row8 col1\" >0.8192</td>\n",
       "      <td id=\"T_58096_row8_col2\" class=\"data row8 col2\" >0.8706</td>\n",
       "      <td id=\"T_58096_row8_col3\" class=\"data row8 col3\" >0.6410</td>\n",
       "      <td id=\"T_58096_row8_col4\" class=\"data row8 col4\" >0.8195</td>\n",
       "      <td id=\"T_58096_row8_col5\" class=\"data row8 col5\" >0.7192</td>\n",
       "      <td id=\"T_58096_row8_col6\" class=\"data row8 col6\" >0.5888</td>\n",
       "      <td id=\"T_58096_row8_col7\" class=\"data row8 col7\" >0.5986</td>\n",
       "      <td id=\"T_58096_row8_col8\" class=\"data row8 col8\" >0.7300</td>\n",
       "    </tr>\n",
       "    <tr>\n",
       "      <th id=\"T_58096_level0_row9\" class=\"row_heading level0 row9\" >ridge</th>\n",
       "      <td id=\"T_58096_row9_col0\" class=\"data row9 col0\" >Ridge Classifier</td>\n",
       "      <td id=\"T_58096_row9_col1\" class=\"data row9 col1\" >0.8192</td>\n",
       "      <td id=\"T_58096_row9_col2\" class=\"data row9 col2\" >0.0000</td>\n",
       "      <td id=\"T_58096_row9_col3\" class=\"data row9 col3\" >0.5905</td>\n",
       "      <td id=\"T_58096_row9_col4\" class=\"data row9 col4\" >0.8669</td>\n",
       "      <td id=\"T_58096_row9_col5\" class=\"data row9 col5\" >0.7023</td>\n",
       "      <td id=\"T_58096_row9_col6\" class=\"data row9 col6\" >0.5791</td>\n",
       "      <td id=\"T_58096_row9_col7\" class=\"data row9 col7\" >0.6013</td>\n",
       "      <td id=\"T_58096_row9_col8\" class=\"data row9 col8\" >0.3200</td>\n",
       "    </tr>\n",
       "    <tr>\n",
       "      <th id=\"T_58096_level0_row10\" class=\"row_heading level0 row10\" >qda</th>\n",
       "      <td id=\"T_58096_row10_col0\" class=\"data row10 col0\" >Quadratic Discriminant Analysis</td>\n",
       "      <td id=\"T_58096_row10_col1\" class=\"data row10 col1\" >0.8163</td>\n",
       "      <td id=\"T_58096_row10_col2\" class=\"data row10 col2\" >0.8676</td>\n",
       "      <td id=\"T_58096_row10_col3\" class=\"data row10 col3\" >0.6229</td>\n",
       "      <td id=\"T_58096_row10_col4\" class=\"data row10 col4\" >0.8260</td>\n",
       "      <td id=\"T_58096_row10_col5\" class=\"data row10 col5\" >0.7101</td>\n",
       "      <td id=\"T_58096_row10_col6\" class=\"data row10 col6\" >0.5794</td>\n",
       "      <td id=\"T_58096_row10_col7\" class=\"data row10 col7\" >0.5919</td>\n",
       "      <td id=\"T_58096_row10_col8\" class=\"data row10 col8\" >0.3270</td>\n",
       "    </tr>\n",
       "    <tr>\n",
       "      <th id=\"T_58096_level0_row11\" class=\"row_heading level0 row11\" >nb</th>\n",
       "      <td id=\"T_58096_row11_col0\" class=\"data row11 col0\" >Naive Bayes</td>\n",
       "      <td id=\"T_58096_row11_col1\" class=\"data row11 col1\" >0.8157</td>\n",
       "      <td id=\"T_58096_row11_col2\" class=\"data row11 col2\" >0.8668</td>\n",
       "      <td id=\"T_58096_row11_col3\" class=\"data row11 col3\" >0.6200</td>\n",
       "      <td id=\"T_58096_row11_col4\" class=\"data row11 col4\" >0.8268</td>\n",
       "      <td id=\"T_58096_row11_col5\" class=\"data row11 col5\" >0.7085</td>\n",
       "      <td id=\"T_58096_row11_col6\" class=\"data row11 col6\" >0.5778</td>\n",
       "      <td id=\"T_58096_row11_col7\" class=\"data row11 col7\" >0.5906</td>\n",
       "      <td id=\"T_58096_row11_col8\" class=\"data row11 col8\" >0.3350</td>\n",
       "    </tr>\n",
       "    <tr>\n",
       "      <th id=\"T_58096_level0_row12\" class=\"row_heading level0 row12\" >svm</th>\n",
       "      <td id=\"T_58096_row12_col0\" class=\"data row12 col0\" >SVM - Linear Kernel</td>\n",
       "      <td id=\"T_58096_row12_col1\" class=\"data row12 col1\" >0.7532</td>\n",
       "      <td id=\"T_58096_row12_col2\" class=\"data row12 col2\" >0.0000</td>\n",
       "      <td id=\"T_58096_row12_col3\" class=\"data row12 col3\" >0.7198</td>\n",
       "      <td id=\"T_58096_row12_col4\" class=\"data row12 col4\" >0.6579</td>\n",
       "      <td id=\"T_58096_row12_col5\" class=\"data row12 col5\" >0.6796</td>\n",
       "      <td id=\"T_58096_row12_col6\" class=\"data row12 col6\" >0.4817</td>\n",
       "      <td id=\"T_58096_row12_col7\" class=\"data row12 col7\" >0.4905</td>\n",
       "      <td id=\"T_58096_row12_col8\" class=\"data row12 col8\" >0.3670</td>\n",
       "    </tr>\n",
       "    <tr>\n",
       "      <th id=\"T_58096_level0_row13\" class=\"row_heading level0 row13\" >dummy</th>\n",
       "      <td id=\"T_58096_row13_col0\" class=\"data row13 col0\" >Dummy Classifier</td>\n",
       "      <td id=\"T_58096_row13_col1\" class=\"data row13 col1\" >0.6387</td>\n",
       "      <td id=\"T_58096_row13_col2\" class=\"data row13 col2\" >0.5000</td>\n",
       "      <td id=\"T_58096_row13_col3\" class=\"data row13 col3\" >0.0000</td>\n",
       "      <td id=\"T_58096_row13_col4\" class=\"data row13 col4\" >0.0000</td>\n",
       "      <td id=\"T_58096_row13_col5\" class=\"data row13 col5\" >0.0000</td>\n",
       "      <td id=\"T_58096_row13_col6\" class=\"data row13 col6\" >0.0000</td>\n",
       "      <td id=\"T_58096_row13_col7\" class=\"data row13 col7\" >0.0000</td>\n",
       "      <td id=\"T_58096_row13_col8\" class=\"data row13 col8\" >0.3590</td>\n",
       "    </tr>\n",
       "  </tbody>\n",
       "</table>\n"
      ],
      "text/plain": [
       "<pandas.io.formats.style.Styler at 0x1dd31fe59c0>"
      ]
     },
     "metadata": {},
     "output_type": "display_data"
    },
    {
     "data": {
      "text/html": [],
      "text/plain": [
       "<IPython.core.display.HTML object>"
      ]
     },
     "metadata": {},
     "output_type": "display_data"
    }
   ],
   "source": [
    "best_model = compare_models()"
   ]
  },
  {
   "cell_type": "code",
   "execution_count": 37,
   "metadata": {},
   "outputs": [
    {
     "data": {
      "application/vnd.jupyter.widget-view+json": {
       "model_id": "05a3326312504c5190ef896f9ebc5f2d",
       "version_major": 2,
       "version_minor": 0
      },
      "text/plain": [
       "interactive(children=(ToggleButtons(description='Plot Type:', icons=('',), options=(('Pipeline Plot', 'pipelin…"
      ]
     },
     "metadata": {},
     "output_type": "display_data"
    }
   ],
   "source": [
    "evaluate_model(best_model)"
   ]
  },
  {
   "cell_type": "code",
   "execution_count": 38,
   "metadata": {},
   "outputs": [
    {
     "data": {
      "text/html": [],
      "text/plain": [
       "<IPython.core.display.HTML object>"
      ]
     },
     "metadata": {},
     "output_type": "display_data"
    },
    {
     "data": {
      "text/html": [
       "<style type=\"text/css\">\n",
       "#T_c7dcf_row10_col0, #T_c7dcf_row10_col1, #T_c7dcf_row10_col2, #T_c7dcf_row10_col3, #T_c7dcf_row10_col4, #T_c7dcf_row10_col5, #T_c7dcf_row10_col6 {\n",
       "  background: yellow;\n",
       "}\n",
       "</style>\n",
       "<table id=\"T_c7dcf\">\n",
       "  <thead>\n",
       "    <tr>\n",
       "      <th class=\"blank level0\" >&nbsp;</th>\n",
       "      <th id=\"T_c7dcf_level0_col0\" class=\"col_heading level0 col0\" >Accuracy</th>\n",
       "      <th id=\"T_c7dcf_level0_col1\" class=\"col_heading level0 col1\" >AUC</th>\n",
       "      <th id=\"T_c7dcf_level0_col2\" class=\"col_heading level0 col2\" >Recall</th>\n",
       "      <th id=\"T_c7dcf_level0_col3\" class=\"col_heading level0 col3\" >Prec.</th>\n",
       "      <th id=\"T_c7dcf_level0_col4\" class=\"col_heading level0 col4\" >F1</th>\n",
       "      <th id=\"T_c7dcf_level0_col5\" class=\"col_heading level0 col5\" >Kappa</th>\n",
       "      <th id=\"T_c7dcf_level0_col6\" class=\"col_heading level0 col6\" >MCC</th>\n",
       "    </tr>\n",
       "    <tr>\n",
       "      <th class=\"index_name level0\" >Fold</th>\n",
       "      <th class=\"blank col0\" >&nbsp;</th>\n",
       "      <th class=\"blank col1\" >&nbsp;</th>\n",
       "      <th class=\"blank col2\" >&nbsp;</th>\n",
       "      <th class=\"blank col3\" >&nbsp;</th>\n",
       "      <th class=\"blank col4\" >&nbsp;</th>\n",
       "      <th class=\"blank col5\" >&nbsp;</th>\n",
       "      <th class=\"blank col6\" >&nbsp;</th>\n",
       "    </tr>\n",
       "  </thead>\n",
       "  <tbody>\n",
       "    <tr>\n",
       "      <th id=\"T_c7dcf_level0_row0\" class=\"row_heading level0 row0\" >0</th>\n",
       "      <td id=\"T_c7dcf_row0_col0\" class=\"data row0 col0\" >0.8142</td>\n",
       "      <td id=\"T_c7dcf_row0_col1\" class=\"data row0 col1\" >0.8823</td>\n",
       "      <td id=\"T_c7dcf_row0_col2\" class=\"data row0 col2\" >0.5437</td>\n",
       "      <td id=\"T_c7dcf_row0_col3\" class=\"data row0 col3\" >0.9032</td>\n",
       "      <td id=\"T_c7dcf_row0_col4\" class=\"data row0 col4\" >0.6788</td>\n",
       "      <td id=\"T_c7dcf_row0_col5\" class=\"data row0 col5\" >0.5591</td>\n",
       "      <td id=\"T_c7dcf_row0_col6\" class=\"data row0 col6\" >0.5948</td>\n",
       "    </tr>\n",
       "    <tr>\n",
       "      <th id=\"T_c7dcf_level0_row1\" class=\"row_heading level0 row1\" >1</th>\n",
       "      <td id=\"T_c7dcf_row1_col0\" class=\"data row1 col0\" >0.8296</td>\n",
       "      <td id=\"T_c7dcf_row1_col1\" class=\"data row1 col1\" >0.8894</td>\n",
       "      <td id=\"T_c7dcf_row1_col2\" class=\"data row1 col2\" >0.5728</td>\n",
       "      <td id=\"T_c7dcf_row1_col3\" class=\"data row1 col3\" >0.9277</td>\n",
       "      <td id=\"T_c7dcf_row1_col4\" class=\"data row1 col4\" >0.7083</td>\n",
       "      <td id=\"T_c7dcf_row1_col5\" class=\"data row1 col5\" >0.5972</td>\n",
       "      <td id=\"T_c7dcf_row1_col6\" class=\"data row1 col6\" >0.6319</td>\n",
       "    </tr>\n",
       "    <tr>\n",
       "      <th id=\"T_c7dcf_level0_row2\" class=\"row_heading level0 row2\" >2</th>\n",
       "      <td id=\"T_c7dcf_row2_col0\" class=\"data row2 col0\" >0.8226</td>\n",
       "      <td id=\"T_c7dcf_row2_col1\" class=\"data row2 col1\" >0.8835</td>\n",
       "      <td id=\"T_c7dcf_row2_col2\" class=\"data row2 col2\" >0.5417</td>\n",
       "      <td id=\"T_c7dcf_row2_col3\" class=\"data row2 col3\" >0.9426</td>\n",
       "      <td id=\"T_c7dcf_row2_col4\" class=\"data row2 col4\" >0.6880</td>\n",
       "      <td id=\"T_c7dcf_row2_col5\" class=\"data row2 col5\" >0.5764</td>\n",
       "      <td id=\"T_c7dcf_row2_col6\" class=\"data row2 col6\" >0.6195</td>\n",
       "    </tr>\n",
       "    <tr>\n",
       "      <th id=\"T_c7dcf_level0_row3\" class=\"row_heading level0 row3\" >3</th>\n",
       "      <td id=\"T_c7dcf_row3_col0\" class=\"data row3 col0\" >0.8268</td>\n",
       "      <td id=\"T_c7dcf_row3_col1\" class=\"data row3 col1\" >0.8893</td>\n",
       "      <td id=\"T_c7dcf_row3_col2\" class=\"data row3 col2\" >0.5670</td>\n",
       "      <td id=\"T_c7dcf_row3_col3\" class=\"data row3 col3\" >0.9241</td>\n",
       "      <td id=\"T_c7dcf_row3_col4\" class=\"data row3 col4\" >0.7028</td>\n",
       "      <td id=\"T_c7dcf_row3_col5\" class=\"data row3 col5\" >0.5902</td>\n",
       "      <td id=\"T_c7dcf_row3_col6\" class=\"data row3 col6\" >0.6253</td>\n",
       "    </tr>\n",
       "    <tr>\n",
       "      <th id=\"T_c7dcf_level0_row4\" class=\"row_heading level0 row4\" >4</th>\n",
       "      <td id=\"T_c7dcf_row4_col0\" class=\"data row4 col0\" >0.8309</td>\n",
       "      <td id=\"T_c7dcf_row4_col1\" class=\"data row4 col1\" >0.8848</td>\n",
       "      <td id=\"T_c7dcf_row4_col2\" class=\"data row4 col2\" >0.5689</td>\n",
       "      <td id=\"T_c7dcf_row4_col3\" class=\"data row4 col3\" >0.9391</td>\n",
       "      <td id=\"T_c7dcf_row4_col4\" class=\"data row4 col4\" >0.7086</td>\n",
       "      <td id=\"T_c7dcf_row4_col5\" class=\"data row4 col5\" >0.5993</td>\n",
       "      <td id=\"T_c7dcf_row4_col6\" class=\"data row4 col6\" >0.6367</td>\n",
       "    </tr>\n",
       "    <tr>\n",
       "      <th id=\"T_c7dcf_level0_row5\" class=\"row_heading level0 row5\" >5</th>\n",
       "      <td id=\"T_c7dcf_row5_col0\" class=\"data row5 col0\" >0.8161</td>\n",
       "      <td id=\"T_c7dcf_row5_col1\" class=\"data row5 col1\" >0.8807</td>\n",
       "      <td id=\"T_c7dcf_row5_col2\" class=\"data row5 col2\" >0.5379</td>\n",
       "      <td id=\"T_c7dcf_row5_col3\" class=\"data row5 col3\" >0.9203</td>\n",
       "      <td id=\"T_c7dcf_row5_col4\" class=\"data row5 col4\" >0.6789</td>\n",
       "      <td id=\"T_c7dcf_row5_col5\" class=\"data row5 col5\" >0.5622</td>\n",
       "      <td id=\"T_c7dcf_row5_col6\" class=\"data row5 col6\" >0.6020</td>\n",
       "    </tr>\n",
       "    <tr>\n",
       "      <th id=\"T_c7dcf_level0_row6\" class=\"row_heading level0 row6\" >6</th>\n",
       "      <td id=\"T_c7dcf_row6_col0\" class=\"data row6 col0\" >0.8358</td>\n",
       "      <td id=\"T_c7dcf_row6_col1\" class=\"data row6 col1\" >0.8879</td>\n",
       "      <td id=\"T_c7dcf_row6_col2\" class=\"data row6 col2\" >0.6000</td>\n",
       "      <td id=\"T_c7dcf_row6_col3\" class=\"data row6 col3\" >0.9169</td>\n",
       "      <td id=\"T_c7dcf_row6_col4\" class=\"data row6 col4\" >0.7254</td>\n",
       "      <td id=\"T_c7dcf_row6_col5\" class=\"data row6 col5\" >0.6154</td>\n",
       "      <td id=\"T_c7dcf_row6_col6\" class=\"data row6 col6\" >0.6436</td>\n",
       "    </tr>\n",
       "    <tr>\n",
       "      <th id=\"T_c7dcf_level0_row7\" class=\"row_heading level0 row7\" >7</th>\n",
       "      <td id=\"T_c7dcf_row7_col0\" class=\"data row7 col0\" >0.8435</td>\n",
       "      <td id=\"T_c7dcf_row7_col1\" class=\"data row7 col1\" >0.9110</td>\n",
       "      <td id=\"T_c7dcf_row7_col2\" class=\"data row7 col2\" >0.6019</td>\n",
       "      <td id=\"T_c7dcf_row7_col3\" class=\"data row7 col3\" >0.9451</td>\n",
       "      <td id=\"T_c7dcf_row7_col4\" class=\"data row7 col4\" >0.7355</td>\n",
       "      <td id=\"T_c7dcf_row7_col5\" class=\"data row7 col5\" >0.6320</td>\n",
       "      <td id=\"T_c7dcf_row7_col6\" class=\"data row7 col6\" >0.6644</td>\n",
       "    </tr>\n",
       "    <tr>\n",
       "      <th id=\"T_c7dcf_level0_row8\" class=\"row_heading level0 row8\" >8</th>\n",
       "      <td id=\"T_c7dcf_row8_col0\" class=\"data row8 col0\" >0.8204</td>\n",
       "      <td id=\"T_c7dcf_row8_col1\" class=\"data row8 col1\" >0.8780</td>\n",
       "      <td id=\"T_c7dcf_row8_col2\" class=\"data row8 col2\" >0.5573</td>\n",
       "      <td id=\"T_c7dcf_row8_col3\" class=\"data row8 col3\" >0.9111</td>\n",
       "      <td id=\"T_c7dcf_row8_col4\" class=\"data row8 col4\" >0.6916</td>\n",
       "      <td id=\"T_c7dcf_row8_col5\" class=\"data row8 col5\" >0.5750</td>\n",
       "      <td id=\"T_c7dcf_row8_col6\" class=\"data row8 col6\" >0.6096</td>\n",
       "    </tr>\n",
       "    <tr>\n",
       "      <th id=\"T_c7dcf_level0_row9\" class=\"row_heading level0 row9\" >9</th>\n",
       "      <td id=\"T_c7dcf_row9_col0\" class=\"data row9 col0\" >0.8288</td>\n",
       "      <td id=\"T_c7dcf_row9_col1\" class=\"data row9 col1\" >0.8804</td>\n",
       "      <td id=\"T_c7dcf_row9_col2\" class=\"data row9 col2\" >0.5748</td>\n",
       "      <td id=\"T_c7dcf_row9_col3\" class=\"data row9 col3\" >0.9221</td>\n",
       "      <td id=\"T_c7dcf_row9_col4\" class=\"data row9 col4\" >0.7081</td>\n",
       "      <td id=\"T_c7dcf_row9_col5\" class=\"data row9 col5\" >0.5960</td>\n",
       "      <td id=\"T_c7dcf_row9_col6\" class=\"data row9 col6\" >0.6294</td>\n",
       "    </tr>\n",
       "    <tr>\n",
       "      <th id=\"T_c7dcf_level0_row10\" class=\"row_heading level0 row10\" >Mean</th>\n",
       "      <td id=\"T_c7dcf_row10_col0\" class=\"data row10 col0\" >0.8269</td>\n",
       "      <td id=\"T_c7dcf_row10_col1\" class=\"data row10 col1\" >0.8867</td>\n",
       "      <td id=\"T_c7dcf_row10_col2\" class=\"data row10 col2\" >0.5666</td>\n",
       "      <td id=\"T_c7dcf_row10_col3\" class=\"data row10 col3\" >0.9252</td>\n",
       "      <td id=\"T_c7dcf_row10_col4\" class=\"data row10 col4\" >0.7026</td>\n",
       "      <td id=\"T_c7dcf_row10_col5\" class=\"data row10 col5\" >0.5903</td>\n",
       "      <td id=\"T_c7dcf_row10_col6\" class=\"data row10 col6\" >0.6257</td>\n",
       "    </tr>\n",
       "    <tr>\n",
       "      <th id=\"T_c7dcf_level0_row11\" class=\"row_heading level0 row11\" >Std</th>\n",
       "      <td id=\"T_c7dcf_row11_col0\" class=\"data row11 col0\" >0.0085</td>\n",
       "      <td id=\"T_c7dcf_row11_col1\" class=\"data row11 col1\" >0.0089</td>\n",
       "      <td id=\"T_c7dcf_row11_col2\" class=\"data row11 col2\" >0.0213</td>\n",
       "      <td id=\"T_c7dcf_row11_col3\" class=\"data row11 col3\" >0.0130</td>\n",
       "      <td id=\"T_c7dcf_row11_col4\" class=\"data row11 col4\" >0.0178</td>\n",
       "      <td id=\"T_c7dcf_row11_col5\" class=\"data row11 col5\" >0.0217</td>\n",
       "      <td id=\"T_c7dcf_row11_col6\" class=\"data row11 col6\" >0.0195</td>\n",
       "    </tr>\n",
       "  </tbody>\n",
       "</table>\n"
      ],
      "text/plain": [
       "<pandas.io.formats.style.Styler at 0x1dd34596c80>"
      ]
     },
     "metadata": {},
     "output_type": "display_data"
    },
    {
     "data": {
      "text/html": [],
      "text/plain": [
       "<IPython.core.display.HTML object>"
      ]
     },
     "metadata": {},
     "output_type": "display_data"
    },
    {
     "name": "stdout",
     "output_type": "stream",
     "text": [
      "Fitting 10 folds for each of 2 candidates, totalling 20 fits\n",
      "Original model was better than the tuned model, hence it will be returned. NOTE: The display metrics are for the tuned model (not the original one).\n"
     ]
    }
   ],
   "source": [
    "prediction_model = tune_model(best_model, \n",
    "                              choose_better = True,\n",
    "                              n_iter = 2)"
   ]
  },
  {
   "cell_type": "code",
   "execution_count": 39,
   "metadata": {},
   "outputs": [
    {
     "data": {
      "text/html": [],
      "text/plain": [
       "<IPython.core.display.HTML object>"
      ]
     },
     "metadata": {},
     "output_type": "display_data"
    },
    {
     "data": {
      "text/html": [
       "<style type=\"text/css\">\n",
       "#T_dec73_row2_col0, #T_dec73_row2_col1, #T_dec73_row2_col2, #T_dec73_row2_col3, #T_dec73_row2_col4, #T_dec73_row2_col5, #T_dec73_row2_col6 {\n",
       "  background: yellow;\n",
       "}\n",
       "</style>\n",
       "<table id=\"T_dec73\">\n",
       "  <thead>\n",
       "    <tr>\n",
       "      <th class=\"blank level0\" >&nbsp;</th>\n",
       "      <th id=\"T_dec73_level0_col0\" class=\"col_heading level0 col0\" >Accuracy</th>\n",
       "      <th id=\"T_dec73_level0_col1\" class=\"col_heading level0 col1\" >AUC</th>\n",
       "      <th id=\"T_dec73_level0_col2\" class=\"col_heading level0 col2\" >Recall</th>\n",
       "      <th id=\"T_dec73_level0_col3\" class=\"col_heading level0 col3\" >Prec.</th>\n",
       "      <th id=\"T_dec73_level0_col4\" class=\"col_heading level0 col4\" >F1</th>\n",
       "      <th id=\"T_dec73_level0_col5\" class=\"col_heading level0 col5\" >Kappa</th>\n",
       "      <th id=\"T_dec73_level0_col6\" class=\"col_heading level0 col6\" >MCC</th>\n",
       "    </tr>\n",
       "    <tr>\n",
       "      <th class=\"index_name level0\" >Fold</th>\n",
       "      <th class=\"blank col0\" >&nbsp;</th>\n",
       "      <th class=\"blank col1\" >&nbsp;</th>\n",
       "      <th class=\"blank col2\" >&nbsp;</th>\n",
       "      <th class=\"blank col3\" >&nbsp;</th>\n",
       "      <th class=\"blank col4\" >&nbsp;</th>\n",
       "      <th class=\"blank col5\" >&nbsp;</th>\n",
       "      <th class=\"blank col6\" >&nbsp;</th>\n",
       "    </tr>\n",
       "  </thead>\n",
       "  <tbody>\n",
       "    <tr>\n",
       "      <th id=\"T_dec73_level0_row0\" class=\"row_heading level0 row0\" >0</th>\n",
       "      <td id=\"T_dec73_row0_col0\" class=\"data row0 col0\" >0.8326</td>\n",
       "      <td id=\"T_dec73_row0_col1\" class=\"data row0 col1\" >0.8807</td>\n",
       "      <td id=\"T_dec73_row0_col2\" class=\"data row0 col2\" >0.6866</td>\n",
       "      <td id=\"T_dec73_row0_col3\" class=\"data row0 col3\" >0.8208</td>\n",
       "      <td id=\"T_dec73_row0_col4\" class=\"data row0 col4\" >0.7477</td>\n",
       "      <td id=\"T_dec73_row0_col5\" class=\"data row0 col5\" >0.6240</td>\n",
       "      <td id=\"T_dec73_row0_col6\" class=\"data row0 col6\" >0.6295</td>\n",
       "    </tr>\n",
       "    <tr>\n",
       "      <th id=\"T_dec73_level0_row1\" class=\"row_heading level0 row1\" >1</th>\n",
       "      <td id=\"T_dec73_row1_col0\" class=\"data row1 col0\" >0.8320</td>\n",
       "      <td id=\"T_dec73_row1_col1\" class=\"data row1 col1\" >0.8856</td>\n",
       "      <td id=\"T_dec73_row1_col2\" class=\"data row1 col2\" >0.6812</td>\n",
       "      <td id=\"T_dec73_row1_col3\" class=\"data row1 col3\" >0.8235</td>\n",
       "      <td id=\"T_dec73_row1_col4\" class=\"data row1 col4\" >0.7456</td>\n",
       "      <td id=\"T_dec73_row1_col5\" class=\"data row1 col5\" >0.6219</td>\n",
       "      <td id=\"T_dec73_row1_col6\" class=\"data row1 col6\" >0.6281</td>\n",
       "    </tr>\n",
       "    <tr>\n",
       "      <th id=\"T_dec73_level0_row2\" class=\"row_heading level0 row2\" >Mean</th>\n",
       "      <td id=\"T_dec73_row2_col0\" class=\"data row2 col0\" >0.8323</td>\n",
       "      <td id=\"T_dec73_row2_col1\" class=\"data row2 col1\" >0.8832</td>\n",
       "      <td id=\"T_dec73_row2_col2\" class=\"data row2 col2\" >0.6839</td>\n",
       "      <td id=\"T_dec73_row2_col3\" class=\"data row2 col3\" >0.8221</td>\n",
       "      <td id=\"T_dec73_row2_col4\" class=\"data row2 col4\" >0.7467</td>\n",
       "      <td id=\"T_dec73_row2_col5\" class=\"data row2 col5\" >0.6229</td>\n",
       "      <td id=\"T_dec73_row2_col6\" class=\"data row2 col6\" >0.6288</td>\n",
       "    </tr>\n",
       "    <tr>\n",
       "      <th id=\"T_dec73_level0_row3\" class=\"row_heading level0 row3\" >Std</th>\n",
       "      <td id=\"T_dec73_row3_col0\" class=\"data row3 col0\" >0.0003</td>\n",
       "      <td id=\"T_dec73_row3_col1\" class=\"data row3 col1\" >0.0025</td>\n",
       "      <td id=\"T_dec73_row3_col2\" class=\"data row3 col2\" >0.0027</td>\n",
       "      <td id=\"T_dec73_row3_col3\" class=\"data row3 col3\" >0.0013</td>\n",
       "      <td id=\"T_dec73_row3_col4\" class=\"data row3 col4\" >0.0011</td>\n",
       "      <td id=\"T_dec73_row3_col5\" class=\"data row3 col5\" >0.0010</td>\n",
       "      <td id=\"T_dec73_row3_col6\" class=\"data row3 col6\" >0.0007</td>\n",
       "    </tr>\n",
       "  </tbody>\n",
       "</table>\n"
      ],
      "text/plain": [
       "<pandas.io.formats.style.Styler at 0x1dd34115ae0>"
      ]
     },
     "metadata": {},
     "output_type": "display_data"
    },
    {
     "data": {
      "text/html": [],
      "text/plain": [
       "<IPython.core.display.HTML object>"
      ]
     },
     "metadata": {},
     "output_type": "display_data"
    },
    {
     "name": "stdout",
     "output_type": "stream",
     "text": [
      "Original model was better than the ensembled model, hence it will be returned. NOTE: The display metrics are for the ensembled model (not the original one).\n"
     ]
    }
   ],
   "source": [
    "prediction_model = ensemble_model(best_model, \n",
    "                                  method = 'Boosting', \n",
    "                                  choose_better = True, \n",
    "                                  fold = 2)"
   ]
  },
  {
   "cell_type": "code",
   "execution_count": 40,
   "metadata": {},
   "outputs": [
    {
     "data": {
      "text/html": [],
      "text/plain": [
       "<IPython.core.display.HTML object>"
      ]
     },
     "metadata": {},
     "output_type": "display_data"
    }
   ],
   "source": [
    "values = predict_model(prediction_model)"
   ]
  },
  {
   "cell_type": "code",
   "execution_count": 41,
   "metadata": {},
   "outputs": [
    {
     "data": {
      "text/html": [
       "<style>#sk-container-id-2 {color: black;background-color: white;}#sk-container-id-2 pre{padding: 0;}#sk-container-id-2 div.sk-toggleable {background-color: white;}#sk-container-id-2 label.sk-toggleable__label {cursor: pointer;display: block;width: 100%;margin-bottom: 0;padding: 0.3em;box-sizing: border-box;text-align: center;}#sk-container-id-2 label.sk-toggleable__label-arrow:before {content: \"▸\";float: left;margin-right: 0.25em;color: #696969;}#sk-container-id-2 label.sk-toggleable__label-arrow:hover:before {color: black;}#sk-container-id-2 div.sk-estimator:hover label.sk-toggleable__label-arrow:before {color: black;}#sk-container-id-2 div.sk-toggleable__content {max-height: 0;max-width: 0;overflow: hidden;text-align: left;background-color: #f0f8ff;}#sk-container-id-2 div.sk-toggleable__content pre {margin: 0.2em;color: black;border-radius: 0.25em;background-color: #f0f8ff;}#sk-container-id-2 input.sk-toggleable__control:checked~div.sk-toggleable__content {max-height: 200px;max-width: 100%;overflow: auto;}#sk-container-id-2 input.sk-toggleable__control:checked~label.sk-toggleable__label-arrow:before {content: \"▾\";}#sk-container-id-2 div.sk-estimator input.sk-toggleable__control:checked~label.sk-toggleable__label {background-color: #d4ebff;}#sk-container-id-2 div.sk-label input.sk-toggleable__control:checked~label.sk-toggleable__label {background-color: #d4ebff;}#sk-container-id-2 input.sk-hidden--visually {border: 0;clip: rect(1px 1px 1px 1px);clip: rect(1px, 1px, 1px, 1px);height: 1px;margin: -1px;overflow: hidden;padding: 0;position: absolute;width: 1px;}#sk-container-id-2 div.sk-estimator {font-family: monospace;background-color: #f0f8ff;border: 1px dotted black;border-radius: 0.25em;box-sizing: border-box;margin-bottom: 0.5em;}#sk-container-id-2 div.sk-estimator:hover {background-color: #d4ebff;}#sk-container-id-2 div.sk-parallel-item::after {content: \"\";width: 100%;border-bottom: 1px solid gray;flex-grow: 1;}#sk-container-id-2 div.sk-label:hover label.sk-toggleable__label {background-color: #d4ebff;}#sk-container-id-2 div.sk-serial::before {content: \"\";position: absolute;border-left: 1px solid gray;box-sizing: border-box;top: 0;bottom: 0;left: 50%;z-index: 0;}#sk-container-id-2 div.sk-serial {display: flex;flex-direction: column;align-items: center;background-color: white;padding-right: 0.2em;padding-left: 0.2em;position: relative;}#sk-container-id-2 div.sk-item {position: relative;z-index: 1;}#sk-container-id-2 div.sk-parallel {display: flex;align-items: stretch;justify-content: center;background-color: white;position: relative;}#sk-container-id-2 div.sk-item::before, #sk-container-id-2 div.sk-parallel-item::before {content: \"\";position: absolute;border-left: 1px solid gray;box-sizing: border-box;top: 0;bottom: 0;left: 50%;z-index: -1;}#sk-container-id-2 div.sk-parallel-item {display: flex;flex-direction: column;z-index: 1;position: relative;background-color: white;}#sk-container-id-2 div.sk-parallel-item:first-child::after {align-self: flex-end;width: 50%;}#sk-container-id-2 div.sk-parallel-item:last-child::after {align-self: flex-start;width: 50%;}#sk-container-id-2 div.sk-parallel-item:only-child::after {width: 0;}#sk-container-id-2 div.sk-dashed-wrapped {border: 1px dashed gray;margin: 0 0.4em 0.5em 0.4em;box-sizing: border-box;padding-bottom: 0.4em;background-color: white;}#sk-container-id-2 div.sk-label label {font-family: monospace;font-weight: bold;display: inline-block;line-height: 1.2em;}#sk-container-id-2 div.sk-label-container {text-align: center;}#sk-container-id-2 div.sk-container {/* jupyter's `normalize.less` sets `[hidden] { display: none; }` but bootstrap.min.css set `[hidden] { display: none !important; }` so we also need the `!important` here to be able to override the default hidden behavior on the sphinx rendered scikit-learn.org. See: https://github.com/scikit-learn/scikit-learn/issues/21755 */display: inline-block !important;position: relative;}#sk-container-id-2 div.sk-text-repr-fallback {display: none;}</style><div id=\"sk-container-id-2\" class=\"sk-top-container\"><div class=\"sk-text-repr-fallback\"><pre>LGBMClassifier(boosting_type=&#x27;gbdt&#x27;, class_weight=None, colsample_bytree=1.0,\n",
       "               importance_type=&#x27;split&#x27;, learning_rate=0.1, max_depth=-1,\n",
       "               min_child_samples=20, min_child_weight=0.001, min_split_gain=0.0,\n",
       "               n_estimators=100, n_jobs=4, num_leaves=31, objective=None,\n",
       "               random_state=123, reg_alpha=0.0, reg_lambda=0.0, subsample=1.0,\n",
       "               subsample_for_bin=200000, subsample_freq=0)</pre><b>In a Jupyter environment, please rerun this cell to show the HTML representation or trust the notebook. <br />On GitHub, the HTML representation is unable to render, please try loading this page with nbviewer.org.</b></div><div class=\"sk-container\" hidden><div class=\"sk-item\"><div class=\"sk-estimator sk-toggleable\"><input class=\"sk-toggleable__control sk-hidden--visually\" id=\"sk-estimator-id-2\" type=\"checkbox\" checked><label for=\"sk-estimator-id-2\" class=\"sk-toggleable__label sk-toggleable__label-arrow\">LGBMClassifier</label><div class=\"sk-toggleable__content\"><pre>LGBMClassifier(boosting_type=&#x27;gbdt&#x27;, class_weight=None, colsample_bytree=1.0,\n",
       "               importance_type=&#x27;split&#x27;, learning_rate=0.1, max_depth=-1,\n",
       "               min_child_samples=20, min_child_weight=0.001, min_split_gain=0.0,\n",
       "               n_estimators=100, n_jobs=4, num_leaves=31, objective=None,\n",
       "               random_state=123, reg_alpha=0.0, reg_lambda=0.0, subsample=1.0,\n",
       "               subsample_for_bin=200000, subsample_freq=0)</pre></div></div></div></div></div>"
      ],
      "text/plain": [
       "LGBMClassifier(boosting_type='gbdt', class_weight=None, colsample_bytree=1.0,\n",
       "               importance_type='split', learning_rate=0.1, max_depth=-1,\n",
       "               min_child_samples=20, min_child_weight=0.001, min_split_gain=0.0,\n",
       "               n_estimators=100, n_jobs=4, num_leaves=31, objective=None,\n",
       "               random_state=123, reg_alpha=0.0, reg_lambda=0.0, subsample=1.0,\n",
       "               subsample_for_bin=200000, subsample_freq=0)"
      ]
     },
     "execution_count": 41,
     "metadata": {},
     "output_type": "execute_result"
    }
   ],
   "source": [
    "best_model"
   ]
  },
  {
   "cell_type": "code",
   "execution_count": 46,
   "metadata": {},
   "outputs": [
    {
     "name": "stdout",
     "output_type": "stream",
     "text": [
      "Transformation Pipeline and Model Successfully Saved\n"
     ]
    },
    {
     "data": {
      "text/plain": [
       "(Pipeline(memory=Memory(location=None),\n",
       "          steps=[('numerical_imputer',\n",
       "                  TransformerWrapper(exclude=None, include=['freq_turma'],\n",
       "                                     transformer=SimpleImputer(add_indicator=False,\n",
       "                                                               copy=True,\n",
       "                                                               fill_value=None,\n",
       "                                                               keep_empty_features=False,\n",
       "                                                               missing_values=nan,\n",
       "                                                               strategy='mean',\n",
       "                                                               verbose='deprecated'))),\n",
       "                 ('categorical_imputer',\n",
       "                  TransformerWrapper(exclude=None,\n",
       "                                     include=['ccr', 'n...\n",
       "                  LGBMClassifier(boosting_type='gbdt', class_weight=None,\n",
       "                                 colsample_bytree=1.0, importance_type='split',\n",
       "                                 learning_rate=0.1, max_depth=-1,\n",
       "                                 min_child_samples=20, min_child_weight=0.001,\n",
       "                                 min_split_gain=0.0, n_estimators=100, n_jobs=4,\n",
       "                                 num_leaves=31, objective=None, random_state=123,\n",
       "                                 reg_alpha=0.0, reg_lambda=0.0, subsample=1.0,\n",
       "                                 subsample_for_bin=200000, subsample_freq=0))],\n",
       "          verbose=False),\n",
       " '../../src/models/LGBMClassifier.pkl')"
      ]
     },
     "execution_count": 46,
     "metadata": {},
     "output_type": "execute_result"
    }
   ],
   "source": [
    "save_model(best_model, '../../src/models/LGBMClassifier')"
   ]
  },
  {
   "cell_type": "markdown",
   "metadata": {},
   "source": [
    "# Predição\n",
    "\n",
    "Caso já tenha executado os passos anteriores, basta executar as celulas abaixo para realizar a predição."
   ]
  },
  {
   "cell_type": "code",
   "execution_count": 47,
   "metadata": {},
   "outputs": [],
   "source": [
    "import ipywidgets as widgets\n",
    "from IPython.display import HTML\n",
    "import pandas as pd\n",
    "from pycaret.classification import predict_model, load_model"
   ]
  },
  {
   "cell_type": "code",
   "execution_count": 54,
   "metadata": {
    "tags": []
   },
   "outputs": [
    {
     "data": {
      "application/vnd.jupyter.widget-view+json": {
       "model_id": "7099306dc6f34a59ad14782a38c671f7",
       "version_major": 2,
       "version_minor": 0
      },
      "text/plain": [
       "HBox(children=(Dropdown(description='CCR:', options=('Algoritmos e programação - GEX003', 'Banco de dados I - …"
      ]
     },
     "execution_count": 54,
     "metadata": {},
     "output_type": "execute_result"
    }
   ],
   "source": [
    "df = pd.read_csv('../../src/output/alunos_final.csv')\n",
    "# create a widget box with dropdown menus with the unique values of the column 'ccr' and nome_docente of alunos_final.csv\n",
    "ccr = widgets.Dropdown(options = df['ccr'].sort_values().unique().tolist(), description='CCR:')\n",
    "nome_docente = widgets.Dropdown(options = df['nome_docente'].sort_values().unique().tolist(), description='Docente:')\n",
    "# frequencia = widgets.Dropdown(options = df['freq_turma'].sort_values().unique().tolist())\n",
    "# frequencia = widgets.BoundedFloatText(value=0.0, min=0.0, max=100.0, step=0.01, description='Frequência:', disabled=False)\n",
    "frequencia = widgets.FloatSlider(value=0.0, min=0.0, max=100.0, step=0.01, description='Frequência:', disabled=False, continuous_update=True, orientation='horizontal', readout=True, readout_format='.2f')\n",
    "\n",
    "# create a widget box\n",
    "widgets.HBox([ccr, nome_docente, frequencia])"
   ]
  },
  {
   "cell_type": "code",
   "execution_count": 65,
   "metadata": {},
   "outputs": [
    {
     "name": "stdout",
     "output_type": "stream",
     "text": [
      "Transformation Pipeline and Model Successfully Loaded\n"
     ]
    },
    {
     "data": {
      "text/html": [],
      "text/plain": [
       "<IPython.core.display.HTML object>"
      ]
     },
     "metadata": {},
     "output_type": "display_data"
    }
   ],
   "source": [
    "# create a json file with the values of the dropdown menus\n",
    "input_data = {\n",
    "    'ccr': ccr.value,\n",
    "    'nome_docente': nome_docente.value,\n",
    "    'freq_turma': frequencia.value\n",
    "}\n",
    "\n",
    "prediction_model = load_model('../../src/models/LGBMClassifier')\n",
    "\n",
    "input_data = pd.DataFrame([input_data])\n",
    "\n",
    "# with open('../src/input/test.json', encoding='utf-8') as f:\n",
    "#     test = pd.DataFrame(json.load(f), index=[0])\n",
    "    \n",
    "new_prediction = predict_model(prediction_model, data=input_data)\n",
    "\n",
    "# rename the column 'prediction_label' to 'status' and put in index 0 using insert and pop method\n",
    "new_prediction.insert(0, 'status', new_prediction.pop('prediction_label'))\n"
   ]
  },
  {
   "cell_type": "code",
   "execution_count": 66,
   "metadata": {},
   "outputs": [
    {
     "data": {
      "text/html": [
       "<table border=\"1\" class=\"dataframe\">\n",
       "  <thead>\n",
       "    <tr style=\"text-align: right;\">\n",
       "      <th>status</th>\n",
       "      <th>ccr</th>\n",
       "      <th>nome_docente</th>\n",
       "      <th>freq_turma</th>\n",
       "      <th>prediction_score</th>\n",
       "    </tr>\n",
       "  </thead>\n",
       "  <tbody>\n",
       "    <tr>\n",
       "      <td>0</td>\n",
       "      <td>Cálculo II - GEX392</td>\n",
       "      <td>EDSON RIBEIRO DOS SANTOS (60)</td>\n",
       "      <td>100.0</td>\n",
       "      <td>0.6957</td>\n",
       "    </tr>\n",
       "  </tbody>\n",
       "</table>"
      ],
      "text/plain": [
       "<IPython.core.display.HTML object>"
      ]
     },
     "execution_count": 66,
     "metadata": {},
     "output_type": "execute_result"
    }
   ],
   "source": [
    "HTML(new_prediction.to_html(index=False))"
   ]
  }
 ],
 "metadata": {
  "kernelspec": {
   "display_name": ".venv",
   "language": "python",
   "name": "python3"
  },
  "language_info": {
   "codemirror_mode": {
    "name": "ipython",
    "version": 3
   },
   "file_extension": ".py",
   "mimetype": "text/x-python",
   "name": "python",
   "nbconvert_exporter": "python",
   "pygments_lexer": "ipython3",
   "version": "3.10.11"
  }
 },
 "nbformat": 4,
 "nbformat_minor": 2
}
