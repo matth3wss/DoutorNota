{
 "cells": [
  {
   "cell_type": "markdown",
   "metadata": {
    "slideshow": {
     "slide_type": "skip"
    }
   },
   "source": [
    "# Moldel Training"
   ]
  },
  {
   "cell_type": "code",
   "execution_count": 5,
   "metadata": {
    "slideshow": {
     "slide_type": "skip"
    }
   },
   "outputs": [],
   "source": [
    "import pandas as pd\n",
    "import pycaret.classification as pc"
   ]
  },
  {
   "cell_type": "code",
   "execution_count": 6,
   "metadata": {
    "slideshow": {
     "slide_type": "skip"
    }
   },
   "outputs": [
    {
     "data": {
      "text/html": [
       "<div>\n",
       "<style scoped>\n",
       "    .dataframe tbody tr th:only-of-type {\n",
       "        vertical-align: middle;\n",
       "    }\n",
       "\n",
       "    .dataframe tbody tr th {\n",
       "        vertical-align: top;\n",
       "    }\n",
       "\n",
       "    .dataframe thead th {\n",
       "        text-align: right;\n",
       "    }\n",
       "</style>\n",
       "<table border=\"1\" class=\"dataframe\">\n",
       "  <thead>\n",
       "    <tr style=\"text-align: right;\">\n",
       "      <th></th>\n",
       "      <th>status</th>\n",
       "      <th>ccr</th>\n",
       "      <th>nome_docente</th>\n",
       "      <th>freq_turma</th>\n",
       "      <th>turno</th>\n",
       "    </tr>\n",
       "  </thead>\n",
       "  <tbody>\n",
       "    <tr>\n",
       "      <th>0</th>\n",
       "      <td>1</td>\n",
       "      <td>Algebra linear - GEX607</td>\n",
       "      <td>ANTONIO MARCOS CORREA NERI</td>\n",
       "      <td>91.67</td>\n",
       "      <td>NOTURNO</td>\n",
       "    </tr>\n",
       "  </tbody>\n",
       "</table>\n",
       "</div>"
      ],
      "text/plain": [
       "   status                      ccr                nome_docente  freq_turma  \\\n",
       "0       1  Algebra linear - GEX607  ANTONIO MARCOS CORREA NERI       91.67   \n",
       "\n",
       "     turno  \n",
       "0  NOTURNO  "
      ]
     },
     "execution_count": 6,
     "metadata": {},
     "output_type": "execute_result"
    }
   ],
   "source": [
    "df = pd.read_csv('../../src/output/alunos_final.csv')\n",
    "df.head(1)"
   ]
  },
  {
   "cell_type": "code",
   "execution_count": 7,
   "metadata": {},
   "outputs": [
    {
     "data": {
      "text/html": [
       "<style type=\"text/css\">\n",
       "#T_4c875_row10_col1, #T_4c875_row16_col1 {\n",
       "  background-color: lightgreen;\n",
       "}\n",
       "</style>\n",
       "<table id=\"T_4c875\">\n",
       "  <thead>\n",
       "    <tr>\n",
       "      <th class=\"blank level0\" >&nbsp;</th>\n",
       "      <th id=\"T_4c875_level0_col0\" class=\"col_heading level0 col0\" >Description</th>\n",
       "      <th id=\"T_4c875_level0_col1\" class=\"col_heading level0 col1\" >Value</th>\n",
       "    </tr>\n",
       "  </thead>\n",
       "  <tbody>\n",
       "    <tr>\n",
       "      <th id=\"T_4c875_level0_row0\" class=\"row_heading level0 row0\" >0</th>\n",
       "      <td id=\"T_4c875_row0_col0\" class=\"data row0 col0\" >Session id</td>\n",
       "      <td id=\"T_4c875_row0_col1\" class=\"data row0 col1\" >123</td>\n",
       "    </tr>\n",
       "    <tr>\n",
       "      <th id=\"T_4c875_level0_row1\" class=\"row_heading level0 row1\" >1</th>\n",
       "      <td id=\"T_4c875_row1_col0\" class=\"data row1 col0\" >Target</td>\n",
       "      <td id=\"T_4c875_row1_col1\" class=\"data row1 col1\" >status</td>\n",
       "    </tr>\n",
       "    <tr>\n",
       "      <th id=\"T_4c875_level0_row2\" class=\"row_heading level0 row2\" >2</th>\n",
       "      <td id=\"T_4c875_row2_col0\" class=\"data row2 col0\" >Target type</td>\n",
       "      <td id=\"T_4c875_row2_col1\" class=\"data row2 col1\" >Binary</td>\n",
       "    </tr>\n",
       "    <tr>\n",
       "      <th id=\"T_4c875_level0_row3\" class=\"row_heading level0 row3\" >3</th>\n",
       "      <td id=\"T_4c875_row3_col0\" class=\"data row3 col0\" >Original data shape</td>\n",
       "      <td id=\"T_4c875_row3_col1\" class=\"data row3 col1\" >(18148, 5)</td>\n",
       "    </tr>\n",
       "    <tr>\n",
       "      <th id=\"T_4c875_level0_row4\" class=\"row_heading level0 row4\" >4</th>\n",
       "      <td id=\"T_4c875_row4_col0\" class=\"data row4 col0\" >Transformed data shape</td>\n",
       "      <td id=\"T_4c875_row4_col1\" class=\"data row4 col1\" >(17249, 5)</td>\n",
       "    </tr>\n",
       "    <tr>\n",
       "      <th id=\"T_4c875_level0_row5\" class=\"row_heading level0 row5\" >5</th>\n",
       "      <td id=\"T_4c875_row5_col0\" class=\"data row5 col0\" >Transformed train set shape</td>\n",
       "      <td id=\"T_4c875_row5_col1\" class=\"data row5 col1\" >(17067, 5)</td>\n",
       "    </tr>\n",
       "    <tr>\n",
       "      <th id=\"T_4c875_level0_row6\" class=\"row_heading level0 row6\" >6</th>\n",
       "      <td id=\"T_4c875_row6_col0\" class=\"data row6 col0\" >Transformed test set shape</td>\n",
       "      <td id=\"T_4c875_row6_col1\" class=\"data row6 col1\" >(182, 5)</td>\n",
       "    </tr>\n",
       "    <tr>\n",
       "      <th id=\"T_4c875_level0_row7\" class=\"row_heading level0 row7\" >7</th>\n",
       "      <td id=\"T_4c875_row7_col0\" class=\"data row7 col0\" >Ordinal features</td>\n",
       "      <td id=\"T_4c875_row7_col1\" class=\"data row7 col1\" >1</td>\n",
       "    </tr>\n",
       "    <tr>\n",
       "      <th id=\"T_4c875_level0_row8\" class=\"row_heading level0 row8\" >8</th>\n",
       "      <td id=\"T_4c875_row8_col0\" class=\"data row8 col0\" >Numeric features</td>\n",
       "      <td id=\"T_4c875_row8_col1\" class=\"data row8 col1\" >1</td>\n",
       "    </tr>\n",
       "    <tr>\n",
       "      <th id=\"T_4c875_level0_row9\" class=\"row_heading level0 row9\" >9</th>\n",
       "      <td id=\"T_4c875_row9_col0\" class=\"data row9 col0\" >Categorical features</td>\n",
       "      <td id=\"T_4c875_row9_col1\" class=\"data row9 col1\" >3</td>\n",
       "    </tr>\n",
       "    <tr>\n",
       "      <th id=\"T_4c875_level0_row10\" class=\"row_heading level0 row10\" >10</th>\n",
       "      <td id=\"T_4c875_row10_col0\" class=\"data row10 col0\" >Preprocess</td>\n",
       "      <td id=\"T_4c875_row10_col1\" class=\"data row10 col1\" >True</td>\n",
       "    </tr>\n",
       "    <tr>\n",
       "      <th id=\"T_4c875_level0_row11\" class=\"row_heading level0 row11\" >11</th>\n",
       "      <td id=\"T_4c875_row11_col0\" class=\"data row11 col0\" >Imputation type</td>\n",
       "      <td id=\"T_4c875_row11_col1\" class=\"data row11 col1\" >simple</td>\n",
       "    </tr>\n",
       "    <tr>\n",
       "      <th id=\"T_4c875_level0_row12\" class=\"row_heading level0 row12\" >12</th>\n",
       "      <td id=\"T_4c875_row12_col0\" class=\"data row12 col0\" >Numeric imputation</td>\n",
       "      <td id=\"T_4c875_row12_col1\" class=\"data row12 col1\" >mean</td>\n",
       "    </tr>\n",
       "    <tr>\n",
       "      <th id=\"T_4c875_level0_row13\" class=\"row_heading level0 row13\" >13</th>\n",
       "      <td id=\"T_4c875_row13_col0\" class=\"data row13 col0\" >Categorical imputation</td>\n",
       "      <td id=\"T_4c875_row13_col1\" class=\"data row13 col1\" >mode</td>\n",
       "    </tr>\n",
       "    <tr>\n",
       "      <th id=\"T_4c875_level0_row14\" class=\"row_heading level0 row14\" >14</th>\n",
       "      <td id=\"T_4c875_row14_col0\" class=\"data row14 col0\" >Maximum one-hot encoding</td>\n",
       "      <td id=\"T_4c875_row14_col1\" class=\"data row14 col1\" >25</td>\n",
       "    </tr>\n",
       "    <tr>\n",
       "      <th id=\"T_4c875_level0_row15\" class=\"row_heading level0 row15\" >15</th>\n",
       "      <td id=\"T_4c875_row15_col0\" class=\"data row15 col0\" >Encoding method</td>\n",
       "      <td id=\"T_4c875_row15_col1\" class=\"data row15 col1\" >None</td>\n",
       "    </tr>\n",
       "    <tr>\n",
       "      <th id=\"T_4c875_level0_row16\" class=\"row_heading level0 row16\" >16</th>\n",
       "      <td id=\"T_4c875_row16_col0\" class=\"data row16 col0\" >Remove outliers</td>\n",
       "      <td id=\"T_4c875_row16_col1\" class=\"data row16 col1\" >True</td>\n",
       "    </tr>\n",
       "    <tr>\n",
       "      <th id=\"T_4c875_level0_row17\" class=\"row_heading level0 row17\" >17</th>\n",
       "      <td id=\"T_4c875_row17_col0\" class=\"data row17 col0\" >Outliers threshold</td>\n",
       "      <td id=\"T_4c875_row17_col1\" class=\"data row17 col1\" >0.050000</td>\n",
       "    </tr>\n",
       "    <tr>\n",
       "      <th id=\"T_4c875_level0_row18\" class=\"row_heading level0 row18\" >18</th>\n",
       "      <td id=\"T_4c875_row18_col0\" class=\"data row18 col0\" >Fold Generator</td>\n",
       "      <td id=\"T_4c875_row18_col1\" class=\"data row18 col1\" >StratifiedKFold</td>\n",
       "    </tr>\n",
       "    <tr>\n",
       "      <th id=\"T_4c875_level0_row19\" class=\"row_heading level0 row19\" >19</th>\n",
       "      <td id=\"T_4c875_row19_col0\" class=\"data row19 col0\" >Fold Number</td>\n",
       "      <td id=\"T_4c875_row19_col1\" class=\"data row19 col1\" >10</td>\n",
       "    </tr>\n",
       "    <tr>\n",
       "      <th id=\"T_4c875_level0_row20\" class=\"row_heading level0 row20\" >20</th>\n",
       "      <td id=\"T_4c875_row20_col0\" class=\"data row20 col0\" >CPU Jobs</td>\n",
       "      <td id=\"T_4c875_row20_col1\" class=\"data row20 col1\" >4</td>\n",
       "    </tr>\n",
       "    <tr>\n",
       "      <th id=\"T_4c875_level0_row21\" class=\"row_heading level0 row21\" >21</th>\n",
       "      <td id=\"T_4c875_row21_col0\" class=\"data row21 col0\" >Use GPU</td>\n",
       "      <td id=\"T_4c875_row21_col1\" class=\"data row21 col1\" >False</td>\n",
       "    </tr>\n",
       "    <tr>\n",
       "      <th id=\"T_4c875_level0_row22\" class=\"row_heading level0 row22\" >22</th>\n",
       "      <td id=\"T_4c875_row22_col0\" class=\"data row22 col0\" >Log Experiment</td>\n",
       "      <td id=\"T_4c875_row22_col1\" class=\"data row22 col1\" >False</td>\n",
       "    </tr>\n",
       "    <tr>\n",
       "      <th id=\"T_4c875_level0_row23\" class=\"row_heading level0 row23\" >23</th>\n",
       "      <td id=\"T_4c875_row23_col0\" class=\"data row23 col0\" >Experiment Name</td>\n",
       "      <td id=\"T_4c875_row23_col1\" class=\"data row23 col1\" >clf-default-name</td>\n",
       "    </tr>\n",
       "    <tr>\n",
       "      <th id=\"T_4c875_level0_row24\" class=\"row_heading level0 row24\" >24</th>\n",
       "      <td id=\"T_4c875_row24_col0\" class=\"data row24 col0\" >USI</td>\n",
       "      <td id=\"T_4c875_row24_col1\" class=\"data row24 col1\" >aa36</td>\n",
       "    </tr>\n",
       "  </tbody>\n",
       "</table>\n"
      ],
      "text/plain": [
       "<pandas.io.formats.style.Styler at 0x1820976c190>"
      ]
     },
     "metadata": {},
     "output_type": "display_data"
    }
   ],
   "source": [
    "s = pc.setup(df, target='status', \n",
    "          iterative_imputation_iters=10, \n",
    "          session_id=123,  \n",
    "          train_size=0.99, \n",
    "          remove_outliers=True, \n",
    "          outliers_method='iforest',\n",
    "          categorical_features=['ccr', 'nome_docente', 'turno'],\n",
    "          numeric_features=['freq_turma'],\n",
    "          fold_strategy='stratifiedkfold',\n",
    "          fold=10,\n",
    "          fold_shuffle=True,\n",
    "          n_jobs=4,\n",
    "          ) # use_gpu=True,"
   ]
  },
  {
   "cell_type": "code",
   "execution_count": 8,
   "metadata": {},
   "outputs": [
    {
     "data": {
      "text/html": [],
      "text/plain": [
       "<IPython.core.display.HTML object>"
      ]
     },
     "metadata": {},
     "output_type": "display_data"
    },
    {
     "data": {
      "text/html": [
       "<style type=\"text/css\">\n",
       "#T_99db3_row10_col0, #T_99db3_row10_col1, #T_99db3_row10_col2, #T_99db3_row10_col3, #T_99db3_row10_col4, #T_99db3_row10_col5, #T_99db3_row10_col6 {\n",
       "  background: yellow;\n",
       "}\n",
       "</style>\n",
       "<table id=\"T_99db3\">\n",
       "  <thead>\n",
       "    <tr>\n",
       "      <th class=\"blank level0\" >&nbsp;</th>\n",
       "      <th id=\"T_99db3_level0_col0\" class=\"col_heading level0 col0\" >Accuracy</th>\n",
       "      <th id=\"T_99db3_level0_col1\" class=\"col_heading level0 col1\" >AUC</th>\n",
       "      <th id=\"T_99db3_level0_col2\" class=\"col_heading level0 col2\" >Recall</th>\n",
       "      <th id=\"T_99db3_level0_col3\" class=\"col_heading level0 col3\" >Prec.</th>\n",
       "      <th id=\"T_99db3_level0_col4\" class=\"col_heading level0 col4\" >F1</th>\n",
       "      <th id=\"T_99db3_level0_col5\" class=\"col_heading level0 col5\" >Kappa</th>\n",
       "      <th id=\"T_99db3_level0_col6\" class=\"col_heading level0 col6\" >MCC</th>\n",
       "    </tr>\n",
       "    <tr>\n",
       "      <th class=\"index_name level0\" >Fold</th>\n",
       "      <th class=\"blank col0\" >&nbsp;</th>\n",
       "      <th class=\"blank col1\" >&nbsp;</th>\n",
       "      <th class=\"blank col2\" >&nbsp;</th>\n",
       "      <th class=\"blank col3\" >&nbsp;</th>\n",
       "      <th class=\"blank col4\" >&nbsp;</th>\n",
       "      <th class=\"blank col5\" >&nbsp;</th>\n",
       "      <th class=\"blank col6\" >&nbsp;</th>\n",
       "    </tr>\n",
       "  </thead>\n",
       "  <tbody>\n",
       "    <tr>\n",
       "      <th id=\"T_99db3_level0_row0\" class=\"row_heading level0 row0\" >0</th>\n",
       "      <td id=\"T_99db3_row0_col0\" class=\"data row0 col0\" >0.8575</td>\n",
       "      <td id=\"T_99db3_row0_col1\" class=\"data row0 col1\" >0.9390</td>\n",
       "      <td id=\"T_99db3_row0_col2\" class=\"data row0 col2\" >0.7385</td>\n",
       "      <td id=\"T_99db3_row0_col3\" class=\"data row0 col3\" >0.8741</td>\n",
       "      <td id=\"T_99db3_row0_col4\" class=\"data row0 col4\" >0.8006</td>\n",
       "      <td id=\"T_99db3_row0_col5\" class=\"data row0 col5\" >0.6910</td>\n",
       "      <td id=\"T_99db3_row0_col6\" class=\"data row0 col6\" >0.6970</td>\n",
       "    </tr>\n",
       "    <tr>\n",
       "      <th id=\"T_99db3_level0_row1\" class=\"row_heading level0 row1\" >1</th>\n",
       "      <td id=\"T_99db3_row1_col0\" class=\"data row1 col0\" >0.8587</td>\n",
       "      <td id=\"T_99db3_row1_col1\" class=\"data row1 col1\" >0.9415</td>\n",
       "      <td id=\"T_99db3_row1_col2\" class=\"data row1 col2\" >0.7543</td>\n",
       "      <td id=\"T_99db3_row1_col3\" class=\"data row1 col3\" >0.8635</td>\n",
       "      <td id=\"T_99db3_row1_col4\" class=\"data row1 col4\" >0.8052</td>\n",
       "      <td id=\"T_99db3_row1_col5\" class=\"data row1 col5\" >0.6951</td>\n",
       "      <td id=\"T_99db3_row1_col6\" class=\"data row1 col6\" >0.6990</td>\n",
       "    </tr>\n",
       "    <tr>\n",
       "      <th id=\"T_99db3_level0_row2\" class=\"row_heading level0 row2\" >2</th>\n",
       "      <td id=\"T_99db3_row2_col0\" class=\"data row2 col0\" >0.8687</td>\n",
       "      <td id=\"T_99db3_row2_col1\" class=\"data row2 col1\" >0.9408</td>\n",
       "      <td id=\"T_99db3_row2_col2\" class=\"data row2 col2\" >0.7759</td>\n",
       "      <td id=\"T_99db3_row2_col3\" class=\"data row2 col3\" >0.8710</td>\n",
       "      <td id=\"T_99db3_row2_col4\" class=\"data row2 col4\" >0.8207</td>\n",
       "      <td id=\"T_99db3_row2_col5\" class=\"data row2 col5\" >0.7176</td>\n",
       "      <td id=\"T_99db3_row2_col6\" class=\"data row2 col6\" >0.7206</td>\n",
       "    </tr>\n",
       "    <tr>\n",
       "      <th id=\"T_99db3_level0_row3\" class=\"row_heading level0 row3\" >3</th>\n",
       "      <td id=\"T_99db3_row3_col0\" class=\"data row3 col0\" >0.8531</td>\n",
       "      <td id=\"T_99db3_row3_col1\" class=\"data row3 col1\" >0.9350</td>\n",
       "      <td id=\"T_99db3_row3_col2\" class=\"data row3 col2\" >0.7446</td>\n",
       "      <td id=\"T_99db3_row3_col3\" class=\"data row3 col3\" >0.8579</td>\n",
       "      <td id=\"T_99db3_row3_col4\" class=\"data row3 col4\" >0.7972</td>\n",
       "      <td id=\"T_99db3_row3_col5\" class=\"data row3 col5\" >0.6830</td>\n",
       "      <td id=\"T_99db3_row3_col6\" class=\"data row3 col6\" >0.6872</td>\n",
       "    </tr>\n",
       "    <tr>\n",
       "      <th id=\"T_99db3_level0_row4\" class=\"row_heading level0 row4\" >4</th>\n",
       "      <td id=\"T_99db3_row4_col0\" class=\"data row4 col0\" >0.8631</td>\n",
       "      <td id=\"T_99db3_row4_col1\" class=\"data row4 col1\" >0.9399</td>\n",
       "      <td id=\"T_99db3_row4_col2\" class=\"data row4 col2\" >0.7618</td>\n",
       "      <td id=\"T_99db3_row4_col3\" class=\"data row4 col3\" >0.8691</td>\n",
       "      <td id=\"T_99db3_row4_col4\" class=\"data row4 col4\" >0.8119</td>\n",
       "      <td id=\"T_99db3_row4_col5\" class=\"data row4 col5\" >0.7050</td>\n",
       "      <td id=\"T_99db3_row4_col6\" class=\"data row4 col6\" >0.7088</td>\n",
       "    </tr>\n",
       "    <tr>\n",
       "      <th id=\"T_99db3_level0_row5\" class=\"row_heading level0 row5\" >5</th>\n",
       "      <td id=\"T_99db3_row5_col0\" class=\"data row5 col0\" >0.8564</td>\n",
       "      <td id=\"T_99db3_row5_col1\" class=\"data row5 col1\" >0.9390</td>\n",
       "      <td id=\"T_99db3_row5_col2\" class=\"data row5 col2\" >0.7403</td>\n",
       "      <td id=\"T_99db3_row5_col3\" class=\"data row5 col3\" >0.8702</td>\n",
       "      <td id=\"T_99db3_row5_col4\" class=\"data row5 col4\" >0.8000</td>\n",
       "      <td id=\"T_99db3_row5_col5\" class=\"data row5 col5\" >0.6892</td>\n",
       "      <td id=\"T_99db3_row5_col6\" class=\"data row5 col6\" >0.6946</td>\n",
       "    </tr>\n",
       "    <tr>\n",
       "      <th id=\"T_99db3_level0_row6\" class=\"row_heading level0 row6\" >6</th>\n",
       "      <td id=\"T_99db3_row6_col0\" class=\"data row6 col0\" >0.8497</td>\n",
       "      <td id=\"T_99db3_row6_col1\" class=\"data row6 col1\" >0.9329</td>\n",
       "      <td id=\"T_99db3_row6_col2\" class=\"data row6 col2\" >0.7443</td>\n",
       "      <td id=\"T_99db3_row6_col3\" class=\"data row6 col3\" >0.8492</td>\n",
       "      <td id=\"T_99db3_row6_col4\" class=\"data row6 col4\" >0.7933</td>\n",
       "      <td id=\"T_99db3_row6_col5\" class=\"data row6 col5\" >0.6760</td>\n",
       "      <td id=\"T_99db3_row6_col6\" class=\"data row6 col6\" >0.6796</td>\n",
       "    </tr>\n",
       "    <tr>\n",
       "      <th id=\"T_99db3_level0_row7\" class=\"row_heading level0 row7\" >7</th>\n",
       "      <td id=\"T_99db3_row7_col0\" class=\"data row7 col0\" >0.8703</td>\n",
       "      <td id=\"T_99db3_row7_col1\" class=\"data row7 col1\" >0.9465</td>\n",
       "      <td id=\"T_99db3_row7_col2\" class=\"data row7 col2\" >0.7902</td>\n",
       "      <td id=\"T_99db3_row7_col3\" class=\"data row7 col3\" >0.8634</td>\n",
       "      <td id=\"T_99db3_row7_col4\" class=\"data row7 col4\" >0.8252</td>\n",
       "      <td id=\"T_99db3_row7_col5\" class=\"data row7 col5\" >0.7224</td>\n",
       "      <td id=\"T_99db3_row7_col6\" class=\"data row7 col6\" >0.7242</td>\n",
       "    </tr>\n",
       "    <tr>\n",
       "      <th id=\"T_99db3_level0_row8\" class=\"row_heading level0 row8\" >8</th>\n",
       "      <td id=\"T_99db3_row8_col0\" class=\"data row8 col0\" >0.8630</td>\n",
       "      <td id=\"T_99db3_row8_col1\" class=\"data row8 col1\" >0.9358</td>\n",
       "      <td id=\"T_99db3_row8_col2\" class=\"data row8 col2\" >0.7500</td>\n",
       "      <td id=\"T_99db3_row8_col3\" class=\"data row8 col3\" >0.8788</td>\n",
       "      <td id=\"T_99db3_row8_col4\" class=\"data row8 col4\" >0.8093</td>\n",
       "      <td id=\"T_99db3_row8_col5\" class=\"data row8 col5\" >0.7035</td>\n",
       "      <td id=\"T_99db3_row8_col6\" class=\"data row8 col6\" >0.7089</td>\n",
       "    </tr>\n",
       "    <tr>\n",
       "      <th id=\"T_99db3_level0_row9\" class=\"row_heading level0 row9\" >9</th>\n",
       "      <td id=\"T_99db3_row9_col0\" class=\"data row9 col0\" >0.8708</td>\n",
       "      <td id=\"T_99db3_row9_col1\" class=\"data row9 col1\" >0.9484</td>\n",
       "      <td id=\"T_99db3_row9_col2\" class=\"data row9 col2\" >0.7902</td>\n",
       "      <td id=\"T_99db3_row9_col3\" class=\"data row9 col3\" >0.8648</td>\n",
       "      <td id=\"T_99db3_row9_col4\" class=\"data row9 col4\" >0.8258</td>\n",
       "      <td id=\"T_99db3_row9_col5\" class=\"data row9 col5\" >0.7235</td>\n",
       "      <td id=\"T_99db3_row9_col6\" class=\"data row9 col6\" >0.7254</td>\n",
       "    </tr>\n",
       "    <tr>\n",
       "      <th id=\"T_99db3_level0_row10\" class=\"row_heading level0 row10\" >Mean</th>\n",
       "      <td id=\"T_99db3_row10_col0\" class=\"data row10 col0\" >0.8611</td>\n",
       "      <td id=\"T_99db3_row10_col1\" class=\"data row10 col1\" >0.9399</td>\n",
       "      <td id=\"T_99db3_row10_col2\" class=\"data row10 col2\" >0.7590</td>\n",
       "      <td id=\"T_99db3_row10_col3\" class=\"data row10 col3\" >0.8662</td>\n",
       "      <td id=\"T_99db3_row10_col4\" class=\"data row10 col4\" >0.8089</td>\n",
       "      <td id=\"T_99db3_row10_col5\" class=\"data row10 col5\" >0.7006</td>\n",
       "      <td id=\"T_99db3_row10_col6\" class=\"data row10 col6\" >0.7045</td>\n",
       "    </tr>\n",
       "    <tr>\n",
       "      <th id=\"T_99db3_level0_row11\" class=\"row_heading level0 row11\" >Std</th>\n",
       "      <td id=\"T_99db3_row11_col0\" class=\"data row11 col0\" >0.0069</td>\n",
       "      <td id=\"T_99db3_row11_col1\" class=\"data row11 col1\" >0.0046</td>\n",
       "      <td id=\"T_99db3_row11_col2\" class=\"data row11 col2\" >0.0188</td>\n",
       "      <td id=\"T_99db3_row11_col3\" class=\"data row11 col3\" >0.0080</td>\n",
       "      <td id=\"T_99db3_row11_col4\" class=\"data row11 col4\" >0.0111</td>\n",
       "      <td id=\"T_99db3_row11_col5\" class=\"data row11 col5\" >0.0158</td>\n",
       "      <td id=\"T_99db3_row11_col6\" class=\"data row11 col6\" >0.0149</td>\n",
       "    </tr>\n",
       "  </tbody>\n",
       "</table>\n"
      ],
      "text/plain": [
       "<pandas.io.formats.style.Styler at 0x1820994d2d0>"
      ]
     },
     "metadata": {},
     "output_type": "display_data"
    },
    {
     "data": {
      "text/html": [],
      "text/plain": [
       "<IPython.core.display.HTML object>"
      ]
     },
     "metadata": {},
     "output_type": "display_data"
    }
   ],
   "source": [
    "lightgbm = pc.create_model('lightgbm')"
   ]
  },
  {
   "cell_type": "code",
   "execution_count": 9,
   "metadata": {},
   "outputs": [
    {
     "data": {
      "application/vnd.jupyter.widget-view+json": {
       "model_id": "65082d643c02419785d25283e5b3d70c",
       "version_major": 2,
       "version_minor": 0
      },
      "text/plain": [
       "interactive(children=(ToggleButtons(description='Plot Type:', icons=('',), options=(('Pipeline Plot', 'pipelin…"
      ]
     },
     "metadata": {},
     "output_type": "display_data"
    },
    {
     "data": {
      "text/html": [
       "<style>#sk-container-id-1 {color: black;background-color: white;}#sk-container-id-1 pre{padding: 0;}#sk-container-id-1 div.sk-toggleable {background-color: white;}#sk-container-id-1 label.sk-toggleable__label {cursor: pointer;display: block;width: 100%;margin-bottom: 0;padding: 0.3em;box-sizing: border-box;text-align: center;}#sk-container-id-1 label.sk-toggleable__label-arrow:before {content: \"▸\";float: left;margin-right: 0.25em;color: #696969;}#sk-container-id-1 label.sk-toggleable__label-arrow:hover:before {color: black;}#sk-container-id-1 div.sk-estimator:hover label.sk-toggleable__label-arrow:before {color: black;}#sk-container-id-1 div.sk-toggleable__content {max-height: 0;max-width: 0;overflow: hidden;text-align: left;background-color: #f0f8ff;}#sk-container-id-1 div.sk-toggleable__content pre {margin: 0.2em;color: black;border-radius: 0.25em;background-color: #f0f8ff;}#sk-container-id-1 input.sk-toggleable__control:checked~div.sk-toggleable__content {max-height: 200px;max-width: 100%;overflow: auto;}#sk-container-id-1 input.sk-toggleable__control:checked~label.sk-toggleable__label-arrow:before {content: \"▾\";}#sk-container-id-1 div.sk-estimator input.sk-toggleable__control:checked~label.sk-toggleable__label {background-color: #d4ebff;}#sk-container-id-1 div.sk-label input.sk-toggleable__control:checked~label.sk-toggleable__label {background-color: #d4ebff;}#sk-container-id-1 input.sk-hidden--visually {border: 0;clip: rect(1px 1px 1px 1px);clip: rect(1px, 1px, 1px, 1px);height: 1px;margin: -1px;overflow: hidden;padding: 0;position: absolute;width: 1px;}#sk-container-id-1 div.sk-estimator {font-family: monospace;background-color: #f0f8ff;border: 1px dotted black;border-radius: 0.25em;box-sizing: border-box;margin-bottom: 0.5em;}#sk-container-id-1 div.sk-estimator:hover {background-color: #d4ebff;}#sk-container-id-1 div.sk-parallel-item::after {content: \"\";width: 100%;border-bottom: 1px solid gray;flex-grow: 1;}#sk-container-id-1 div.sk-label:hover label.sk-toggleable__label {background-color: #d4ebff;}#sk-container-id-1 div.sk-serial::before {content: \"\";position: absolute;border-left: 1px solid gray;box-sizing: border-box;top: 0;bottom: 0;left: 50%;z-index: 0;}#sk-container-id-1 div.sk-serial {display: flex;flex-direction: column;align-items: center;background-color: white;padding-right: 0.2em;padding-left: 0.2em;position: relative;}#sk-container-id-1 div.sk-item {position: relative;z-index: 1;}#sk-container-id-1 div.sk-parallel {display: flex;align-items: stretch;justify-content: center;background-color: white;position: relative;}#sk-container-id-1 div.sk-item::before, #sk-container-id-1 div.sk-parallel-item::before {content: \"\";position: absolute;border-left: 1px solid gray;box-sizing: border-box;top: 0;bottom: 0;left: 50%;z-index: -1;}#sk-container-id-1 div.sk-parallel-item {display: flex;flex-direction: column;z-index: 1;position: relative;background-color: white;}#sk-container-id-1 div.sk-parallel-item:first-child::after {align-self: flex-end;width: 50%;}#sk-container-id-1 div.sk-parallel-item:last-child::after {align-self: flex-start;width: 50%;}#sk-container-id-1 div.sk-parallel-item:only-child::after {width: 0;}#sk-container-id-1 div.sk-dashed-wrapped {border: 1px dashed gray;margin: 0 0.4em 0.5em 0.4em;box-sizing: border-box;padding-bottom: 0.4em;background-color: white;}#sk-container-id-1 div.sk-label label {font-family: monospace;font-weight: bold;display: inline-block;line-height: 1.2em;}#sk-container-id-1 div.sk-label-container {text-align: center;}#sk-container-id-1 div.sk-container {/* jupyter's `normalize.less` sets `[hidden] { display: none; }` but bootstrap.min.css set `[hidden] { display: none !important; }` so we also need the `!important` here to be able to override the default hidden behavior on the sphinx rendered scikit-learn.org. See: https://github.com/scikit-learn/scikit-learn/issues/21755 */display: inline-block !important;position: relative;}#sk-container-id-1 div.sk-text-repr-fallback {display: none;}</style><div id=\"sk-container-id-1\" class=\"sk-top-container\"><div class=\"sk-text-repr-fallback\"><pre>LGBMClassifier(boosting_type=&#x27;gbdt&#x27;, class_weight=None, colsample_bytree=1.0,\n",
       "               importance_type=&#x27;split&#x27;, learning_rate=0.1, max_depth=-1,\n",
       "               min_child_samples=20, min_child_weight=0.001, min_split_gain=0.0,\n",
       "               n_estimators=100, n_jobs=4, num_leaves=31, objective=None,\n",
       "               random_state=123, reg_alpha=0.0, reg_lambda=0.0, subsample=1.0,\n",
       "               subsample_for_bin=200000, subsample_freq=0)</pre><b>In a Jupyter environment, please rerun this cell to show the HTML representation or trust the notebook. <br />On GitHub, the HTML representation is unable to render, please try loading this page with nbviewer.org.</b></div><div class=\"sk-container\" hidden><div class=\"sk-item\"><div class=\"sk-estimator sk-toggleable\"><input class=\"sk-toggleable__control sk-hidden--visually\" id=\"sk-estimator-id-1\" type=\"checkbox\" checked><label for=\"sk-estimator-id-1\" class=\"sk-toggleable__label sk-toggleable__label-arrow\">LGBMClassifier</label><div class=\"sk-toggleable__content\"><pre>LGBMClassifier(boosting_type=&#x27;gbdt&#x27;, class_weight=None, colsample_bytree=1.0,\n",
       "               importance_type=&#x27;split&#x27;, learning_rate=0.1, max_depth=-1,\n",
       "               min_child_samples=20, min_child_weight=0.001, min_split_gain=0.0,\n",
       "               n_estimators=100, n_jobs=4, num_leaves=31, objective=None,\n",
       "               random_state=123, reg_alpha=0.0, reg_lambda=0.0, subsample=1.0,\n",
       "               subsample_for_bin=200000, subsample_freq=0)</pre></div></div></div></div></div>"
      ],
      "text/plain": [
       "LGBMClassifier(boosting_type='gbdt', class_weight=None, colsample_bytree=1.0,\n",
       "               importance_type='split', learning_rate=0.1, max_depth=-1,\n",
       "               min_child_samples=20, min_child_weight=0.001, min_split_gain=0.0,\n",
       "               n_estimators=100, n_jobs=4, num_leaves=31, objective=None,\n",
       "               random_state=123, reg_alpha=0.0, reg_lambda=0.0, subsample=1.0,\n",
       "               subsample_for_bin=200000, subsample_freq=0)"
      ]
     },
     "execution_count": 9,
     "metadata": {},
     "output_type": "execute_result"
    }
   ],
   "source": [
    "pc.evaluate_model(lightgbm)\n",
    "lightgbm"
   ]
  },
  {
   "cell_type": "code",
   "execution_count": 10,
   "metadata": {},
   "outputs": [
    {
     "name": "stdout",
     "output_type": "stream",
     "text": [
      "Transformation Pipeline and Model Successfully Saved\n"
     ]
    },
    {
     "data": {
      "text/plain": [
       "(Pipeline(memory=Memory(location=None),\n",
       "          steps=[('numerical_imputer',\n",
       "                  TransformerWrapper(exclude=None, include=['freq_turma'],\n",
       "                                     transformer=SimpleImputer(add_indicator=False,\n",
       "                                                               copy=True,\n",
       "                                                               fill_value=None,\n",
       "                                                               keep_empty_features=False,\n",
       "                                                               missing_values=nan,\n",
       "                                                               strategy='mean',\n",
       "                                                               verbose='deprecated'))),\n",
       "                 ('categorical_imputer',\n",
       "                  TransformerWrapper(exclude=None,\n",
       "                                     include=['ccr', 'n...\n",
       "                  LGBMClassifier(boosting_type='gbdt', class_weight=None,\n",
       "                                 colsample_bytree=1.0, importance_type='split',\n",
       "                                 learning_rate=0.1, max_depth=-1,\n",
       "                                 min_child_samples=20, min_child_weight=0.001,\n",
       "                                 min_split_gain=0.0, n_estimators=100, n_jobs=4,\n",
       "                                 num_leaves=31, objective=None, random_state=123,\n",
       "                                 reg_alpha=0.0, reg_lambda=0.0, subsample=1.0,\n",
       "                                 subsample_for_bin=200000, subsample_freq=0))],\n",
       "          verbose=False),\n",
       " '../../src/models/LGBMClassifier.pkl')"
      ]
     },
     "execution_count": 10,
     "metadata": {},
     "output_type": "execute_result"
    }
   ],
   "source": [
    "pc.save_model(lightgbm, '../../src/models/LGBMClassifier')"
   ]
  },
  {
   "cell_type": "code",
   "execution_count": 17,
   "metadata": {},
   "outputs": [
    {
     "data": {
      "text/html": [],
      "text/plain": [
       "<IPython.core.display.HTML object>"
      ]
     },
     "metadata": {},
     "output_type": "display_data"
    },
    {
     "data": {
      "text/html": [],
      "text/plain": [
       "<IPython.core.display.HTML object>"
      ]
     },
     "metadata": {},
     "output_type": "display_data"
    },
    {
     "data": {
      "text/html": [
       "<style type=\"text/css\">\n",
       "</style>\n",
       "<table id=\"T_92917\">\n",
       "  <thead>\n",
       "    <tr>\n",
       "      <th class=\"blank level0\" >&nbsp;</th>\n",
       "      <th id=\"T_92917_level0_col0\" class=\"col_heading level0 col0\" >Model</th>\n",
       "      <th id=\"T_92917_level0_col1\" class=\"col_heading level0 col1\" >Accuracy</th>\n",
       "      <th id=\"T_92917_level0_col2\" class=\"col_heading level0 col2\" >AUC</th>\n",
       "      <th id=\"T_92917_level0_col3\" class=\"col_heading level0 col3\" >Recall</th>\n",
       "      <th id=\"T_92917_level0_col4\" class=\"col_heading level0 col4\" >Prec.</th>\n",
       "      <th id=\"T_92917_level0_col5\" class=\"col_heading level0 col5\" >F1</th>\n",
       "      <th id=\"T_92917_level0_col6\" class=\"col_heading level0 col6\" >Kappa</th>\n",
       "      <th id=\"T_92917_level0_col7\" class=\"col_heading level0 col7\" >MCC</th>\n",
       "    </tr>\n",
       "  </thead>\n",
       "  <tbody>\n",
       "    <tr>\n",
       "      <th id=\"T_92917_level0_row0\" class=\"row_heading level0 row0\" >0</th>\n",
       "      <td id=\"T_92917_row0_col0\" class=\"data row0 col0\" >Light Gradient Boosting Machine</td>\n",
       "      <td id=\"T_92917_row0_col1\" class=\"data row0 col1\" >0.8956</td>\n",
       "      <td id=\"T_92917_row0_col2\" class=\"data row0 col2\" >0.9545</td>\n",
       "      <td id=\"T_92917_row0_col3\" class=\"data row0 col3\" >0.8592</td>\n",
       "      <td id=\"T_92917_row0_col4\" class=\"data row0 col4\" >0.8714</td>\n",
       "      <td id=\"T_92917_row0_col5\" class=\"data row0 col5\" >0.8652</td>\n",
       "      <td id=\"T_92917_row0_col6\" class=\"data row0 col6\" >0.7801</td>\n",
       "      <td id=\"T_92917_row0_col7\" class=\"data row0 col7\" >0.7801</td>\n",
       "    </tr>\n",
       "  </tbody>\n",
       "</table>\n"
      ],
      "text/plain": [
       "<pandas.io.formats.style.Styler at 0x18209c3fcd0>"
      ]
     },
     "metadata": {},
     "output_type": "display_data"
    }
   ],
   "source": [
    "pc.plot_model(lightgbm, plot='feature', scale=10, save=True)\n",
    "pc.plot_model(lightgbm, plot='confusion_matrix', plot_kwargs = {'percent' : True}, save=True, scale=10)\n",
    "\n",
    "\n",
    "values = pc.predict_model(lightgbm)\n",
    "test = pc.pull()\n",
    "\n",
    "#test is a pandas dataframe, print it to html\n",
    "\n",
    "test.to_html('../../src/output/values.html')"
   ]
  },
  {
   "cell_type": "code",
   "execution_count": 12,
   "metadata": {},
   "outputs": [],
   "source": [
    "# print values to csv\n",
    "\n",
    "values = values.sort_values(by=['ccr', 'nome_docente'], ascending=True) #, 'ano'\n",
    "\n",
    "values.to_csv('../../src/output/values.csv', index=False)"
   ]
  },
  {
   "cell_type": "markdown",
   "metadata": {},
   "source": [
    "# Predição\n",
    "\n",
    "Caso já tenha executado os passos anteriores, basta executar as celulas abaixo para realizar a predição."
   ]
  },
  {
   "cell_type": "code",
   "execution_count": 2,
   "metadata": {},
   "outputs": [],
   "source": [
    "import ipywidgets as widgets\n",
    "from IPython.display import HTML\n",
    "import pandas as pd\n",
    "from pycaret.classification import predict_model, load_model"
   ]
  },
  {
   "cell_type": "code",
   "execution_count": 22,
   "metadata": {
    "tags": []
   },
   "outputs": [
    {
     "data": {
      "application/vnd.jupyter.widget-view+json": {
       "model_id": "fa3a1aa8cfca4ff581b8bd60a2159012",
       "version_major": 2,
       "version_minor": 0
      },
      "text/plain": [
       "HBox(children=(Dropdown(description='CCR:', options=('Algebra linear - GEX607', 'Algoritmos e programação - GE…"
      ]
     },
     "execution_count": 22,
     "metadata": {},
     "output_type": "execute_result"
    }
   ],
   "source": [
    "df = pd.read_csv('../../src/output/alunos_final.csv')\n",
    "ccr = widgets.Dropdown(options = df['ccr'].sort_values().unique().tolist(), description='CCR:')\n",
    "nome_docente = widgets.Dropdown(options = df['nome_docente'].sort_values().unique().tolist(), description='Docente:')\n",
    "frequencia = widgets.SelectionSlider(options = df['freq_turma'].sort_values().unique().tolist(), description='Frequência:', disabled=False, continuous_update=True, orientation='horizontal', readout=True)\n",
    "turno = widgets.Dropdown(options = df['turno'].sort_values().unique().tolist(), description='Turno:')\n",
    "widgets.HBox([ccr, nome_docente, turno, frequencia])"
   ]
  },
  {
   "cell_type": "code",
   "execution_count": 34,
   "metadata": {},
   "outputs": [
    {
     "name": "stdout",
     "output_type": "stream",
     "text": [
      "Transformation Pipeline and Model Successfully Loaded\n"
     ]
    }
   ],
   "source": [
    "# create a json file with the values of the dropdown menus\n",
    "input_data = {\n",
    "    'ccr': ccr.value,\n",
    "    'nome_docente': nome_docente.value,\n",
    "    'freq_turma': frequencia.value,\n",
    "    'turno': turno.value,\n",
    "}\n",
    "\n",
    "prediction_model = load_model('../../src/models/LGBMClassifier')\n",
    "\n",
    "input_data = pd.DataFrame([input_data])\n",
    "    \n",
    "new_prediction = predict_model(prediction_model, data=input_data)\n",
    "\n",
    "# rename the column 'prediction_label' to 'status' and put in index 0 using insert and pop method\n",
    "new_prediction.insert(0, 'status', new_prediction.pop('prediction_label'))"
   ]
  },
  {
   "cell_type": "code",
   "execution_count": 35,
   "metadata": {},
   "outputs": [
    {
     "data": {
      "text/html": [
       "<table border=\"1\" class=\"dataframe\">\n",
       "  <thead>\n",
       "    <tr style=\"text-align: right;\">\n",
       "      <th>status</th>\n",
       "      <th>ccr</th>\n",
       "      <th>nome_docente</th>\n",
       "      <th>freq_turma</th>\n",
       "      <th>turno</th>\n",
       "      <th>prediction_score</th>\n",
       "    </tr>\n",
       "  </thead>\n",
       "  <tbody>\n",
       "    <tr>\n",
       "      <td>0</td>\n",
       "      <td>Probabilidade e estatística - GEX055</td>\n",
       "      <td>LEANDRO BORDIN</td>\n",
       "      <td>73.330002</td>\n",
       "      <td>VESPERTINO</td>\n",
       "      <td>0.9166</td>\n",
       "    </tr>\n",
       "  </tbody>\n",
       "</table>"
      ],
      "text/plain": [
       "<IPython.core.display.HTML object>"
      ]
     },
     "execution_count": 35,
     "metadata": {},
     "output_type": "execute_result"
    }
   ],
   "source": [
    "HTML(new_prediction.to_html(index=False))"
   ]
  }
 ],
 "metadata": {
  "kernelspec": {
   "display_name": ".venv",
   "language": "python",
   "name": "python3"
  },
  "language_info": {
   "codemirror_mode": {
    "name": "ipython",
    "version": 3
   },
   "file_extension": ".py",
   "mimetype": "text/x-python",
   "name": "python",
   "nbconvert_exporter": "python",
   "pygments_lexer": "ipython3",
   "version": "3.11.8"
  }
 },
 "nbformat": 4,
 "nbformat_minor": 2
}
