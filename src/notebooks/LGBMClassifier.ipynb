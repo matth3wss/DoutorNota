{
 "cells": [
  {
   "cell_type": "markdown",
   "metadata": {
    "slideshow": {
     "slide_type": "skip"
    }
   },
   "source": [
    "# Moldel Training"
   ]
  },
  {
   "cell_type": "code",
   "execution_count": null,
   "metadata": {
    "slideshow": {
     "slide_type": "skip"
    }
   },
   "outputs": [],
   "source": [
    "import pandas as pd\n",
    "import pycaret.classification as pc"
   ]
  },
  {
   "cell_type": "code",
   "execution_count": null,
   "metadata": {
    "slideshow": {
     "slide_type": "skip"
    }
   },
   "outputs": [],
   "source": [
    "df = pd.read_csv('../../src/output/alunos_final.csv')\n",
    "df.head(1)"
   ]
  },
  {
   "cell_type": "code",
   "execution_count": null,
   "metadata": {},
   "outputs": [],
   "source": [
    "s = pc.setup(df, target='status', \n",
    "          iterative_imputation_iters=10, \n",
    "          session_id=123,  \n",
    "          train_size=0.99, \n",
    "          remove_outliers=True, \n",
    "          outliers_method='iforest',\n",
    "          categorical_features=['ccr', 'nome_docente', 'turno'],\n",
    "          numeric_features=['freq_turma'],\n",
    "          fold_strategy='stratifiedkfold',\n",
    "          fold=10,\n",
    "          fold_shuffle=True,\n",
    "          n_jobs=4,\n",
    "          ) # use_gpu=True,"
   ]
  },
  {
   "cell_type": "code",
   "execution_count": null,
   "metadata": {},
   "outputs": [],
   "source": [
    "lightgbm = pc.create_model('lightgbm')"
   ]
  },
  {
   "cell_type": "code",
   "execution_count": null,
   "metadata": {},
   "outputs": [],
   "source": [
    "pc.evaluate_model(lightgbm)\n",
    "lightgbm"
   ]
  },
  {
   "cell_type": "code",
   "execution_count": null,
   "metadata": {},
   "outputs": [],
   "source": [
    "pc.save_model(lightgbm, '../../src/models/LGBMClassifier')"
   ]
  },
  {
   "cell_type": "code",
   "execution_count": null,
   "metadata": {},
   "outputs": [],
   "source": [
    "pc.plot_model(lightgbm, plot='feature', scale=10, save=True)\n",
    "pc.plot_model(lightgbm, plot='confusion_matrix', plot_kwargs = {'percent' : True}, save=True, scale=10)\n",
    "\n",
    "\n",
    "values = pc.predict_model(lightgbm)\n",
    "test = pc.pull()\n",
    "\n",
    "#test is a pandas dataframe, print it to html\n",
    "\n",
    "test.to_html('../../src/output/values.html')"
   ]
  },
  {
   "cell_type": "code",
   "execution_count": null,
   "metadata": {},
   "outputs": [],
   "source": [
    "# print values to csv\n",
    "\n",
    "values = values.sort_values(by=['ccr', 'nome_docente'], ascending=True) #, 'ano'\n",
    "\n",
    "values.to_csv('../../src/output/values.csv', index=False)"
   ]
  },
  {
   "cell_type": "markdown",
   "metadata": {},
   "source": [
    "# Predição\n",
    "\n",
    "Caso já tenha executado os passos anteriores, basta executar as celulas abaixo para realizar a predição."
   ]
  },
  {
   "cell_type": "code",
   "execution_count": null,
   "metadata": {},
   "outputs": [],
   "source": [
    "import ipywidgets as widgets\n",
    "from IPython.display import HTML\n",
    "import pandas as pd\n",
    "from pycaret.classification import predict_model, load_model"
   ]
  },
  {
   "cell_type": "code",
   "execution_count": null,
   "metadata": {
    "tags": []
   },
   "outputs": [],
   "source": [
    "df = pd.read_csv('../../src/output/alunos_final.csv')\n",
    "ccr = widgets.Dropdown(options = df['ccr'].sort_values().unique().tolist(), description='CCR:')\n",
    "nome_docente = widgets.Dropdown(options = df['nome_docente'].sort_values().unique().tolist(), description='Docente:')\n",
    "frequencia = widgets.SelectionSlider(options = df['freq_turma'].sort_values().unique().tolist(), description='Frequência:', disabled=False, continuous_update=True, orientation='horizontal', readout=True)\n",
    "turno = widgets.Dropdown(options = df['turno'].sort_values().unique().tolist(), description='Turno:')\n",
    "widgets.HBox([ccr, nome_docente, turno, frequencia])"
   ]
  },
  {
   "cell_type": "code",
   "execution_count": null,
   "metadata": {},
   "outputs": [],
   "source": [
    "# create a json file with the values of the dropdown menus\n",
    "input_data = {\n",
    "    'ccr': ccr.value,\n",
    "    'nome_docente': nome_docente.value,\n",
    "    'freq_turma': frequencia.value,\n",
    "    'turno': turno.value,\n",
    "}\n",
    "\n",
    "prediction_model = load_model('../../src/models/LGBMClassifier')\n",
    "\n",
    "input_data = pd.DataFrame([input_data])\n",
    "    \n",
    "new_prediction = predict_model(prediction_model, data=input_data)\n",
    "\n",
    "# rename the column 'prediction_label' to 'status' and put in index 0 using insert and pop method\n",
    "new_prediction.insert(0, 'status', new_prediction.pop('prediction_label'))"
   ]
  },
  {
   "cell_type": "code",
   "execution_count": null,
   "metadata": {},
   "outputs": [],
   "source": [
    "HTML(new_prediction.to_html(index=False))"
   ]
  }
 ],
 "metadata": {
  "kernelspec": {
   "display_name": ".venv",
   "language": "python",
   "name": "python3"
  },
  "language_info": {
   "codemirror_mode": {
    "name": "ipython",
    "version": 3
   },
   "file_extension": ".py",
   "mimetype": "text/x-python",
   "name": "python",
   "nbconvert_exporter": "python",
   "pygments_lexer": "ipython3",
   "version": "3.11.6"
  }
 },
 "nbformat": 4,
 "nbformat_minor": 2
}
