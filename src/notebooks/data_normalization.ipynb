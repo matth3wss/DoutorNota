{
 "cells": [
  {
   "cell_type": "code",
   "execution_count": null,
   "metadata": {},
   "outputs": [],
   "source": [
    "import json\n",
    "import os\n",
    "import ast\n",
    "import seaborn as sns\n",
    "import pandas as pd\n",
    "import numpy as np\n",
    "import matplotlib.pyplot as plt\n",
    "%matplotlib inline"
   ]
  },
  {
   "cell_type": "code",
   "execution_count": null,
   "metadata": {
    "tags": []
   },
   "outputs": [],
   "source": [
    "df = pd.read_csv('../../src/input/alunos.csv')\n",
    "df.columns"
   ]
  },
  {
   "cell_type": "code",
   "execution_count": null,
   "metadata": {},
   "outputs": [],
   "source": [
    "# drom all columns in nome_ccr that contains 'Tópicos'\n",
    "df = df[~df['nome_ccr'].str.contains('Tópicos')]\n",
    "\n",
    "\n",
    "optativas2010 = ['GEX620', 'GEX443', 'GEX436', 'GEX433', 'GEX622']\n",
    "\n",
    "df = df[~df.cod_ccr.isin(optativas2010)]\n"
   ]
  },
  {
   "cell_type": "markdown",
   "metadata": {},
   "source": [
    "# Normalização dos Dados\n"
   ]
  },
  {
   "cell_type": "code",
   "execution_count": null,
   "metadata": {},
   "outputs": [],
   "source": [
    "# replace all NaN values with 0\n",
    "df = df.fillna(0)"
   ]
  },
  {
   "cell_type": "code",
   "execution_count": null,
   "metadata": {},
   "outputs": [],
   "source": [
    "# change row values where nome_ccr=Cálculo A to Cálculo I\n",
    "df.loc[df.nome_ccr == 'Cálculo A', 'nome_ccr'] = 'Cálculo I'\n",
    "\n",
    "# change row values where cod_ccr=GEX968 to GEX178\n",
    "# GEX968 and GEX504 are Calculo A, GEX009 is Calculo I and GEX178 is Calculo I\n",
    "\n",
    "df.loc[df['cod_ccr'].isin(['GEX504', 'GEX968', 'GEX009']), 'cod_ccr'] = 'GEX178'"
   ]
  },
  {
   "cell_type": "code",
   "execution_count": null,
   "metadata": {},
   "outputs": [],
   "source": [
    "# change row values where nome_ccr=Cálculo C to Cálculo II\n",
    "df.loc[df.nome_ccr == 'Cálculo C', 'nome_ccr'] = 'Cálculo II'\n",
    "\n",
    "# change row values where cod_ccr=GEX981 to GEX392\n",
    "# GEX981 and GEX506 are Calculo C and GEX392 is Calculo II\n",
    "df.loc[df['cod_ccr'].isin(['GEX506', 'GEX033', 'GEX981']),'cod_ccr'] = 'GEX392'"
   ]
  },
  {
   "cell_type": "code",
   "execution_count": null,
   "metadata": {},
   "outputs": [],
   "source": [
    "# # change row values where nome_ccr=Álgebra Linear to Álgebra Linear I\n",
    "df.loc[df.nome_ccr == 'Álgebra linear II', 'nome_ccr'] = 'Algebra linear'\n",
    "df.loc[df.nome_ccr == 'Álgebra linear', 'nome_ccr'] = 'Algebra linear'\n",
    "\n",
    "\n",
    "# change row values where cod_ccr=GEX012 or GEX982 or GEX511 to GEX607\n",
    "# all are algebra linear\n",
    "df.loc[df['cod_ccr'].isin(['GEX012', 'GEX982', 'GEX511']), 'cod_ccr'] = 'GEX607'"
   ]
  },
  {
   "cell_type": "code",
   "execution_count": null,
   "metadata": {},
   "outputs": [],
   "source": [
    "# change row values where nome_ccr=Matemática instrumental to Matemática C\n",
    "df.loc[df.nome_ccr == 'Matemática instrumental', 'nome_ccr'] = 'Matemática C'\n",
    "\n",
    "# change row values where cod_ccr=GEX001 to GEX213\n",
    "# GEX001 is Matemática Instrumental and GEX213 is Matemática C\n",
    "df.loc[df['cod_ccr'].isin(['GEX001']), 'cod_ccr'] = 'GEX213'"
   ]
  },
  {
   "cell_type": "code",
   "execution_count": null,
   "metadata": {},
   "outputs": [],
   "source": [
    "# GEX605 Estrutura de Dados 4 GEX015 Estrutura de dados I\n",
    "# change row values where nome_ccr=Estrutura de Dados I to Estrutura de Dados\n",
    "df.loc[df.nome_ccr == 'Estrutura de dados I',\n",
    "       'nome_ccr'] = 'Estruturas de dados'\n",
    "\n",
    "# change row values where cod_ccr=GEX015 to GEX605\n",
    "# GEX015 is Estrutura de Dados I and GEX605 is Estrutura de Dados\n",
    "df.loc[df.cod_ccr == 'GEX015', 'cod_ccr'] = 'GEX605'\n",
    "df.loc[df['cod_ccr'].isin(['GEX015']), 'cod_ccr'] = 'GEX605'"
   ]
  },
  {
   "cell_type": "code",
   "execution_count": null,
   "metadata": {},
   "outputs": [],
   "source": [
    "# change row values where nome_ccr=Estrutura de Dados II to Pesquisa e ordenação de dados\n",
    "df.loc[df.nome_ccr == 'Estrutura de dados II',\n",
    "       'nome_ccr'] = 'Pesquisa e ordenação de dados'\n",
    "\n",
    "# change row values where cod_ccr=GEX092 to GEX609\n",
    "# GEX092 is Estrutura de Dados II and GEX609 is Pesquisa e Ordenação de Dados\n",
    "df.loc[df['cod_ccr'].isin(['GEX092']), 'cod_ccr'] = 'GEX609'"
   ]
  },
  {
   "cell_type": "code",
   "execution_count": null,
   "metadata": {},
   "outputs": [],
   "source": [
    "# GEX208 Informática Básica 4 GEX002 Introdução à informática\n",
    "# change row values where nome_ccr=Introdução à informática to Informática Básica\n",
    "df.loc[df.nome_ccr == 'Introdução à informática',\n",
    "       'nome_ccr'] = 'Informática básica'\n",
    "\n",
    "# change row values where cod_ccr=GEX002 to GEX208\n",
    "# GEX002 is Introdução à informática and GEX208 is Informática Básica\n",
    "df.loc[df['cod_ccr'].isin(['GEX002']), 'cod_ccr'] = 'GEX208'"
   ]
  },
  {
   "cell_type": "code",
   "execution_count": null,
   "metadata": {},
   "outputs": [],
   "source": [
    "# Change row values where cod_ccr=GEX987 or GEX036 to GEX395\n",
    "# Both are Cálculo Numérico\n",
    "df.loc[df['cod_ccr'].isin(['GEX036', 'GEX987']), 'cod_ccr'] = 'GEX395'"
   ]
  },
  {
   "cell_type": "code",
   "execution_count": null,
   "metadata": {},
   "outputs": [],
   "source": [
    "# change row values where cod_ccr=GEX503 and GEX004 to GEX195\n",
    "# Both are Geometria Analitica\n",
    "df.loc[df['cod_ccr'].isin(['GEX503', 'GEX004']), 'cod_ccr'] = 'GEX195'"
   ]
  },
  {
   "cell_type": "code",
   "execution_count": null,
   "metadata": {},
   "outputs": [],
   "source": [
    "# change row values where cod_ccr=GEX100 to GEX612\n",
    "# both are Organização de computadores\n",
    "df.loc[df['cod_ccr'].isin(['GEX100']), 'cod_ccr'] = 'GEX612'"
   ]
  },
  {
   "cell_type": "code",
   "execution_count": null,
   "metadata": {},
   "outputs": [],
   "source": [
    "# change row values where cod_ccr=GCS107 to GCS580\n",
    "# both are Planejamento e Gestão de Projetos\n",
    "\n",
    "df.loc[df['cod_ccr'].isin(['GCS107']), 'cod_ccr'] = 'GCS580'"
   ]
  },
  {
   "cell_type": "code",
   "execution_count": null,
   "metadata": {},
   "outputs": [],
   "source": [
    "# change row values where cod_ccr=GEX099 to GEX613\n",
    "# both are Programação II\n",
    "df.loc[df['cod_ccr'].isin(['GEX099']), 'cod_ccr'] = 'GEX613'"
   ]
  },
  {
   "cell_type": "code",
   "execution_count": null,
   "metadata": {},
   "outputs": [],
   "source": [
    "# change row values where cod_ccr=GEX016 to GEX606\n",
    "# both are Sistemas digitais\n",
    "df.loc[df['cod_ccr'].isin(['GEX016']), 'cod_ccr'] = 'GEX606'"
   ]
  },
  {
   "cell_type": "code",
   "execution_count": null,
   "metadata": {},
   "outputs": [],
   "source": [
    "# change row values where cod_ccr=GEX104 to GEX614\n",
    "# both are Teoria da computação\n",
    "df.loc[df['cod_ccr'].isin(['GEX104']), 'cod_ccr'] = 'GEX614'"
   ]
  },
  {
   "cell_type": "code",
   "execution_count": null,
   "metadata": {},
   "outputs": [],
   "source": [
    "# GEX608 Matemática discreta 4 GEX093 Matemática discreta\n",
    "# change row values where cod_ccr=GEX093 to GEX608\n",
    "# both are Matemática discreta\n",
    "df.loc[df['cod_ccr'].isin(['GEX093']), 'cod_ccr'] = 'GEX608'"
   ]
  },
  {
   "cell_type": "code",
   "execution_count": null,
   "metadata": {},
   "outputs": [],
   "source": [
    "# GEX618 Inteligência artificial 4 GEX109 Inteligência artificial\n",
    "# change row values where cod_ccr=GEX109 to GEX618\n",
    "# both are Inteligência artificial\n",
    "df.loc[df['cod_ccr'].isin(['GEX109']), 'cod_ccr'] = 'GEX618'"
   ]
  },
  {
   "cell_type": "code",
   "execution_count": null,
   "metadata": {},
   "outputs": [],
   "source": [
    "# GCH290 Iniciação à prática científica 4 GCH008 Iniciação à prática científica\n",
    "# change row values where cod_ccr=GCH008 to GCH290\n",
    "# both are Iniciação à prática científica\n",
    "df.loc[df['cod_ccr'].isin(['GCH008']), 'cod_ccr'] = 'GCH290'"
   ]
  },
  {
   "cell_type": "code",
   "execution_count": null,
   "metadata": {},
   "outputs": [],
   "source": [
    "# GEX210 Estatística básica 4 GEX006 Estatística básica\n",
    "# change row values where cod_ccr=GEX006 to GEX210\n",
    "# both are Estatística básica\n",
    "df.loc[df['cod_ccr'].isin(['GEX006']), 'cod_ccr'] = 'GEX210'"
   ]
  },
  {
   "cell_type": "code",
   "execution_count": null,
   "metadata": {},
   "outputs": [],
   "source": [
    "# GEX615 Engenharia de software I 4 GEX102 Engenharia de software I\n",
    "# change row values where cod_ccr=GEX102 to GEX615\n",
    "# both are Engenharia de software I\n",
    "df.loc[df['cod_ccr'].isin(['GEX102']), 'cod_ccr'] = 'GEX615'"
   ]
  },
  {
   "cell_type": "code",
   "execution_count": null,
   "metadata": {},
   "outputs": [],
   "source": [
    "# GEX616 Engenharia de software II 4 GEX103 Engenharia de software II\n",
    "# change row values where cod_ccr=GEX103 to GEX616\n",
    "# both are Engenharia de software II\n",
    "df.loc[df['cod_ccr'].isin(['GEX103']), 'cod_ccr'] = 'GEX616'"
   ]
  },
  {
   "cell_type": "code",
   "execution_count": null,
   "metadata": {},
   "outputs": [],
   "source": [
    "# GEN254 Grafos 4 GEN039 Grafos\n",
    "# change row values where cod_ccr=GEN039 to GEN254\n",
    "# both are Grafos\n",
    "df.loc[df['cod_ccr'].isin(['GEN039']), 'cod_ccr'] = 'GEN254'"
   ]
  },
  {
   "cell_type": "code",
   "execution_count": null,
   "metadata": {},
   "outputs": [],
   "source": [
    "# find all unique values of nome_ccr where nome_curso=CIÊNCIA DA COMPUTAÇÃO\n",
    "values, counts = np.unique(\n",
    "    df[df['nome_curso'] == 'CIÊNCIA DA COMPUTAÇÃO']['nome_ccr'], return_counts=True)\n",
    "result = list(zip(values, counts))\n",
    "\n",
    "# drop rows where it was offered less than 10 times\n",
    "for i in result:\n",
    "    if i[1] <= 10:\n",
    "        df = df.drop(df[df.nome_ccr == i[0]].index)\n",
    "\n",
    "# list of cod_ccr where nome_curso=CIÊNCIA DA COMPUTAÇÃO\n",
    "cod_ccr = df[df.nome_curso == 'CIÊNCIA DA COMPUTAÇÃO'].cod_ccr.unique()\n",
    "\n",
    "# drop rows where cod_ccr is not in a subject of Computer Science\n",
    "df = df[df.cod_ccr.isin(cod_ccr)]\n",
    "\n",
    "toDropCCR = ['GCS239', 'GCH291', 'GLA001', 'GLA102', 'GLA103', 'GCS010', 'GCS320', 'GCS546', 'GCH011', 'GCH293', 'GLA004', 'GLA045', 'GLA108', 'GLA192', 'GLA213', 'GCS238', 'GCS011', 'GLA104', 'GEX119', 'GEX657', 'GEX120', 'GEX658', 'GEX619',\n",
    "             'GEX623', 'GEX624', 'GEX625', 'GEX626', 'GEX631', 'GEX629', 'GEX630', 'GEX632', 'GEX633', 'GEX634', 'GEX635', 'GEX636', 'GEX637', 'GEX638', 'GEX639', 'GEX640', 'GEX642', 'GEX643', 'GCH012', 'GCS573', 'GCH292', 'GCH029', 'GEX054', 'GEX179', 'GLA008']\n",
    "\n",
    "df = df[~df.cod_ccr.isin(toDropCCR)]\n",
    "\n",
    "# count number of students per subject\n",
    "values, counts = np.unique(\n",
    "    df[df['nome_curso'] == 'CIÊNCIA DA COMPUTAÇÃO']['nome_ccr'], return_counts=True)\n",
    "result = list(zip(values, counts))\n",
    "result = sorted(result, key=lambda x: x[1])\n",
    "result"
   ]
  },
  {
   "cell_type": "code",
   "execution_count": null,
   "metadata": {
    "tags": []
   },
   "outputs": [],
   "source": [
    "# Lista de colunas a serem removidas\n",
    "toDropColumns = ['nome_curso']\n",
    "\n",
    "# Remove as colunas da lista toDropColumns\n",
    "df = df.drop(toDropColumns, axis=1)\n",
    "\n",
    "#  Cria uma nova coluna cod_nome_turma na posição 4 com a concatenação das colunas nome_ccr e cod_ccr\n",
    "df.insert(1, 'cod_nome_turma', df['nome_ccr'] + ' - ' + df['cod_ccr'])\n",
    "\n",
    "# 'cod_ccr', 'nome_ccr', 'cod_nome_turma'\n",
    "df = df.drop(['cod_ccr', 'nome_ccr'], axis=1)\n",
    "\n",
    "# Renomeia a coluna cod_nome_turma para nome_ccr trazendo os valores junto\n",
    "df.insert(df.columns.get_loc('cod_nome_turma'), 'nome_ccr', df.pop('cod_nome_turma'))"
   ]
  },
  {
   "cell_type": "code",
   "execution_count": null,
   "metadata": {},
   "outputs": [],
   "source": [
    "toDropStatus = ['APROVADO ESPECIAL', 'CANCELADA', 'CANCELAMENTO ADMINISTRATIVO', 'EM CURSO', 'INCOMPLETO', 'MOBILIDADE',\n",
    "                'TRANCAMENTO GERAL DA MATRÍCULA', 'REPROVADO POR FREQUÊNCIA',  'DESISTENTE', 'TRANSFERIDO INTERNAMENTE']\n",
    "\n",
    "\n",
    "df = df.drop(df[(df.sit_turma == 'REPROVADO POR NOTA E FREQUÊNCIA')\n",
    "             & (df.freq_turma == 0) & (df.media_final == 0)].index)\n",
    "\n",
    "# drop rows where freq_turma=0\n",
    "df = df.drop(df[(df.freq_turma == 0)].index)\n",
    "\n",
    "df = df.drop([('media_final')], axis=1)\n",
    "\n",
    "df = df[~df.sit_turma.isin(toDropStatus)]\n"
   ]
  },
  {
   "cell_type": "code",
   "execution_count": null,
   "metadata": {
    "tags": []
   },
   "outputs": [],
   "source": [
    "def label_status(data):\n",
    "    if data == 'APROVADO':\n",
    "        return 0\n",
    "    elif data == 'REPROVADO POR NOTA' or data == 'REPROVADO POR NOTA E FREQUÊNCIA':\n",
    "        return 1\n",
    "\n",
    "\n",
    "df.insert(0, 'status', df['sit_turma'].apply(label_status))\n",
    "df = df.drop(['sit_turma'], axis=1)\n",
    "\n",
    "# Função para extrair o nome do docente\n",
    "def extrair_nome(docente):\n",
    "    return docente['docente']\n",
    "\n",
    "# Função para extrair o valor de ch_docente\n",
    "def extrair_ch(docente):\n",
    "    return docente['ch_docente']\n",
    "\n",
    "# Função para aplicar nas listas da coluna lista_docentes_ch\n",
    "def formatar_lista(lista):\n",
    "    # Converte a string para lista de dicionários\n",
    "    docentes = ast.literal_eval(lista)\n",
    "    nomes = [\n",
    "        f\"{extrair_nome(docente)} ({extrair_ch(docente)})\" for docente in docentes]\n",
    "    return ', '.join(nomes)\n",
    "\n",
    "# Aplicar a função formatar_lista na coluna lista_docentes_ch e armazenar o resultado na coluna nome_docente\n",
    "df.insert(2, 'nome_docente', df['lista_docentes_ch'].apply(formatar_lista))\n",
    "df = df.drop(['lista_docentes_ch'], axis=1)\n",
    "\n",
    "# change freq_turma position to index 1 using insert function\n",
    "df.insert(3, 'freq_turma', df.pop('freq_turma'))\n",
    "\n",
    "if not os.path.exists(\"../src/output\"):\n",
    "    os.makedirs(\"../src/output\")\n",
    "    \n",
    "# order by nome_ccr and then by nome_docente\n",
    "df = df.sort_values(by=['nome_ccr', 'nome_docente'])\n",
    "    \n",
    "df.to_csv('../../src/output/alunos_final.csv', index=False)\n",
    "df"
   ]
  }
 ],
 "metadata": {
  "availableInstances": [
   {
    "_defaultOrder": 0,
    "_isFastLaunch": true,
    "category": "General purpose",
    "gpuNum": 0,
    "hideHardwareSpecs": false,
    "memoryGiB": 4,
    "name": "ml.t3.medium",
    "vcpuNum": 2
   },
   {
    "_defaultOrder": 1,
    "_isFastLaunch": false,
    "category": "General purpose",
    "gpuNum": 0,
    "hideHardwareSpecs": false,
    "memoryGiB": 8,
    "name": "ml.t3.large",
    "vcpuNum": 2
   },
   {
    "_defaultOrder": 2,
    "_isFastLaunch": false,
    "category": "General purpose",
    "gpuNum": 0,
    "hideHardwareSpecs": false,
    "memoryGiB": 16,
    "name": "ml.t3.xlarge",
    "vcpuNum": 4
   },
   {
    "_defaultOrder": 3,
    "_isFastLaunch": false,
    "category": "General purpose",
    "gpuNum": 0,
    "hideHardwareSpecs": false,
    "memoryGiB": 32,
    "name": "ml.t3.2xlarge",
    "vcpuNum": 8
   },
   {
    "_defaultOrder": 4,
    "_isFastLaunch": true,
    "category": "General purpose",
    "gpuNum": 0,
    "hideHardwareSpecs": false,
    "memoryGiB": 8,
    "name": "ml.m5.large",
    "vcpuNum": 2
   },
   {
    "_defaultOrder": 5,
    "_isFastLaunch": false,
    "category": "General purpose",
    "gpuNum": 0,
    "hideHardwareSpecs": false,
    "memoryGiB": 16,
    "name": "ml.m5.xlarge",
    "vcpuNum": 4
   },
   {
    "_defaultOrder": 6,
    "_isFastLaunch": false,
    "category": "General purpose",
    "gpuNum": 0,
    "hideHardwareSpecs": false,
    "memoryGiB": 32,
    "name": "ml.m5.2xlarge",
    "vcpuNum": 8
   },
   {
    "_defaultOrder": 7,
    "_isFastLaunch": false,
    "category": "General purpose",
    "gpuNum": 0,
    "hideHardwareSpecs": false,
    "memoryGiB": 64,
    "name": "ml.m5.4xlarge",
    "vcpuNum": 16
   },
   {
    "_defaultOrder": 8,
    "_isFastLaunch": false,
    "category": "General purpose",
    "gpuNum": 0,
    "hideHardwareSpecs": false,
    "memoryGiB": 128,
    "name": "ml.m5.8xlarge",
    "vcpuNum": 32
   },
   {
    "_defaultOrder": 9,
    "_isFastLaunch": false,
    "category": "General purpose",
    "gpuNum": 0,
    "hideHardwareSpecs": false,
    "memoryGiB": 192,
    "name": "ml.m5.12xlarge",
    "vcpuNum": 48
   },
   {
    "_defaultOrder": 10,
    "_isFastLaunch": false,
    "category": "General purpose",
    "gpuNum": 0,
    "hideHardwareSpecs": false,
    "memoryGiB": 256,
    "name": "ml.m5.16xlarge",
    "vcpuNum": 64
   },
   {
    "_defaultOrder": 11,
    "_isFastLaunch": false,
    "category": "General purpose",
    "gpuNum": 0,
    "hideHardwareSpecs": false,
    "memoryGiB": 384,
    "name": "ml.m5.24xlarge",
    "vcpuNum": 96
   },
   {
    "_defaultOrder": 12,
    "_isFastLaunch": false,
    "category": "General purpose",
    "gpuNum": 0,
    "hideHardwareSpecs": false,
    "memoryGiB": 8,
    "name": "ml.m5d.large",
    "vcpuNum": 2
   },
   {
    "_defaultOrder": 13,
    "_isFastLaunch": false,
    "category": "General purpose",
    "gpuNum": 0,
    "hideHardwareSpecs": false,
    "memoryGiB": 16,
    "name": "ml.m5d.xlarge",
    "vcpuNum": 4
   },
   {
    "_defaultOrder": 14,
    "_isFastLaunch": false,
    "category": "General purpose",
    "gpuNum": 0,
    "hideHardwareSpecs": false,
    "memoryGiB": 32,
    "name": "ml.m5d.2xlarge",
    "vcpuNum": 8
   },
   {
    "_defaultOrder": 15,
    "_isFastLaunch": false,
    "category": "General purpose",
    "gpuNum": 0,
    "hideHardwareSpecs": false,
    "memoryGiB": 64,
    "name": "ml.m5d.4xlarge",
    "vcpuNum": 16
   },
   {
    "_defaultOrder": 16,
    "_isFastLaunch": false,
    "category": "General purpose",
    "gpuNum": 0,
    "hideHardwareSpecs": false,
    "memoryGiB": 128,
    "name": "ml.m5d.8xlarge",
    "vcpuNum": 32
   },
   {
    "_defaultOrder": 17,
    "_isFastLaunch": false,
    "category": "General purpose",
    "gpuNum": 0,
    "hideHardwareSpecs": false,
    "memoryGiB": 192,
    "name": "ml.m5d.12xlarge",
    "vcpuNum": 48
   },
   {
    "_defaultOrder": 18,
    "_isFastLaunch": false,
    "category": "General purpose",
    "gpuNum": 0,
    "hideHardwareSpecs": false,
    "memoryGiB": 256,
    "name": "ml.m5d.16xlarge",
    "vcpuNum": 64
   },
   {
    "_defaultOrder": 19,
    "_isFastLaunch": false,
    "category": "General purpose",
    "gpuNum": 0,
    "hideHardwareSpecs": false,
    "memoryGiB": 384,
    "name": "ml.m5d.24xlarge",
    "vcpuNum": 96
   },
   {
    "_defaultOrder": 20,
    "_isFastLaunch": false,
    "category": "General purpose",
    "gpuNum": 0,
    "hideHardwareSpecs": true,
    "memoryGiB": 0,
    "name": "ml.geospatial.interactive",
    "supportedImageNames": [
     "sagemaker-geospatial-v1-0"
    ],
    "vcpuNum": 0
   },
   {
    "_defaultOrder": 21,
    "_isFastLaunch": true,
    "category": "Compute optimized",
    "gpuNum": 0,
    "hideHardwareSpecs": false,
    "memoryGiB": 4,
    "name": "ml.c5.large",
    "vcpuNum": 2
   },
   {
    "_defaultOrder": 22,
    "_isFastLaunch": false,
    "category": "Compute optimized",
    "gpuNum": 0,
    "hideHardwareSpecs": false,
    "memoryGiB": 8,
    "name": "ml.c5.xlarge",
    "vcpuNum": 4
   },
   {
    "_defaultOrder": 23,
    "_isFastLaunch": false,
    "category": "Compute optimized",
    "gpuNum": 0,
    "hideHardwareSpecs": false,
    "memoryGiB": 16,
    "name": "ml.c5.2xlarge",
    "vcpuNum": 8
   },
   {
    "_defaultOrder": 24,
    "_isFastLaunch": false,
    "category": "Compute optimized",
    "gpuNum": 0,
    "hideHardwareSpecs": false,
    "memoryGiB": 32,
    "name": "ml.c5.4xlarge",
    "vcpuNum": 16
   },
   {
    "_defaultOrder": 25,
    "_isFastLaunch": false,
    "category": "Compute optimized",
    "gpuNum": 0,
    "hideHardwareSpecs": false,
    "memoryGiB": 72,
    "name": "ml.c5.9xlarge",
    "vcpuNum": 36
   },
   {
    "_defaultOrder": 26,
    "_isFastLaunch": false,
    "category": "Compute optimized",
    "gpuNum": 0,
    "hideHardwareSpecs": false,
    "memoryGiB": 96,
    "name": "ml.c5.12xlarge",
    "vcpuNum": 48
   },
   {
    "_defaultOrder": 27,
    "_isFastLaunch": false,
    "category": "Compute optimized",
    "gpuNum": 0,
    "hideHardwareSpecs": false,
    "memoryGiB": 144,
    "name": "ml.c5.18xlarge",
    "vcpuNum": 72
   },
   {
    "_defaultOrder": 28,
    "_isFastLaunch": false,
    "category": "Compute optimized",
    "gpuNum": 0,
    "hideHardwareSpecs": false,
    "memoryGiB": 192,
    "name": "ml.c5.24xlarge",
    "vcpuNum": 96
   },
   {
    "_defaultOrder": 29,
    "_isFastLaunch": true,
    "category": "Accelerated computing",
    "gpuNum": 1,
    "hideHardwareSpecs": false,
    "memoryGiB": 16,
    "name": "ml.g4dn.xlarge",
    "vcpuNum": 4
   },
   {
    "_defaultOrder": 30,
    "_isFastLaunch": false,
    "category": "Accelerated computing",
    "gpuNum": 1,
    "hideHardwareSpecs": false,
    "memoryGiB": 32,
    "name": "ml.g4dn.2xlarge",
    "vcpuNum": 8
   },
   {
    "_defaultOrder": 31,
    "_isFastLaunch": false,
    "category": "Accelerated computing",
    "gpuNum": 1,
    "hideHardwareSpecs": false,
    "memoryGiB": 64,
    "name": "ml.g4dn.4xlarge",
    "vcpuNum": 16
   },
   {
    "_defaultOrder": 32,
    "_isFastLaunch": false,
    "category": "Accelerated computing",
    "gpuNum": 1,
    "hideHardwareSpecs": false,
    "memoryGiB": 128,
    "name": "ml.g4dn.8xlarge",
    "vcpuNum": 32
   },
   {
    "_defaultOrder": 33,
    "_isFastLaunch": false,
    "category": "Accelerated computing",
    "gpuNum": 4,
    "hideHardwareSpecs": false,
    "memoryGiB": 192,
    "name": "ml.g4dn.12xlarge",
    "vcpuNum": 48
   },
   {
    "_defaultOrder": 34,
    "_isFastLaunch": false,
    "category": "Accelerated computing",
    "gpuNum": 1,
    "hideHardwareSpecs": false,
    "memoryGiB": 256,
    "name": "ml.g4dn.16xlarge",
    "vcpuNum": 64
   },
   {
    "_defaultOrder": 35,
    "_isFastLaunch": false,
    "category": "Accelerated computing",
    "gpuNum": 1,
    "hideHardwareSpecs": false,
    "memoryGiB": 61,
    "name": "ml.p3.2xlarge",
    "vcpuNum": 8
   },
   {
    "_defaultOrder": 36,
    "_isFastLaunch": false,
    "category": "Accelerated computing",
    "gpuNum": 4,
    "hideHardwareSpecs": false,
    "memoryGiB": 244,
    "name": "ml.p3.8xlarge",
    "vcpuNum": 32
   },
   {
    "_defaultOrder": 37,
    "_isFastLaunch": false,
    "category": "Accelerated computing",
    "gpuNum": 8,
    "hideHardwareSpecs": false,
    "memoryGiB": 488,
    "name": "ml.p3.16xlarge",
    "vcpuNum": 64
   },
   {
    "_defaultOrder": 38,
    "_isFastLaunch": false,
    "category": "Accelerated computing",
    "gpuNum": 8,
    "hideHardwareSpecs": false,
    "memoryGiB": 768,
    "name": "ml.p3dn.24xlarge",
    "vcpuNum": 96
   },
   {
    "_defaultOrder": 39,
    "_isFastLaunch": false,
    "category": "Memory Optimized",
    "gpuNum": 0,
    "hideHardwareSpecs": false,
    "memoryGiB": 16,
    "name": "ml.r5.large",
    "vcpuNum": 2
   },
   {
    "_defaultOrder": 40,
    "_isFastLaunch": false,
    "category": "Memory Optimized",
    "gpuNum": 0,
    "hideHardwareSpecs": false,
    "memoryGiB": 32,
    "name": "ml.r5.xlarge",
    "vcpuNum": 4
   },
   {
    "_defaultOrder": 41,
    "_isFastLaunch": false,
    "category": "Memory Optimized",
    "gpuNum": 0,
    "hideHardwareSpecs": false,
    "memoryGiB": 64,
    "name": "ml.r5.2xlarge",
    "vcpuNum": 8
   },
   {
    "_defaultOrder": 42,
    "_isFastLaunch": false,
    "category": "Memory Optimized",
    "gpuNum": 0,
    "hideHardwareSpecs": false,
    "memoryGiB": 128,
    "name": "ml.r5.4xlarge",
    "vcpuNum": 16
   },
   {
    "_defaultOrder": 43,
    "_isFastLaunch": false,
    "category": "Memory Optimized",
    "gpuNum": 0,
    "hideHardwareSpecs": false,
    "memoryGiB": 256,
    "name": "ml.r5.8xlarge",
    "vcpuNum": 32
   },
   {
    "_defaultOrder": 44,
    "_isFastLaunch": false,
    "category": "Memory Optimized",
    "gpuNum": 0,
    "hideHardwareSpecs": false,
    "memoryGiB": 384,
    "name": "ml.r5.12xlarge",
    "vcpuNum": 48
   },
   {
    "_defaultOrder": 45,
    "_isFastLaunch": false,
    "category": "Memory Optimized",
    "gpuNum": 0,
    "hideHardwareSpecs": false,
    "memoryGiB": 512,
    "name": "ml.r5.16xlarge",
    "vcpuNum": 64
   },
   {
    "_defaultOrder": 46,
    "_isFastLaunch": false,
    "category": "Memory Optimized",
    "gpuNum": 0,
    "hideHardwareSpecs": false,
    "memoryGiB": 768,
    "name": "ml.r5.24xlarge",
    "vcpuNum": 96
   },
   {
    "_defaultOrder": 47,
    "_isFastLaunch": false,
    "category": "Accelerated computing",
    "gpuNum": 1,
    "hideHardwareSpecs": false,
    "memoryGiB": 16,
    "name": "ml.g5.xlarge",
    "vcpuNum": 4
   },
   {
    "_defaultOrder": 48,
    "_isFastLaunch": false,
    "category": "Accelerated computing",
    "gpuNum": 1,
    "hideHardwareSpecs": false,
    "memoryGiB": 32,
    "name": "ml.g5.2xlarge",
    "vcpuNum": 8
   },
   {
    "_defaultOrder": 49,
    "_isFastLaunch": false,
    "category": "Accelerated computing",
    "gpuNum": 1,
    "hideHardwareSpecs": false,
    "memoryGiB": 64,
    "name": "ml.g5.4xlarge",
    "vcpuNum": 16
   },
   {
    "_defaultOrder": 50,
    "_isFastLaunch": false,
    "category": "Accelerated computing",
    "gpuNum": 1,
    "hideHardwareSpecs": false,
    "memoryGiB": 128,
    "name": "ml.g5.8xlarge",
    "vcpuNum": 32
   },
   {
    "_defaultOrder": 51,
    "_isFastLaunch": false,
    "category": "Accelerated computing",
    "gpuNum": 1,
    "hideHardwareSpecs": false,
    "memoryGiB": 256,
    "name": "ml.g5.16xlarge",
    "vcpuNum": 64
   },
   {
    "_defaultOrder": 52,
    "_isFastLaunch": false,
    "category": "Accelerated computing",
    "gpuNum": 4,
    "hideHardwareSpecs": false,
    "memoryGiB": 192,
    "name": "ml.g5.12xlarge",
    "vcpuNum": 48
   },
   {
    "_defaultOrder": 53,
    "_isFastLaunch": false,
    "category": "Accelerated computing",
    "gpuNum": 4,
    "hideHardwareSpecs": false,
    "memoryGiB": 384,
    "name": "ml.g5.24xlarge",
    "vcpuNum": 96
   },
   {
    "_defaultOrder": 54,
    "_isFastLaunch": false,
    "category": "Accelerated computing",
    "gpuNum": 8,
    "hideHardwareSpecs": false,
    "memoryGiB": 768,
    "name": "ml.g5.48xlarge",
    "vcpuNum": 192
   },
   {
    "_defaultOrder": 55,
    "_isFastLaunch": false,
    "category": "Accelerated computing",
    "gpuNum": 8,
    "hideHardwareSpecs": false,
    "memoryGiB": 1152,
    "name": "ml.p4d.24xlarge",
    "vcpuNum": 96
   },
   {
    "_defaultOrder": 56,
    "_isFastLaunch": false,
    "category": "Accelerated computing",
    "gpuNum": 8,
    "hideHardwareSpecs": false,
    "memoryGiB": 1152,
    "name": "ml.p4de.24xlarge",
    "vcpuNum": 96
   }
  ],
  "instance_type": "ml.m5.4xlarge",
  "kernelspec": {
   "display_name": ".venv",
   "language": "python",
   "name": "python3"
  },
  "language_info": {
   "codemirror_mode": {
    "name": "ipython",
    "version": 3
   },
   "file_extension": ".py",
   "mimetype": "text/x-python",
   "name": "python",
   "nbconvert_exporter": "python",
   "pygments_lexer": "ipython3",
   "version": "3.10.11"
  }
 },
 "nbformat": 4,
 "nbformat_minor": 4
}
