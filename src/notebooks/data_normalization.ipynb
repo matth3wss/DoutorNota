{
 "cells": [
  {
   "cell_type": "code",
   "execution_count": 773,
   "metadata": {},
   "outputs": [],
   "source": [
    "import os\n",
    "import ast\n",
    "import pandas as pd\n",
    "import numpy as np"
   ]
  },
  {
   "cell_type": "code",
   "execution_count": 774,
   "metadata": {},
   "outputs": [],
   "source": [
    "cod_ccr_array = ['GEX404', 'GEX505', 'GEX968', 'GEX504', 'GEX008', 'GEX009',\n",
    "                 'GEX178', 'GEX506', 'GEX033', 'GEX981', 'GEX392', 'GEX001', \n",
    "                 'GEX213', 'GEX015', 'GEX605', 'GEX092', 'GEX609', 'GEX208', \n",
    "                 'GEX002', 'GEX036', 'GEX987', 'GEX395', 'GEX503', 'GEX004', \n",
    "                 'GEX195', 'GEX100', 'GEX612', 'GCS107', 'GCS580', 'GEX099', \n",
    "                 'GEX613', 'GEX016', 'GEX606', 'GEX104', 'GEX614', 'GEX093', \n",
    "                 'GEX608', 'GEX109', 'GEX618', 'GCH008', 'GCH290', 'GEX006', \n",
    "                 'GEX210', 'GEX102', 'GEX615', 'GEX103', 'GEX616', 'GEN039', \n",
    "                 'GEN254', 'GEN001', 'GEN253', 'GCH292', 'GCH293', 'GCS238', \n",
    "                 'GCS239', 'GEX003', 'GEX055', 'GEX090', 'GEX091', 'GEX098', \n",
    "                 'GEX101', 'GEX105', 'GEX107', 'GEX108', 'GEX110', 'GEX607', \n",
    "                 'GEX617', 'GEX657', 'GEX658', 'GLA104']\n",
    "\n"
   ]
  },
  {
   "cell_type": "code",
   "execution_count": 775,
   "metadata": {},
   "outputs": [],
   "source": [
    "# def normalize_column_value(df, target_column, values_to_change, new_value):\n",
    "#     \"\"\"\n",
    "#     Receives a dataframe, the target column name, a list of values to be normalized, and a new value to replace the old ones.\n",
    "\n",
    "#     :param df: The dataframe.\n",
    "#     :param target_column: The name of the column to be normalized.\n",
    "#     :param values_to_change: The list of values to be normalized.\n",
    "#     :param new_value: The new value to replace the old ones.\n",
    "\n",
    "#     :return: A dataframe with the normalized values in the specified column.\n",
    "#     :rtype: DataFrame\n",
    "#     \"\"\"\n",
    "#     df[target_column] = [new_value if x in values_to_change else x for x in df[target_column]]\n",
    "#     return df\n",
    "\n",
    "def normalize_column_value(df, target_column, values_to_change, new_value):\n",
    "    \"\"\"\n",
    "    Receives a dataframe, the target column name, a list of values to be normalized, and a new value to replace the old ones.\n",
    "\n",
    "    :param df: The dataframe.\n",
    "    :param target_column: The name of the column to be normalized.\n",
    "    :param values_to_change: The list of values to be normalized.\n",
    "    :param new_value: The new value to replace the old ones.\n",
    "\n",
    "    :return: A dataframe with the normalized values in the specified column.\n",
    "    :rtype: DataFrame\n",
    "    \"\"\"\n",
    "    df[target_column] = df[target_column].apply(lambda x: new_value if any(value in x for value in values_to_change) else x)\n",
    "    return df\n",
    "\n",
    "def remove_ccr(df, ccr_list):\n",
    "    \n",
    "    \"\"\"\n",
    "    Receives a dataframe and a list of ccrs to be removed.\n",
    "    \n",
    "    @param df: dataframe\n",
    "    @param ccr_list: list of ccrs to be removed\n",
    "    \n",
    "    @return: dataframe without the ccrs in the ccr_list\n",
    "    @rtype: dataframe\n",
    "    \"\"\"\n",
    "    \n",
    "    df = df[~df['nome_ccr'].str.contains(ccr_list)]\n",
    "    return df\n",
    "\n",
    "class DataFrameNormalizer:\n",
    "    def __init__(self, df, column, string_list):\n",
    "        self.df = df\n",
    "        self.column = column\n",
    "        self.string_list = string_list\n",
    "\n",
    "    def exclude_rows(self):\n",
    "        self.df = self.df[~self.df[self.column].str.contains('|'.join(self.string_list))]\n",
    "        return self.df\n",
    "\n",
    "    def include_rows(self):\n",
    "        self.df = self.df[self.df[self.column].isin(self.string_list)]\n",
    "        return self.df\n"
   ]
  },
  {
   "cell_type": "code",
   "execution_count": 776,
   "metadata": {
    "tags": []
   },
   "outputs": [
    {
     "data": {
      "text/plain": [
       "Index(['ano', 'cod_ccr', 'numero_faltas', 'freq_aluno', 'sit_matricula',\n",
       "       'media_final', 'nome_ccr', 'nome_cursos', 'lista_docentes'],\n",
       "      dtype='object')"
      ]
     },
     "execution_count": 776,
     "metadata": {},
     "output_type": "execute_result"
    }
   ],
   "source": [
    "alunos_df = pd.read_csv('../../src/input/merge/historico_turmas_merge.csv')\n",
    "alunos_df.columns"
   ]
  },
  {
   "cell_type": "markdown",
   "metadata": {},
   "source": [
    "# Data Normalization\n"
   ]
  },
  {
   "cell_type": "code",
   "execution_count": 777,
   "metadata": {},
   "outputs": [],
   "source": [
    "# replace all NaN values with 0\n",
    "alunos_df = alunos_df.fillna(0)"
   ]
  },
  {
   "cell_type": "markdown",
   "metadata": {},
   "source": [
    "### Turnos"
   ]
  },
  {
   "cell_type": "code",
   "execution_count": 778,
   "metadata": {},
   "outputs": [],
   "source": [
    "# df = normalize_column_value(df, 'cod_uffs', [1110], 1101) # Noturno matematica para computacao noturno\n",
    "\n",
    "# df = normalize_column_value(df, 'cod_uffs', [1301], 1100) # Integral ambiental para computacao vespertino\n",
    "\n",
    "# df = df.rename(columns={'cod_uffs': 'turno'})"
   ]
  },
  {
   "cell_type": "markdown",
   "metadata": {},
   "source": [
    "### TCC I e TCC II\n",
    "#### Segundo o ato deliberativo as disciplinas de 2010 não são equivalentes as de 2018"
   ]
  },
  {
   "cell_type": "code",
   "execution_count": 779,
   "metadata": {},
   "outputs": [],
   "source": [
    "# convert GEX119 to GEX657\n",
    "\n",
    "alunos_df = normalize_column_value(alunos_df, 'cod_ccr', ['GEX119'], 'GEX657')\n",
    "\n",
    "# GEX120 to GEX658\n",
    "\n",
    "alunos_df = normalize_column_value(alunos_df, 'cod_ccr', ['GEX120'], 'GEX658')\n"
   ]
  },
  {
   "cell_type": "markdown",
   "metadata": {},
   "source": [
    "### Computação gráfica avançada"
   ]
  },
  {
   "cell_type": "code",
   "execution_count": 780,
   "metadata": {},
   "outputs": [],
   "source": [
    "# GEX653 Computação gráfica \n",
    "# avançada\n",
    "# 4 GEX107 Computação gráfica\n",
    "\n",
    "alunos_df = normalize_column_value(alunos_df, 'nome_ccr', ['Computação gráfica'], 'Computação gráfica avançada')\n",
    "\n",
    "alunos_df = normalize_column_value(alunos_df, 'cod_ccr', ['GEX107'], 'GEX653')"
   ]
  },
  {
   "cell_type": "markdown",
   "metadata": {},
   "source": [
    "### Modelagem e simulação"
   ]
  },
  {
   "cell_type": "code",
   "execution_count": 781,
   "metadata": {},
   "outputs": [],
   "source": [
    "# GEX622 Modelagem e simulação 4 GEX433 Modelagem e simulação 4\n",
    "\n",
    "alunos_df = normalize_column_value(alunos_df, 'cod_ccr', ['GEX433'], 'GEX622')"
   ]
  },
  {
   "cell_type": "markdown",
   "metadata": {},
   "source": [
    "### Arquitetura de Computadores"
   ]
  },
  {
   "cell_type": "code",
   "execution_count": 782,
   "metadata": {},
   "outputs": [],
   "source": [
    "# GEX620 Arquitetura de computadores 4 GEX436 Arquitetura de computadores 4\n",
    "\n",
    "alunos_df = normalize_column_value(alunos_df, 'cod_ccr', ['GEX436'], 'GEX620')"
   ]
  },
  {
   "cell_type": "markdown",
   "metadata": {},
   "source": [
    "###  Direitos e cidadania"
   ]
  },
  {
   "cell_type": "code",
   "execution_count": 783,
   "metadata": {},
   "outputs": [],
   "source": [
    "# GCS239 Direitos e cidadania 4 GCS010 Direitos e cidadania 4\n",
    "\n",
    "alunos_df = normalize_column_value(alunos_df, 'cod_ccr', ['GCS010'], 'GCS239')"
   ]
  },
  {
   "cell_type": "markdown",
   "metadata": {},
   "source": [
    "### Filosofia"
   ]
  },
  {
   "cell_type": "code",
   "execution_count": null,
   "metadata": {},
   "outputs": [],
   "source": []
  },
  {
   "cell_type": "markdown",
   "metadata": {},
   "source": [
    "### Computação Gráfica"
   ]
  },
  {
   "cell_type": "code",
   "execution_count": 784,
   "metadata": {},
   "outputs": [],
   "source": [
    "alunos_df = normalize_column_value(alunos_df, 'cod_ccr', ['GEX107'], 'GEX653')"
   ]
  },
  {
   "cell_type": "markdown",
   "metadata": {},
   "source": [
    "###  Meio ambiente, economia e sociedade"
   ]
  },
  {
   "cell_type": "code",
   "execution_count": 785,
   "metadata": {},
   "outputs": [],
   "source": [
    "alunos_df = normalize_column_value(alunos_df, 'cod_ccr', ['GCS011'], 'GCS238')"
   ]
  },
  {
   "cell_type": "markdown",
   "metadata": {},
   "source": [
    "### Historia da Fronteira Sul"
   ]
  },
  {
   "cell_type": "code",
   "execution_count": 786,
   "metadata": {},
   "outputs": [],
   "source": [
    "# GCH292 História da fronteira Sul 4 GCH029 História da fronteira Sul\n",
    "\n",
    "alunos_df = normalize_column_value(alunos_df, 'cod_ccr', ['GCH029'], 'GCH292')"
   ]
  },
  {
   "cell_type": "markdown",
   "metadata": {},
   "source": [
    "### Produção textual acadêmica"
   ]
  },
  {
   "cell_type": "code",
   "execution_count": 787,
   "metadata": {},
   "outputs": [],
   "source": [
    "alunos_df = normalize_column_value(alunos_df, 'nome_ccr', ['Leitura e Produção Textual I', 'Leitura e Produção Textual II'], 'Produção Textual Acadêmica')\n",
    "\n",
    "# GLA001, GLA004 to GLA104\n",
    "alunos_df = normalize_column_value(alunos_df, 'cod_ccr', ['GLA001', 'GLA004'], 'GLA104')"
   ]
  },
  {
   "cell_type": "markdown",
   "metadata": {},
   "source": [
    "### Cálculo I"
   ]
  },
  {
   "cell_type": "code",
   "execution_count": 788,
   "metadata": {},
   "outputs": [],
   "source": [
    "alunos_df = normalize_column_value(alunos_df, 'nome_ccr', ['Cálculo A', 'Cálculo B', 'Cálculo III'], 'Cálculo I')\n",
    "\n",
    "alunos_df = normalize_column_value(alunos_df, 'cod_ccr', ['GEX404',  'GEX505', 'GEX968', 'GEX504', 'GEX008', 'GEX009'], 'GEX178')"
   ]
  },
  {
   "cell_type": "markdown",
   "metadata": {},
   "source": [
    "### Cálculo II"
   ]
  },
  {
   "cell_type": "code",
   "execution_count": 789,
   "metadata": {},
   "outputs": [],
   "source": [
    "alunos_df = normalize_column_value(alunos_df, 'nome_ccr', ['Cálculo C'], 'Cálculo II')\n",
    "\n",
    "alunos_df = normalize_column_value(alunos_df, 'cod_ccr', ['GEX506', 'GEX033', 'GEX981'], 'GEX392')"
   ]
  },
  {
   "cell_type": "markdown",
   "metadata": {},
   "source": [
    "### Álgebra Linear"
   ]
  },
  {
   "cell_type": "code",
   "execution_count": 790,
   "metadata": {},
   "outputs": [],
   "source": [
    "alunos_df = normalize_column_value(alunos_df, 'nome_ccr', ['Álgebra linear', 'Álgebra linear II' ], 'Algebra linear')\n",
    "\n",
    "alunos_df = normalize_column_value(alunos_df, 'cod_ccr',['GEX012', 'GEX982', 'GEX511', 'GEX517'], 'GEX607')"
   ]
  },
  {
   "cell_type": "markdown",
   "metadata": {},
   "source": [
    "### Matemática Discreta"
   ]
  },
  {
   "cell_type": "code",
   "execution_count": 791,
   "metadata": {},
   "outputs": [],
   "source": [
    "alunos_df = normalize_column_value(alunos_df, 'nome_ccr', ['Matemática instrumental'], 'Matemática C')\n",
    "\n",
    "alunos_df = normalize_column_value(alunos_df, 'cod_ccr', ['GEX001'], 'GEX213')"
   ]
  },
  {
   "cell_type": "markdown",
   "metadata": {},
   "source": [
    "### Estrutura de Dados"
   ]
  },
  {
   "cell_type": "code",
   "execution_count": 792,
   "metadata": {},
   "outputs": [],
   "source": [
    "alunos_df = normalize_column_value(alunos_df, 'nome_ccr', ['Estrutura de dados I'], 'Estruturas de dados')\n",
    "\n",
    "alunos_df = normalize_column_value(alunos_df, 'cod_ccr', ['GEX015'], 'GEX605')"
   ]
  },
  {
   "cell_type": "markdown",
   "metadata": {},
   "source": [
    "### Pesquisa e Ordenação De Dados"
   ]
  },
  {
   "cell_type": "code",
   "execution_count": 793,
   "metadata": {},
   "outputs": [],
   "source": [
    "alunos_df = normalize_column_value(alunos_df, 'nome_ccr', ['Estrutura de dados II'], 'Pesquisa e ordenação de dados')\n",
    "\n",
    "alunos_df = normalize_column_value(alunos_df, 'cod_ccr', ['GEX092'], 'GEX609')"
   ]
  },
  {
   "cell_type": "markdown",
   "metadata": {},
   "source": [
    "### Informática Básica"
   ]
  },
  {
   "cell_type": "code",
   "execution_count": 794,
   "metadata": {},
   "outputs": [],
   "source": [
    "alunos_df = normalize_column_value(alunos_df, 'nome_ccr', ['Introdução à informática'], 'Informática básica')\n",
    "\n",
    "alunos_df = normalize_column_value(alunos_df, 'cod_ccr', ['GEX208'], 'GEX002')"
   ]
  },
  {
   "cell_type": "markdown",
   "metadata": {},
   "source": [
    "### Cálculo Numérico"
   ]
  },
  {
   "cell_type": "code",
   "execution_count": 795,
   "metadata": {},
   "outputs": [],
   "source": [
    "alunos_df = normalize_column_value(alunos_df, 'cod_ccr', ['GEX036', 'GEX987'], 'GEX395')"
   ]
  },
  {
   "cell_type": "markdown",
   "metadata": {},
   "source": [
    "### Geometria Analítica"
   ]
  },
  {
   "cell_type": "code",
   "execution_count": 796,
   "metadata": {},
   "outputs": [],
   "source": [
    "alunos_df = normalize_column_value(alunos_df, 'cod_ccr', ['GEX503', 'GEX004'], 'GEX195')"
   ]
  },
  {
   "cell_type": "markdown",
   "metadata": {},
   "source": [
    "### Organização de Computadores"
   ]
  },
  {
   "cell_type": "code",
   "execution_count": 797,
   "metadata": {},
   "outputs": [],
   "source": [
    "alunos_df = normalize_column_value(alunos_df, 'cod_ccr', ['GEX100'], 'GEX612')"
   ]
  },
  {
   "cell_type": "markdown",
   "metadata": {},
   "source": [
    "### Planejamento e Gestão de Projetos"
   ]
  },
  {
   "cell_type": "code",
   "execution_count": 798,
   "metadata": {},
   "outputs": [],
   "source": [
    "alunos_df = normalize_column_value(alunos_df, 'cod_ccr', ['GCS107'], 'GCS580')"
   ]
  },
  {
   "cell_type": "markdown",
   "metadata": {},
   "source": [
    "### Programação II"
   ]
  },
  {
   "cell_type": "code",
   "execution_count": 799,
   "metadata": {},
   "outputs": [],
   "source": [
    "alunos_df = normalize_column_value(alunos_df, 'cod_ccr', ['GEX099'], 'GEX613')"
   ]
  },
  {
   "cell_type": "markdown",
   "metadata": {},
   "source": [
    "### Sistemas Digitais"
   ]
  },
  {
   "cell_type": "code",
   "execution_count": 800,
   "metadata": {},
   "outputs": [],
   "source": [
    "alunos_df = normalize_column_value(alunos_df, 'cod_ccr', ['GEX016'], 'GEX606')"
   ]
  },
  {
   "cell_type": "markdown",
   "metadata": {},
   "source": [
    "### Teoria da Computação"
   ]
  },
  {
   "cell_type": "code",
   "execution_count": 801,
   "metadata": {},
   "outputs": [],
   "source": [
    "alunos_df = normalize_column_value(alunos_df, 'cod_ccr', ['GEX104'], 'GEX614')"
   ]
  },
  {
   "cell_type": "markdown",
   "metadata": {},
   "source": [
    "### Matemática Discreta"
   ]
  },
  {
   "cell_type": "code",
   "execution_count": 802,
   "metadata": {},
   "outputs": [],
   "source": [
    "alunos_df = normalize_column_value(alunos_df, 'cod_ccr', ['GEX093'], 'GEX608')"
   ]
  },
  {
   "cell_type": "markdown",
   "metadata": {},
   "source": [
    "### Inteligência Artificial"
   ]
  },
  {
   "cell_type": "code",
   "execution_count": 803,
   "metadata": {},
   "outputs": [],
   "source": [
    "alunos_df = normalize_column_value(alunos_df, 'cod_ccr', ['GEX109'], 'GEX618')"
   ]
  },
  {
   "cell_type": "markdown",
   "metadata": {},
   "source": [
    "### Iniciação à Prática Científica"
   ]
  },
  {
   "cell_type": "code",
   "execution_count": 804,
   "metadata": {},
   "outputs": [],
   "source": [
    "alunos_df = normalize_column_value(alunos_df, 'cod_ccr', ['GCH008'], 'GCH290')"
   ]
  },
  {
   "cell_type": "markdown",
   "metadata": {},
   "source": [
    "### Estatística Básica"
   ]
  },
  {
   "cell_type": "code",
   "execution_count": 805,
   "metadata": {},
   "outputs": [],
   "source": [
    "alunos_df = normalize_column_value(alunos_df, 'cod_ccr', ['GEX006'], 'GEX210')"
   ]
  },
  {
   "cell_type": "markdown",
   "metadata": {},
   "source": [
    "### Engenharia de Software I"
   ]
  },
  {
   "cell_type": "code",
   "execution_count": 806,
   "metadata": {},
   "outputs": [],
   "source": [
    "alunos_df = normalize_column_value(alunos_df, 'cod_ccr', ['GEX102'], 'GEX615')"
   ]
  },
  {
   "cell_type": "markdown",
   "metadata": {},
   "source": [
    "### Engenharia de Software II"
   ]
  },
  {
   "cell_type": "code",
   "execution_count": 807,
   "metadata": {},
   "outputs": [],
   "source": [
    "alunos_df = normalize_column_value(alunos_df, 'cod_ccr', ['GEX103'], 'GEX616')"
   ]
  },
  {
   "cell_type": "markdown",
   "metadata": {},
   "source": [
    "### Grafos"
   ]
  },
  {
   "cell_type": "code",
   "execution_count": 808,
   "metadata": {},
   "outputs": [],
   "source": [
    "alunos_df = normalize_column_value(alunos_df, 'cod_ccr', ['GEN039'], 'GEN254')"
   ]
  },
  {
   "cell_type": "markdown",
   "metadata": {},
   "source": [
    "### Circuitos Digitais"
   ]
  },
  {
   "cell_type": "code",
   "execution_count": 809,
   "metadata": {},
   "outputs": [],
   "source": [
    "alunos_df = normalize_column_value(alunos_df, 'cod_ccr', ['GEN001'], 'GEN253')"
   ]
  },
  {
   "cell_type": "markdown",
   "metadata": {},
   "source": [
    "# Dataframe manipulation"
   ]
  },
  {
   "cell_type": "code",
   "execution_count": 810,
   "metadata": {},
   "outputs": [],
   "source": [
    "# Assuming df is your DataFrame\n",
    "value_counts = alunos_df['cod_ccr'].value_counts()\n",
    "\n",
    "# Using zip to combine values and counts\n",
    "nome_ccr_counts = list(zip(value_counts.index, value_counts.values))\n",
    "\n",
    "# Sorting the list of tuples based on nome_ccr values\n",
    "sorted_nome_ccr_counts = sorted(nome_ccr_counts, key=lambda x: x[0])\n",
    "# Convert the sorted list of tuples into a DataFrame\n",
    "df_sorted_counts = pd.DataFrame(sorted_nome_ccr_counts, columns=['cod_ccr', 'count'])\n",
    "\n",
    "ccrs_df = pd.read_csv('../../src/input/ccrs_uffs.csv')\n",
    "\n",
    "teste = pd.merge(df_sorted_counts, ccrs_df, on='cod_ccr', how='inner')\n",
    "# sort teste on nome_ccr\n",
    "teste = teste.sort_values(by=['nome_ccr'])\n",
    "teste.insert(2, 'count', teste.pop('count'))\n",
    "teste.to_csv('../../src/output/ccrs_counts.csv', index=False)"
   ]
  },
  {
   "cell_type": "code",
   "execution_count": 811,
   "metadata": {
    "tags": []
   },
   "outputs": [
    {
     "data": {
      "text/html": [
       "<div>\n",
       "<style scoped>\n",
       "    .dataframe tbody tr th:only-of-type {\n",
       "        vertical-align: middle;\n",
       "    }\n",
       "\n",
       "    .dataframe tbody tr th {\n",
       "        vertical-align: top;\n",
       "    }\n",
       "\n",
       "    .dataframe thead th {\n",
       "        text-align: right;\n",
       "    }\n",
       "</style>\n",
       "<table border=\"1\" class=\"dataframe\">\n",
       "  <thead>\n",
       "    <tr style=\"text-align: right;\">\n",
       "      <th></th>\n",
       "      <th>ano</th>\n",
       "      <th>cod_nome_turma</th>\n",
       "      <th>numero_faltas</th>\n",
       "      <th>freq_aluno</th>\n",
       "      <th>sit_matricula</th>\n",
       "      <th>media_final</th>\n",
       "      <th>nome_cursos</th>\n",
       "      <th>lista_docentes</th>\n",
       "    </tr>\n",
       "  </thead>\n",
       "  <tbody>\n",
       "    <tr>\n",
       "      <th>0</th>\n",
       "      <td>2018</td>\n",
       "      <td>PRODUÇÃO TEXTUAL ACADÊMICA - GLA104</td>\n",
       "      <td>0.0</td>\n",
       "      <td>0.00</td>\n",
       "      <td>CANCELADO</td>\n",
       "      <td>0.0</td>\n",
       "      <td>ARQUITETURA E URBANISMO; ENGENHARIA AMBIENTAL...</td>\n",
       "      <td>CLAUDIA CAMILA LARA</td>\n",
       "    </tr>\n",
       "    <tr>\n",
       "      <th>1</th>\n",
       "      <td>2018</td>\n",
       "      <td>PRODUÇÃO TEXTUAL ACADÊMICA - GLA104</td>\n",
       "      <td>0.0</td>\n",
       "      <td>0.00</td>\n",
       "      <td>TRANCADO</td>\n",
       "      <td>0.0</td>\n",
       "      <td>ARQUITETURA E URBANISMO; ENGENHARIA AMBIENTAL...</td>\n",
       "      <td>CLAUDIA CAMILA LARA</td>\n",
       "    </tr>\n",
       "    <tr>\n",
       "      <th>2</th>\n",
       "      <td>2018</td>\n",
       "      <td>PRODUÇÃO TEXTUAL ACADÊMICA - GLA104</td>\n",
       "      <td>16.0</td>\n",
       "      <td>77.78</td>\n",
       "      <td>APROVADO</td>\n",
       "      <td>7.6</td>\n",
       "      <td>ARQUITETURA E URBANISMO; ENGENHARIA AMBIENTAL...</td>\n",
       "      <td>CLAUDIA CAMILA LARA</td>\n",
       "    </tr>\n",
       "    <tr>\n",
       "      <th>3</th>\n",
       "      <td>2018</td>\n",
       "      <td>PRODUÇÃO TEXTUAL ACADÊMICA - GLA104</td>\n",
       "      <td>0.0</td>\n",
       "      <td>0.00</td>\n",
       "      <td>TRANCADO</td>\n",
       "      <td>0.0</td>\n",
       "      <td>ARQUITETURA E URBANISMO; ENGENHARIA AMBIENTAL...</td>\n",
       "      <td>CLAUDIA CAMILA LARA</td>\n",
       "    </tr>\n",
       "    <tr>\n",
       "      <th>4</th>\n",
       "      <td>2018</td>\n",
       "      <td>PRODUÇÃO TEXTUAL ACADÊMICA - GLA104</td>\n",
       "      <td>0.0</td>\n",
       "      <td>0.00</td>\n",
       "      <td>CANCELADO</td>\n",
       "      <td>0.0</td>\n",
       "      <td>ARQUITETURA E URBANISMO; ENGENHARIA AMBIENTAL...</td>\n",
       "      <td>CLAUDIA CAMILA LARA</td>\n",
       "    </tr>\n",
       "    <tr>\n",
       "      <th>...</th>\n",
       "      <td>...</td>\n",
       "      <td>...</td>\n",
       "      <td>...</td>\n",
       "      <td>...</td>\n",
       "      <td>...</td>\n",
       "      <td>...</td>\n",
       "      <td>...</td>\n",
       "      <td>...</td>\n",
       "    </tr>\n",
       "    <tr>\n",
       "      <th>50237</th>\n",
       "      <td>2023</td>\n",
       "      <td>TÓPICOS ESPECIAIS EM COMPUTAÇÃO XXXIII - GEX1083</td>\n",
       "      <td>32.0</td>\n",
       "      <td>55.56</td>\n",
       "      <td>MATRICULADO</td>\n",
       "      <td>0.0</td>\n",
       "      <td>CIÊNCIA DA COMPUTAÇÃO</td>\n",
       "      <td>GIANCARLO DONDONI SALTON</td>\n",
       "    </tr>\n",
       "    <tr>\n",
       "      <th>50238</th>\n",
       "      <td>2023</td>\n",
       "      <td>TÓPICOS ESPECIAIS EM COMPUTAÇÃO XXXIII - GEX1083</td>\n",
       "      <td>56.0</td>\n",
       "      <td>22.22</td>\n",
       "      <td>MATRICULADO</td>\n",
       "      <td>0.0</td>\n",
       "      <td>CIÊNCIA DA COMPUTAÇÃO</td>\n",
       "      <td>GIANCARLO DONDONI SALTON</td>\n",
       "    </tr>\n",
       "    <tr>\n",
       "      <th>50239</th>\n",
       "      <td>2023</td>\n",
       "      <td>TÓPICOS ESPECIAIS EM COMPUTAÇÃO XXXIII - GEX1083</td>\n",
       "      <td>52.0</td>\n",
       "      <td>27.78</td>\n",
       "      <td>MATRICULADO</td>\n",
       "      <td>0.0</td>\n",
       "      <td>CIÊNCIA DA COMPUTAÇÃO</td>\n",
       "      <td>GIANCARLO DONDONI SALTON</td>\n",
       "    </tr>\n",
       "    <tr>\n",
       "      <th>50240</th>\n",
       "      <td>2023</td>\n",
       "      <td>TÓPICOS ESPECIAIS EM COMPUTAÇÃO XXXIII - GEX1083</td>\n",
       "      <td>56.0</td>\n",
       "      <td>22.22</td>\n",
       "      <td>MATRICULADO</td>\n",
       "      <td>0.0</td>\n",
       "      <td>CIÊNCIA DA COMPUTAÇÃO</td>\n",
       "      <td>GIANCARLO DONDONI SALTON</td>\n",
       "    </tr>\n",
       "    <tr>\n",
       "      <th>50241</th>\n",
       "      <td>2023</td>\n",
       "      <td>TÓPICOS ESPECIAIS EM COMPUTAÇÃO XXXIII - GEX1083</td>\n",
       "      <td>4.0</td>\n",
       "      <td>94.44</td>\n",
       "      <td>MATRICULADO</td>\n",
       "      <td>0.0</td>\n",
       "      <td>CIÊNCIA DA COMPUTAÇÃO</td>\n",
       "      <td>GIANCARLO DONDONI SALTON</td>\n",
       "    </tr>\n",
       "  </tbody>\n",
       "</table>\n",
       "<p>50242 rows × 8 columns</p>\n",
       "</div>"
      ],
      "text/plain": [
       "        ano                                    cod_nome_turma  numero_faltas  \\\n",
       "0      2018               PRODUÇÃO TEXTUAL ACADÊMICA - GLA104            0.0   \n",
       "1      2018               PRODUÇÃO TEXTUAL ACADÊMICA - GLA104            0.0   \n",
       "2      2018               PRODUÇÃO TEXTUAL ACADÊMICA - GLA104           16.0   \n",
       "3      2018               PRODUÇÃO TEXTUAL ACADÊMICA - GLA104            0.0   \n",
       "4      2018               PRODUÇÃO TEXTUAL ACADÊMICA - GLA104            0.0   \n",
       "...     ...                                               ...            ...   \n",
       "50237  2023  TÓPICOS ESPECIAIS EM COMPUTAÇÃO XXXIII - GEX1083           32.0   \n",
       "50238  2023  TÓPICOS ESPECIAIS EM COMPUTAÇÃO XXXIII - GEX1083           56.0   \n",
       "50239  2023  TÓPICOS ESPECIAIS EM COMPUTAÇÃO XXXIII - GEX1083           52.0   \n",
       "50240  2023  TÓPICOS ESPECIAIS EM COMPUTAÇÃO XXXIII - GEX1083           56.0   \n",
       "50241  2023  TÓPICOS ESPECIAIS EM COMPUTAÇÃO XXXIII - GEX1083            4.0   \n",
       "\n",
       "       freq_aluno sit_matricula  media_final  \\\n",
       "0            0.00     CANCELADO          0.0   \n",
       "1            0.00      TRANCADO          0.0   \n",
       "2           77.78      APROVADO          7.6   \n",
       "3            0.00      TRANCADO          0.0   \n",
       "4            0.00     CANCELADO          0.0   \n",
       "...           ...           ...          ...   \n",
       "50237       55.56   MATRICULADO          0.0   \n",
       "50238       22.22   MATRICULADO          0.0   \n",
       "50239       27.78   MATRICULADO          0.0   \n",
       "50240       22.22   MATRICULADO          0.0   \n",
       "50241       94.44   MATRICULADO          0.0   \n",
       "\n",
       "                                             nome_cursos  \\\n",
       "0       ARQUITETURA E URBANISMO; ENGENHARIA AMBIENTAL...   \n",
       "1       ARQUITETURA E URBANISMO; ENGENHARIA AMBIENTAL...   \n",
       "2       ARQUITETURA E URBANISMO; ENGENHARIA AMBIENTAL...   \n",
       "3       ARQUITETURA E URBANISMO; ENGENHARIA AMBIENTAL...   \n",
       "4       ARQUITETURA E URBANISMO; ENGENHARIA AMBIENTAL...   \n",
       "...                                                  ...   \n",
       "50237                              CIÊNCIA DA COMPUTAÇÃO   \n",
       "50238                              CIÊNCIA DA COMPUTAÇÃO   \n",
       "50239                              CIÊNCIA DA COMPUTAÇÃO   \n",
       "50240                              CIÊNCIA DA COMPUTAÇÃO   \n",
       "50241                              CIÊNCIA DA COMPUTAÇÃO   \n",
       "\n",
       "                 lista_docentes  \n",
       "0           CLAUDIA CAMILA LARA  \n",
       "1           CLAUDIA CAMILA LARA  \n",
       "2           CLAUDIA CAMILA LARA  \n",
       "3           CLAUDIA CAMILA LARA  \n",
       "4           CLAUDIA CAMILA LARA  \n",
       "...                         ...  \n",
       "50237  GIANCARLO DONDONI SALTON  \n",
       "50238  GIANCARLO DONDONI SALTON  \n",
       "50239  GIANCARLO DONDONI SALTON  \n",
       "50240  GIANCARLO DONDONI SALTON  \n",
       "50241  GIANCARLO DONDONI SALTON  \n",
       "\n",
       "[50242 rows x 8 columns]"
      ]
     },
     "execution_count": 811,
     "metadata": {},
     "output_type": "execute_result"
    }
   ],
   "source": [
    "#  Cria uma nova coluna cod_nome_turma na posição 4 com a concatenação das colunas nome_ccr e cod_ccr\n",
    "alunos_df.insert(1, 'cod_nome_turma', alunos_df['nome_ccr'] + ' - ' + alunos_df['cod_ccr'])\n",
    "\n",
    "# 'cod_ccr', 'nome_ccr', 'cod_nome_turma'\n",
    "alunos_df = alunos_df.drop(['cod_ccr', 'nome_ccr'], axis=1)\n",
    "\n",
    "# # Renomeia a coluna cod_nome_turma para nome_ccr trazendo os valores junto\n",
    "# alunos_df.insert(alunos_df.columns.get_loc('cod_nome_turma'), 'ccr', alunos_df.pop('cod_nome_turma'))\n",
    "\n",
    "alunos_df"
   ]
  },
  {
   "cell_type": "code",
   "execution_count": 812,
   "metadata": {},
   "outputs": [
    {
     "data": {
      "text/plain": [
       "APROVADO                            28345\n",
       "REPROVADO POR NOTA E FALTA           7752\n",
       "REPROVADO POR NOTA                   5303\n",
       "TRANCADO                             3874\n",
       "CANCELADO                            2527\n",
       "MATRICULADO                          2083\n",
       "REPROVADO                             135\n",
       "DESISTENCIA                           108\n",
       "REPROVADO POR MÉDIA E POR FALTAS       79\n",
       "REPROVADO POR FALTAS                   36\n",
       "Name: sit_matricula, dtype: int64"
      ]
     },
     "execution_count": 812,
     "metadata": {},
     "output_type": "execute_result"
    }
   ],
   "source": [
    "# unique values of column sit_matricula and counts where media_final > 0\n",
    "alunos_df['sit_matricula'].value_counts()"
   ]
  },
  {
   "cell_type": "code",
   "execution_count": 813,
   "metadata": {},
   "outputs": [
    {
     "data": {
      "text/plain": [
       "APROVADO     28345\n",
       "REPROVADO    13305\n",
       "Name: sit_matricula, dtype: int64"
      ]
     },
     "execution_count": 813,
     "metadata": {},
     "output_type": "execute_result"
    }
   ],
   "source": [
    "# unique values of column sit_matricula and counts where media_final > 0\n",
    "alunos_df = normalize_column_value(alunos_df, 'sit_matricula', ['REPROVADO'], 'REPROVADO')\n",
    "\n",
    "new_to_drop_status = ['DESISTENCIA', 'MATRICULADO', 'CANCELADO', 'TRANCADO']\n",
    "\n",
    "alunos_df = DataFrameNormalizer(alunos_df, 'sit_matricula', new_to_drop_status).exclude_rows()\n",
    "alunos_df['sit_matricula'].value_counts()"
   ]
  },
  {
   "cell_type": "code",
   "execution_count": 814,
   "metadata": {},
   "outputs": [],
   "source": [
    "# Drop rows where status column is 1 and media_final is 0\n",
    "alunos_df = alunos_df.drop(alunos_df[(alunos_df.sit_matricula == 'REPROVADO') & (alunos_df.media_final == 0) & (alunos_df.freq_aluno == 100)].index)\n",
    "# alunos_df = alunos_df.drop(alunos_df[(alunos_df.sit_matricula == 'REPROVADO') & (alunos_df.freq_aluno == 0)].index)\n",
    "alunos_df = alunos_df.drop(alunos_df[(alunos_df.sit_matricula == 'REPROVADO') & (alunos_df.media_final == 0)].index)"
   ]
  },
  {
   "cell_type": "code",
   "execution_count": 815,
   "metadata": {},
   "outputs": [
    {
     "data": {
      "text/plain": [
       "APROVADO     28345\n",
       "REPROVADO    12569\n",
       "Name: sit_matricula, dtype: int64"
      ]
     },
     "execution_count": 815,
     "metadata": {},
     "output_type": "execute_result"
    }
   ],
   "source": [
    "alunos_df['sit_matricula'].value_counts()"
   ]
  },
  {
   "cell_type": "code",
   "execution_count": 816,
   "metadata": {},
   "outputs": [],
   "source": [
    "alunos_df = alunos_df.drop(['media_final'], axis=1)"
   ]
  },
  {
   "cell_type": "code",
   "execution_count": 817,
   "metadata": {
    "tags": []
   },
   "outputs": [
    {
     "ename": "KeyError",
     "evalue": "'lista_docentes_ch'",
     "output_type": "error",
     "traceback": [
      "\u001b[1;31m---------------------------------------------------------------------------\u001b[0m",
      "\u001b[1;31mKeyError\u001b[0m                                  Traceback (most recent call last)",
      "File \u001b[1;32mc:\\Users\\mathe\\Desktop\\Projetos Pessoais\\DoutorNotas\\DoutorNota\\.venv\\Lib\\site-packages\\pandas\\core\\indexes\\base.py:3802\u001b[0m, in \u001b[0;36mIndex.get_loc\u001b[1;34m(self, key, method, tolerance)\u001b[0m\n\u001b[0;32m   3801\u001b[0m \u001b[38;5;28;01mtry\u001b[39;00m:\n\u001b[1;32m-> 3802\u001b[0m     \u001b[38;5;28;01mreturn\u001b[39;00m \u001b[38;5;28;43mself\u001b[39;49m\u001b[38;5;241;43m.\u001b[39;49m\u001b[43m_engine\u001b[49m\u001b[38;5;241;43m.\u001b[39;49m\u001b[43mget_loc\u001b[49m\u001b[43m(\u001b[49m\u001b[43mcasted_key\u001b[49m\u001b[43m)\u001b[49m\n\u001b[0;32m   3803\u001b[0m \u001b[38;5;28;01mexcept\u001b[39;00m \u001b[38;5;167;01mKeyError\u001b[39;00m \u001b[38;5;28;01mas\u001b[39;00m err:\n",
      "File \u001b[1;32mc:\\Users\\mathe\\Desktop\\Projetos Pessoais\\DoutorNotas\\DoutorNota\\.venv\\Lib\\site-packages\\pandas\\_libs\\index.pyx:138\u001b[0m, in \u001b[0;36mpandas._libs.index.IndexEngine.get_loc\u001b[1;34m()\u001b[0m\n",
      "File \u001b[1;32mc:\\Users\\mathe\\Desktop\\Projetos Pessoais\\DoutorNotas\\DoutorNota\\.venv\\Lib\\site-packages\\pandas\\_libs\\index.pyx:165\u001b[0m, in \u001b[0;36mpandas._libs.index.IndexEngine.get_loc\u001b[1;34m()\u001b[0m\n",
      "File \u001b[1;32mpandas\\_libs\\hashtable_class_helper.pxi:5745\u001b[0m, in \u001b[0;36mpandas._libs.hashtable.PyObjectHashTable.get_item\u001b[1;34m()\u001b[0m\n",
      "File \u001b[1;32mpandas\\_libs\\hashtable_class_helper.pxi:5753\u001b[0m, in \u001b[0;36mpandas._libs.hashtable.PyObjectHashTable.get_item\u001b[1;34m()\u001b[0m\n",
      "\u001b[1;31mKeyError\u001b[0m: 'lista_docentes_ch'",
      "\nThe above exception was the direct cause of the following exception:\n",
      "\u001b[1;31mKeyError\u001b[0m                                  Traceback (most recent call last)",
      "Cell \u001b[1;32mIn[817], line 32\u001b[0m\n\u001b[0;32m     29\u001b[0m     \u001b[38;5;28;01mreturn\u001b[39;00m \u001b[38;5;124m'\u001b[39m\u001b[38;5;124m, \u001b[39m\u001b[38;5;124m'\u001b[39m\u001b[38;5;241m.\u001b[39mjoin(nomes)\n\u001b[0;32m     31\u001b[0m \u001b[38;5;66;03m# Aplicar a função formatar_lista na coluna lista_docentes_ch e armazenar o resultado na coluna nome_docente\u001b[39;00m\n\u001b[1;32m---> 32\u001b[0m alunos_df\u001b[38;5;241m.\u001b[39minsert(\u001b[38;5;241m2\u001b[39m, \u001b[38;5;124m'\u001b[39m\u001b[38;5;124mnome_docente\u001b[39m\u001b[38;5;124m'\u001b[39m, \u001b[43malunos_df\u001b[49m\u001b[43m[\u001b[49m\u001b[38;5;124;43m'\u001b[39;49m\u001b[38;5;124;43mlista_docentes_ch\u001b[39;49m\u001b[38;5;124;43m'\u001b[39;49m\u001b[43m]\u001b[49m\u001b[38;5;241m.\u001b[39mapply(formatar_lista))\n\u001b[0;32m     34\u001b[0m alunos_df \u001b[38;5;241m=\u001b[39m alunos_df\u001b[38;5;241m.\u001b[39mdrop([\u001b[38;5;124m'\u001b[39m\u001b[38;5;124mlista_docentes_ch\u001b[39m\u001b[38;5;124m'\u001b[39m], axis\u001b[38;5;241m=\u001b[39m\u001b[38;5;241m1\u001b[39m)\n\u001b[0;32m     36\u001b[0m \u001b[38;5;66;03m# print all unique values of nome_docente where nome_curso=\"CIÊNCIA DA COMPUTAÇÃO\" and ano>=2022\u001b[39;00m\n",
      "File \u001b[1;32mc:\\Users\\mathe\\Desktop\\Projetos Pessoais\\DoutorNotas\\DoutorNota\\.venv\\Lib\\site-packages\\pandas\\core\\frame.py:3807\u001b[0m, in \u001b[0;36mDataFrame.__getitem__\u001b[1;34m(self, key)\u001b[0m\n\u001b[0;32m   3805\u001b[0m \u001b[38;5;28;01mif\u001b[39;00m \u001b[38;5;28mself\u001b[39m\u001b[38;5;241m.\u001b[39mcolumns\u001b[38;5;241m.\u001b[39mnlevels \u001b[38;5;241m>\u001b[39m \u001b[38;5;241m1\u001b[39m:\n\u001b[0;32m   3806\u001b[0m     \u001b[38;5;28;01mreturn\u001b[39;00m \u001b[38;5;28mself\u001b[39m\u001b[38;5;241m.\u001b[39m_getitem_multilevel(key)\n\u001b[1;32m-> 3807\u001b[0m indexer \u001b[38;5;241m=\u001b[39m \u001b[38;5;28;43mself\u001b[39;49m\u001b[38;5;241;43m.\u001b[39;49m\u001b[43mcolumns\u001b[49m\u001b[38;5;241;43m.\u001b[39;49m\u001b[43mget_loc\u001b[49m\u001b[43m(\u001b[49m\u001b[43mkey\u001b[49m\u001b[43m)\u001b[49m\n\u001b[0;32m   3808\u001b[0m \u001b[38;5;28;01mif\u001b[39;00m is_integer(indexer):\n\u001b[0;32m   3809\u001b[0m     indexer \u001b[38;5;241m=\u001b[39m [indexer]\n",
      "File \u001b[1;32mc:\\Users\\mathe\\Desktop\\Projetos Pessoais\\DoutorNotas\\DoutorNota\\.venv\\Lib\\site-packages\\pandas\\core\\indexes\\base.py:3804\u001b[0m, in \u001b[0;36mIndex.get_loc\u001b[1;34m(self, key, method, tolerance)\u001b[0m\n\u001b[0;32m   3802\u001b[0m     \u001b[38;5;28;01mreturn\u001b[39;00m \u001b[38;5;28mself\u001b[39m\u001b[38;5;241m.\u001b[39m_engine\u001b[38;5;241m.\u001b[39mget_loc(casted_key)\n\u001b[0;32m   3803\u001b[0m \u001b[38;5;28;01mexcept\u001b[39;00m \u001b[38;5;167;01mKeyError\u001b[39;00m \u001b[38;5;28;01mas\u001b[39;00m err:\n\u001b[1;32m-> 3804\u001b[0m     \u001b[38;5;28;01mraise\u001b[39;00m \u001b[38;5;167;01mKeyError\u001b[39;00m(key) \u001b[38;5;28;01mfrom\u001b[39;00m \u001b[38;5;21;01merr\u001b[39;00m\n\u001b[0;32m   3805\u001b[0m \u001b[38;5;28;01mexcept\u001b[39;00m \u001b[38;5;167;01mTypeError\u001b[39;00m:\n\u001b[0;32m   3806\u001b[0m     \u001b[38;5;66;03m# If we have a listlike key, _check_indexing_error will raise\u001b[39;00m\n\u001b[0;32m   3807\u001b[0m     \u001b[38;5;66;03m#  InvalidIndexError. Otherwise we fall through and re-raise\u001b[39;00m\n\u001b[0;32m   3808\u001b[0m     \u001b[38;5;66;03m#  the TypeError.\u001b[39;00m\n\u001b[0;32m   3809\u001b[0m     \u001b[38;5;28mself\u001b[39m\u001b[38;5;241m.\u001b[39m_check_indexing_error(key)\n",
      "\u001b[1;31mKeyError\u001b[0m: 'lista_docentes_ch'"
     ]
    }
   ],
   "source": [
    "def label_status(data):\n",
    "    if data == 'APROVADO':\n",
    "        return 0\n",
    "    elif data == 'REPROVADO POR NOTA' or 'REPROVADO POR NOTA E FREQUÊNCIA' or 'REPROVADO POR FREQUÊNCIA':\n",
    "        return 1\n",
    "    # elif data == 'REPROVADO POR NOTA' or 'REPROVADO POR NOTA E FREQUÊNCIA' or 'REPROVADO POR FREQUÊNCIA' or 'DESISTENTE':\n",
    "    #     return 1\n",
    "    \n",
    "# def label_shift(data):\n",
    "#     if data == 1101:\n",
    "#         return 'NOTURNO'\n",
    "#     elif data == 1100:\n",
    "#         return 'VESPERTINO'\n",
    "    \n",
    "# alunos_df['turno'] = alunos_df['turno'].apply(label_shift)\n",
    "\n",
    "alunos_df.insert(0, 'status', alunos_df['sit_matricula'].apply(label_status))\n",
    "alunos_df = alunos_df.drop(['sit_matricula'], axis=1)\n",
    "\n",
    "# Função para extrair o nome do docente\n",
    "def extrair_nome(docente):\n",
    "    return docente['docente']\n",
    "\n",
    "# Função para aplicar nas listas da coluna lista_docentes_ch\n",
    "def formatar_lista(lista):\n",
    "    # Transformar a string em lista\n",
    "    docentes = ast.literal_eval(lista)\n",
    "    nomes = [f\"{extrair_nome(docente)}\" for docente in docentes]\n",
    "    return ', '.join(nomes)\n",
    "\n",
    "# Aplicar a função formatar_lista na coluna lista_docentes_ch e armazenar o resultado na coluna nome_docente\n",
    "alunos_df.insert(2, 'nome_docente', alunos_df['lista_docentes_ch'].apply(formatar_lista))\n",
    "\n",
    "alunos_df = alunos_df.drop(['lista_docentes_ch'], axis=1)\n",
    "\n",
    "# print all unique values of nome_docente where nome_curso=\"CIÊNCIA DA COMPUTAÇÃO\" and ano>=2022\n",
    "docentes_cc = alunos_df[(alunos_df['nome_curso'] == 'CIÊNCIA DA COMPUTAÇÃO') & (alunos_df['ano'] >= 2022)]['nome_docente'].unique()\n",
    "\n",
    "# Include only rows where nome_docente is in docentes_cc    \n",
    "alunos_df = DataFrameNormalizer(alunos_df, 'nome_docente', docentes_cc).include_rows()\n",
    "\n",
    "# count number of times a teacher taught a subject group by it in ascending order, ex: ccr, nome_docente, count\n",
    "result = alunos_df.groupby(['ccr', 'nome_docente']).size().reset_index(name='count')\n",
    "result.sort_values(by=['count'], inplace=True)\n",
    "\n",
    "# Remove a coluna nome_curso\n",
    "alunos_df = alunos_df.drop('nome_curso', axis=1)\n",
    "\n",
    "# Remove a coluna ano\n",
    "alunos_df = alunos_df.drop('ano', axis=1)\n",
    "\n",
    "# change freq_aluno position to index 1 using insert function\n",
    "alunos_df.insert(3, 'freq_aluno', alunos_df.pop('freq_aluno'))\n",
    "\n",
    "if not os.path.exists(\"../src/output\"):\n",
    "    os.makedirs(\"../src/output\")\n",
    "    \n",
    "# order by nome_ccr and then by nome_docente\n",
    "alunos_df = alunos_df.sort_values(by=['ccr', 'nome_docente'])\n",
    "    \n",
    "alunos_df.to_csv('../../src/output/alunos_final.csv', index=False)\n",
    "alunos_df"
   ]
  },
  {
   "cell_type": "code",
   "execution_count": null,
   "metadata": {},
   "outputs": [],
   "source": [
    "result.to_csv('../../src/output/alunos_docentes.csv', index=False)"
   ]
  }
 ],
 "metadata": {
  "availableInstances": [
   {
    "_defaultOrder": 0,
    "_isFastLaunch": true,
    "category": "General purpose",
    "gpuNum": 0,
    "hideHardwareSpecs": false,
    "memoryGiB": 4,
    "name": "ml.t3.medium",
    "vcpuNum": 2
   },
   {
    "_defaultOrder": 1,
    "_isFastLaunch": false,
    "category": "General purpose",
    "gpuNum": 0,
    "hideHardwareSpecs": false,
    "memoryGiB": 8,
    "name": "ml.t3.large",
    "vcpuNum": 2
   },
   {
    "_defaultOrder": 2,
    "_isFastLaunch": false,
    "category": "General purpose",
    "gpuNum": 0,
    "hideHardwareSpecs": false,
    "memoryGiB": 16,
    "name": "ml.t3.xlarge",
    "vcpuNum": 4
   },
   {
    "_defaultOrder": 3,
    "_isFastLaunch": false,
    "category": "General purpose",
    "gpuNum": 0,
    "hideHardwareSpecs": false,
    "memoryGiB": 32,
    "name": "ml.t3.2xlarge",
    "vcpuNum": 8
   },
   {
    "_defaultOrder": 4,
    "_isFastLaunch": true,
    "category": "General purpose",
    "gpuNum": 0,
    "hideHardwareSpecs": false,
    "memoryGiB": 8,
    "name": "ml.m5.large",
    "vcpuNum": 2
   },
   {
    "_defaultOrder": 5,
    "_isFastLaunch": false,
    "category": "General purpose",
    "gpuNum": 0,
    "hideHardwareSpecs": false,
    "memoryGiB": 16,
    "name": "ml.m5.xlarge",
    "vcpuNum": 4
   },
   {
    "_defaultOrder": 6,
    "_isFastLaunch": false,
    "category": "General purpose",
    "gpuNum": 0,
    "hideHardwareSpecs": false,
    "memoryGiB": 32,
    "name": "ml.m5.2xlarge",
    "vcpuNum": 8
   },
   {
    "_defaultOrder": 7,
    "_isFastLaunch": false,
    "category": "General purpose",
    "gpuNum": 0,
    "hideHardwareSpecs": false,
    "memoryGiB": 64,
    "name": "ml.m5.4xlarge",
    "vcpuNum": 16
   },
   {
    "_defaultOrder": 8,
    "_isFastLaunch": false,
    "category": "General purpose",
    "gpuNum": 0,
    "hideHardwareSpecs": false,
    "memoryGiB": 128,
    "name": "ml.m5.8xlarge",
    "vcpuNum": 32
   },
   {
    "_defaultOrder": 9,
    "_isFastLaunch": false,
    "category": "General purpose",
    "gpuNum": 0,
    "hideHardwareSpecs": false,
    "memoryGiB": 192,
    "name": "ml.m5.12xlarge",
    "vcpuNum": 48
   },
   {
    "_defaultOrder": 10,
    "_isFastLaunch": false,
    "category": "General purpose",
    "gpuNum": 0,
    "hideHardwareSpecs": false,
    "memoryGiB": 256,
    "name": "ml.m5.16xlarge",
    "vcpuNum": 64
   },
   {
    "_defaultOrder": 11,
    "_isFastLaunch": false,
    "category": "General purpose",
    "gpuNum": 0,
    "hideHardwareSpecs": false,
    "memoryGiB": 384,
    "name": "ml.m5.24xlarge",
    "vcpuNum": 96
   },
   {
    "_defaultOrder": 12,
    "_isFastLaunch": false,
    "category": "General purpose",
    "gpuNum": 0,
    "hideHardwareSpecs": false,
    "memoryGiB": 8,
    "name": "ml.m5d.large",
    "vcpuNum": 2
   },
   {
    "_defaultOrder": 13,
    "_isFastLaunch": false,
    "category": "General purpose",
    "gpuNum": 0,
    "hideHardwareSpecs": false,
    "memoryGiB": 16,
    "name": "ml.m5d.xlarge",
    "vcpuNum": 4
   },
   {
    "_defaultOrder": 14,
    "_isFastLaunch": false,
    "category": "General purpose",
    "gpuNum": 0,
    "hideHardwareSpecs": false,
    "memoryGiB": 32,
    "name": "ml.m5d.2xlarge",
    "vcpuNum": 8
   },
   {
    "_defaultOrder": 15,
    "_isFastLaunch": false,
    "category": "General purpose",
    "gpuNum": 0,
    "hideHardwareSpecs": false,
    "memoryGiB": 64,
    "name": "ml.m5d.4xlarge",
    "vcpuNum": 16
   },
   {
    "_defaultOrder": 16,
    "_isFastLaunch": false,
    "category": "General purpose",
    "gpuNum": 0,
    "hideHardwareSpecs": false,
    "memoryGiB": 128,
    "name": "ml.m5d.8xlarge",
    "vcpuNum": 32
   },
   {
    "_defaultOrder": 17,
    "_isFastLaunch": false,
    "category": "General purpose",
    "gpuNum": 0,
    "hideHardwareSpecs": false,
    "memoryGiB": 192,
    "name": "ml.m5d.12xlarge",
    "vcpuNum": 48
   },
   {
    "_defaultOrder": 18,
    "_isFastLaunch": false,
    "category": "General purpose",
    "gpuNum": 0,
    "hideHardwareSpecs": false,
    "memoryGiB": 256,
    "name": "ml.m5d.16xlarge",
    "vcpuNum": 64
   },
   {
    "_defaultOrder": 19,
    "_isFastLaunch": false,
    "category": "General purpose",
    "gpuNum": 0,
    "hideHardwareSpecs": false,
    "memoryGiB": 384,
    "name": "ml.m5d.24xlarge",
    "vcpuNum": 96
   },
   {
    "_defaultOrder": 20,
    "_isFastLaunch": false,
    "category": "General purpose",
    "gpuNum": 0,
    "hideHardwareSpecs": true,
    "memoryGiB": 0,
    "name": "ml.geospatial.interactive",
    "supportedImageNames": [
     "sagemaker-geospatial-v1-0"
    ],
    "vcpuNum": 0
   },
   {
    "_defaultOrder": 21,
    "_isFastLaunch": true,
    "category": "Compute optimized",
    "gpuNum": 0,
    "hideHardwareSpecs": false,
    "memoryGiB": 4,
    "name": "ml.c5.large",
    "vcpuNum": 2
   },
   {
    "_defaultOrder": 22,
    "_isFastLaunch": false,
    "category": "Compute optimized",
    "gpuNum": 0,
    "hideHardwareSpecs": false,
    "memoryGiB": 8,
    "name": "ml.c5.xlarge",
    "vcpuNum": 4
   },
   {
    "_defaultOrder": 23,
    "_isFastLaunch": false,
    "category": "Compute optimized",
    "gpuNum": 0,
    "hideHardwareSpecs": false,
    "memoryGiB": 16,
    "name": "ml.c5.2xlarge",
    "vcpuNum": 8
   },
   {
    "_defaultOrder": 24,
    "_isFastLaunch": false,
    "category": "Compute optimized",
    "gpuNum": 0,
    "hideHardwareSpecs": false,
    "memoryGiB": 32,
    "name": "ml.c5.4xlarge",
    "vcpuNum": 16
   },
   {
    "_defaultOrder": 25,
    "_isFastLaunch": false,
    "category": "Compute optimized",
    "gpuNum": 0,
    "hideHardwareSpecs": false,
    "memoryGiB": 72,
    "name": "ml.c5.9xlarge",
    "vcpuNum": 36
   },
   {
    "_defaultOrder": 26,
    "_isFastLaunch": false,
    "category": "Compute optimized",
    "gpuNum": 0,
    "hideHardwareSpecs": false,
    "memoryGiB": 96,
    "name": "ml.c5.12xlarge",
    "vcpuNum": 48
   },
   {
    "_defaultOrder": 27,
    "_isFastLaunch": false,
    "category": "Compute optimized",
    "gpuNum": 0,
    "hideHardwareSpecs": false,
    "memoryGiB": 144,
    "name": "ml.c5.18xlarge",
    "vcpuNum": 72
   },
   {
    "_defaultOrder": 28,
    "_isFastLaunch": false,
    "category": "Compute optimized",
    "gpuNum": 0,
    "hideHardwareSpecs": false,
    "memoryGiB": 192,
    "name": "ml.c5.24xlarge",
    "vcpuNum": 96
   },
   {
    "_defaultOrder": 29,
    "_isFastLaunch": true,
    "category": "Accelerated computing",
    "gpuNum": 1,
    "hideHardwareSpecs": false,
    "memoryGiB": 16,
    "name": "ml.g4dn.xlarge",
    "vcpuNum": 4
   },
   {
    "_defaultOrder": 30,
    "_isFastLaunch": false,
    "category": "Accelerated computing",
    "gpuNum": 1,
    "hideHardwareSpecs": false,
    "memoryGiB": 32,
    "name": "ml.g4dn.2xlarge",
    "vcpuNum": 8
   },
   {
    "_defaultOrder": 31,
    "_isFastLaunch": false,
    "category": "Accelerated computing",
    "gpuNum": 1,
    "hideHardwareSpecs": false,
    "memoryGiB": 64,
    "name": "ml.g4dn.4xlarge",
    "vcpuNum": 16
   },
   {
    "_defaultOrder": 32,
    "_isFastLaunch": false,
    "category": "Accelerated computing",
    "gpuNum": 1,
    "hideHardwareSpecs": false,
    "memoryGiB": 128,
    "name": "ml.g4dn.8xlarge",
    "vcpuNum": 32
   },
   {
    "_defaultOrder": 33,
    "_isFastLaunch": false,
    "category": "Accelerated computing",
    "gpuNum": 4,
    "hideHardwareSpecs": false,
    "memoryGiB": 192,
    "name": "ml.g4dn.12xlarge",
    "vcpuNum": 48
   },
   {
    "_defaultOrder": 34,
    "_isFastLaunch": false,
    "category": "Accelerated computing",
    "gpuNum": 1,
    "hideHardwareSpecs": false,
    "memoryGiB": 256,
    "name": "ml.g4dn.16xlarge",
    "vcpuNum": 64
   },
   {
    "_defaultOrder": 35,
    "_isFastLaunch": false,
    "category": "Accelerated computing",
    "gpuNum": 1,
    "hideHardwareSpecs": false,
    "memoryGiB": 61,
    "name": "ml.p3.2xlarge",
    "vcpuNum": 8
   },
   {
    "_defaultOrder": 36,
    "_isFastLaunch": false,
    "category": "Accelerated computing",
    "gpuNum": 4,
    "hideHardwareSpecs": false,
    "memoryGiB": 244,
    "name": "ml.p3.8xlarge",
    "vcpuNum": 32
   },
   {
    "_defaultOrder": 37,
    "_isFastLaunch": false,
    "category": "Accelerated computing",
    "gpuNum": 8,
    "hideHardwareSpecs": false,
    "memoryGiB": 488,
    "name": "ml.p3.16xlarge",
    "vcpuNum": 64
   },
   {
    "_defaultOrder": 38,
    "_isFastLaunch": false,
    "category": "Accelerated computing",
    "gpuNum": 8,
    "hideHardwareSpecs": false,
    "memoryGiB": 768,
    "name": "ml.p3dn.24xlarge",
    "vcpuNum": 96
   },
   {
    "_defaultOrder": 39,
    "_isFastLaunch": false,
    "category": "Memory Optimized",
    "gpuNum": 0,
    "hideHardwareSpecs": false,
    "memoryGiB": 16,
    "name": "ml.r5.large",
    "vcpuNum": 2
   },
   {
    "_defaultOrder": 40,
    "_isFastLaunch": false,
    "category": "Memory Optimized",
    "gpuNum": 0,
    "hideHardwareSpecs": false,
    "memoryGiB": 32,
    "name": "ml.r5.xlarge",
    "vcpuNum": 4
   },
   {
    "_defaultOrder": 41,
    "_isFastLaunch": false,
    "category": "Memory Optimized",
    "gpuNum": 0,
    "hideHardwareSpecs": false,
    "memoryGiB": 64,
    "name": "ml.r5.2xlarge",
    "vcpuNum": 8
   },
   {
    "_defaultOrder": 42,
    "_isFastLaunch": false,
    "category": "Memory Optimized",
    "gpuNum": 0,
    "hideHardwareSpecs": false,
    "memoryGiB": 128,
    "name": "ml.r5.4xlarge",
    "vcpuNum": 16
   },
   {
    "_defaultOrder": 43,
    "_isFastLaunch": false,
    "category": "Memory Optimized",
    "gpuNum": 0,
    "hideHardwareSpecs": false,
    "memoryGiB": 256,
    "name": "ml.r5.8xlarge",
    "vcpuNum": 32
   },
   {
    "_defaultOrder": 44,
    "_isFastLaunch": false,
    "category": "Memory Optimized",
    "gpuNum": 0,
    "hideHardwareSpecs": false,
    "memoryGiB": 384,
    "name": "ml.r5.12xlarge",
    "vcpuNum": 48
   },
   {
    "_defaultOrder": 45,
    "_isFastLaunch": false,
    "category": "Memory Optimized",
    "gpuNum": 0,
    "hideHardwareSpecs": false,
    "memoryGiB": 512,
    "name": "ml.r5.16xlarge",
    "vcpuNum": 64
   },
   {
    "_defaultOrder": 46,
    "_isFastLaunch": false,
    "category": "Memory Optimized",
    "gpuNum": 0,
    "hideHardwareSpecs": false,
    "memoryGiB": 768,
    "name": "ml.r5.24xlarge",
    "vcpuNum": 96
   },
   {
    "_defaultOrder": 47,
    "_isFastLaunch": false,
    "category": "Accelerated computing",
    "gpuNum": 1,
    "hideHardwareSpecs": false,
    "memoryGiB": 16,
    "name": "ml.g5.xlarge",
    "vcpuNum": 4
   },
   {
    "_defaultOrder": 48,
    "_isFastLaunch": false,
    "category": "Accelerated computing",
    "gpuNum": 1,
    "hideHardwareSpecs": false,
    "memoryGiB": 32,
    "name": "ml.g5.2xlarge",
    "vcpuNum": 8
   },
   {
    "_defaultOrder": 49,
    "_isFastLaunch": false,
    "category": "Accelerated computing",
    "gpuNum": 1,
    "hideHardwareSpecs": false,
    "memoryGiB": 64,
    "name": "ml.g5.4xlarge",
    "vcpuNum": 16
   },
   {
    "_defaultOrder": 50,
    "_isFastLaunch": false,
    "category": "Accelerated computing",
    "gpuNum": 1,
    "hideHardwareSpecs": false,
    "memoryGiB": 128,
    "name": "ml.g5.8xlarge",
    "vcpuNum": 32
   },
   {
    "_defaultOrder": 51,
    "_isFastLaunch": false,
    "category": "Accelerated computing",
    "gpuNum": 1,
    "hideHardwareSpecs": false,
    "memoryGiB": 256,
    "name": "ml.g5.16xlarge",
    "vcpuNum": 64
   },
   {
    "_defaultOrder": 52,
    "_isFastLaunch": false,
    "category": "Accelerated computing",
    "gpuNum": 4,
    "hideHardwareSpecs": false,
    "memoryGiB": 192,
    "name": "ml.g5.12xlarge",
    "vcpuNum": 48
   },
   {
    "_defaultOrder": 53,
    "_isFastLaunch": false,
    "category": "Accelerated computing",
    "gpuNum": 4,
    "hideHardwareSpecs": false,
    "memoryGiB": 384,
    "name": "ml.g5.24xlarge",
    "vcpuNum": 96
   },
   {
    "_defaultOrder": 54,
    "_isFastLaunch": false,
    "category": "Accelerated computing",
    "gpuNum": 8,
    "hideHardwareSpecs": false,
    "memoryGiB": 768,
    "name": "ml.g5.48xlarge",
    "vcpuNum": 192
   },
   {
    "_defaultOrder": 55,
    "_isFastLaunch": false,
    "category": "Accelerated computing",
    "gpuNum": 8,
    "hideHardwareSpecs": false,
    "memoryGiB": 1152,
    "name": "ml.p4d.24xlarge",
    "vcpuNum": 96
   },
   {
    "_defaultOrder": 56,
    "_isFastLaunch": false,
    "category": "Accelerated computing",
    "gpuNum": 8,
    "hideHardwareSpecs": false,
    "memoryGiB": 1152,
    "name": "ml.p4de.24xlarge",
    "vcpuNum": 96
   }
  ],
  "instance_type": "ml.m5.4xlarge",
  "kernelspec": {
   "display_name": ".venv",
   "language": "python",
   "name": "python3"
  },
  "language_info": {
   "codemirror_mode": {
    "name": "ipython",
    "version": 3
   },
   "file_extension": ".py",
   "mimetype": "text/x-python",
   "name": "python",
   "nbconvert_exporter": "python",
   "pygments_lexer": "ipython3",
   "version": "3.11.8"
  }
 },
 "nbformat": 4,
 "nbformat_minor": 4
}
