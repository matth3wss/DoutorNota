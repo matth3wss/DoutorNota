{
 "cells": [
  {
   "cell_type": "code",
   "execution_count": 2218,
   "metadata": {},
   "outputs": [],
   "source": [
    "import json\n",
    "import os\n",
    "import ast\n",
    "import seaborn as sns\n",
    "import pandas as pd\n",
    "import numpy as np\n",
    "import matplotlib.pyplot as plt\n",
    "%matplotlib inline"
   ]
  },
  {
   "cell_type": "code",
   "execution_count": 2219,
   "metadata": {},
   "outputs": [],
   "source": [
    "def normalize_column_value(df, target_column, values_to_change, new_value):\n",
    "    \"\"\"\n",
    "    Receives a dataframe, the target column name, a list of values to be normalized, and a new value to replace the old ones.\n",
    "\n",
    "    :param df: The dataframe.\n",
    "    :param target_column: The name of the column to be normalized.\n",
    "    :param values_to_change: The list of values to be normalized.\n",
    "    :param new_value: The new value to replace the old ones.\n",
    "\n",
    "    :return: A dataframe with the normalized values in the specified column.\n",
    "    :rtype: DataFrame\n",
    "    \"\"\"\n",
    "    df[target_column] = [new_value if x in values_to_change else x for x in df[target_column]]\n",
    "    return df\n",
    "\n",
    "\n",
    "\n",
    "def remove_ccr(df, ccr_list):\n",
    "    \n",
    "    \"\"\"\n",
    "    Receives a dataframe and a list of ccrs to be removed.\n",
    "    \n",
    "    @param df: dataframe\n",
    "    @param ccr_list: list of ccrs to be removed\n",
    "    \n",
    "    @return: dataframe without the ccrs in the ccr_list\n",
    "    @rtype: dataframe\n",
    "    \"\"\"\n",
    "    \n",
    "    df = df[~df['nome_ccr'].str.contains(ccr_list)]\n",
    "    return df\n",
    "\n",
    "class DataFrameNormalizer:\n",
    "    def __init__(self, df, column, string_list):\n",
    "        self.df = df\n",
    "        self.column = column\n",
    "        self.string_list = string_list\n",
    "\n",
    "    def exclude_rows(self):\n",
    "        self.df = self.df[~self.df[self.column].str.contains('|'.join(self.string_list))]\n",
    "        return self.df\n",
    "\n",
    "    def include_rows(self):\n",
    "        self.df = self.df[self.df[self.column].str.contains('|'.join(self.string_list))]\n",
    "        return self.df\n"
   ]
  },
  {
   "cell_type": "code",
   "execution_count": 2220,
   "metadata": {
    "tags": []
   },
   "outputs": [
    {
     "data": {
      "text/plain": [
       "Index(['cod_ccr', 'nome_ccr', 'lista_docentes_ch', 'media_final', 'sit_turma',\n",
       "       'nome_curso', 'freq_turma', 'ano'],\n",
       "      dtype='object')"
      ]
     },
     "execution_count": 2220,
     "metadata": {},
     "output_type": "execute_result"
    }
   ],
   "source": [
    "df = pd.read_csv('../../src/input/alunos.csv')\n",
    "df.columns"
   ]
  },
  {
   "cell_type": "markdown",
   "metadata": {},
   "source": [
    "# Data Normalization\n"
   ]
  },
  {
   "cell_type": "code",
   "execution_count": 2221,
   "metadata": {},
   "outputs": [],
   "source": [
    "# replace all NaN values with 0\n",
    "df = df.fillna(0)"
   ]
  },
  {
   "cell_type": "markdown",
   "metadata": {},
   "source": [
    "### Cálculo I"
   ]
  },
  {
   "cell_type": "code",
   "execution_count": 2222,
   "metadata": {},
   "outputs": [],
   "source": [
    "df = normalize_column_value(df, 'nome_ccr', ['Cálculo A', 'Cálculo B', 'Cálculo III'], 'Cálculo I')\n",
    "\n",
    "df = normalize_column_value(df, 'cod_ccr', ['GEX404',  'GEX505', 'GEX968', 'GEX504', 'GEX008', 'GEX009'], 'GEX178')"
   ]
  },
  {
   "cell_type": "markdown",
   "metadata": {},
   "source": [
    "### Cálculo II"
   ]
  },
  {
   "cell_type": "code",
   "execution_count": 2223,
   "metadata": {},
   "outputs": [],
   "source": [
    "df = normalize_column_value(df, 'nome_ccr', ['Cálculo C'], 'Cálculo II')\n",
    "\n",
    "df = normalize_column_value(df, 'cod_ccr', ['GEX506', 'GEX033', 'GEX981'], 'GEX392')"
   ]
  },
  {
   "cell_type": "markdown",
   "metadata": {},
   "source": [
    "### Álgebra Linear"
   ]
  },
  {
   "cell_type": "code",
   "execution_count": 2224,
   "metadata": {},
   "outputs": [],
   "source": [
    "df = normalize_column_value(df, 'nome_ccr', ['Álgebra linear', 'Álgebra linear II' ], 'Algebra linear')\n",
    "\n",
    "# df = normalize_column_value(df, 'cod_ccr',['GEX012', 'GEX982', 'GEX511'], 'GEX607')\n"
   ]
  },
  {
   "cell_type": "markdown",
   "metadata": {},
   "source": [
    "### Matemática Discreta"
   ]
  },
  {
   "cell_type": "code",
   "execution_count": 2225,
   "metadata": {},
   "outputs": [],
   "source": [
    "df = normalize_column_value(df, 'nome_ccr', ['Matemática instrumental'], 'Matemática C')\n",
    "\n",
    "df = normalize_column_value(df, 'cod_ccr', ['GEX001'], 'GEX213')"
   ]
  },
  {
   "cell_type": "markdown",
   "metadata": {},
   "source": [
    "### Estrutura de Dados"
   ]
  },
  {
   "cell_type": "code",
   "execution_count": 2226,
   "metadata": {},
   "outputs": [],
   "source": [
    "df = normalize_column_value(df, 'nome_ccr', ['Estrutura de dados I'], 'Estruturas de dados')\n",
    "\n",
    "df = normalize_column_value(df, 'cod_ccr', ['GEX015'], 'GEX605')"
   ]
  },
  {
   "cell_type": "markdown",
   "metadata": {},
   "source": [
    "### Pesquisa e Ordenação De Dados"
   ]
  },
  {
   "cell_type": "code",
   "execution_count": 2227,
   "metadata": {},
   "outputs": [],
   "source": [
    "df = normalize_column_value(df, 'nome_ccr', ['Estrutura de dados II'], 'Pesquisa e ordenação de dados')\n",
    "\n",
    "df = normalize_column_value(df, 'cod_ccr', ['GEX092'], 'GEX609')"
   ]
  },
  {
   "cell_type": "markdown",
   "metadata": {},
   "source": [
    "### Informática Básica"
   ]
  },
  {
   "cell_type": "code",
   "execution_count": 2228,
   "metadata": {},
   "outputs": [],
   "source": [
    "df = normalize_column_value(df, 'nome_ccr', ['Introdução à informática'], 'Informática básica')\n",
    "\n",
    "df = normalize_column_value(df, 'cod_ccr', ['GEX208'], 'GEX002')"
   ]
  },
  {
   "cell_type": "markdown",
   "metadata": {},
   "source": [
    "### Cálculo Numérico"
   ]
  },
  {
   "cell_type": "code",
   "execution_count": 2229,
   "metadata": {},
   "outputs": [],
   "source": [
    "df = normalize_column_value(df, 'cod_ccr', ['GEX036', 'GEX987'], 'GEX395')"
   ]
  },
  {
   "cell_type": "markdown",
   "metadata": {},
   "source": [
    "### Geometria Analítica"
   ]
  },
  {
   "cell_type": "code",
   "execution_count": 2230,
   "metadata": {},
   "outputs": [],
   "source": [
    "df = normalize_column_value(df, 'cod_ccr', ['GEX503', 'GEX004'], 'GEX195')"
   ]
  },
  {
   "cell_type": "markdown",
   "metadata": {},
   "source": [
    "### Organização de Computadores"
   ]
  },
  {
   "cell_type": "code",
   "execution_count": 2231,
   "metadata": {},
   "outputs": [],
   "source": [
    "df = normalize_column_value(df, 'cod_ccr', ['GEX100'], 'GEX612')"
   ]
  },
  {
   "cell_type": "markdown",
   "metadata": {},
   "source": [
    "### Planejamento e Gestão de Projetos"
   ]
  },
  {
   "cell_type": "code",
   "execution_count": 2232,
   "metadata": {},
   "outputs": [],
   "source": [
    "df = normalize_column_value(df, 'cod_ccr', ['GCS107'], 'GCS580')"
   ]
  },
  {
   "cell_type": "markdown",
   "metadata": {},
   "source": [
    "### Programação II"
   ]
  },
  {
   "cell_type": "code",
   "execution_count": 2233,
   "metadata": {},
   "outputs": [],
   "source": [
    "df = normalize_column_value(df, 'cod_ccr', ['GEX099'], 'GEX613')"
   ]
  },
  {
   "cell_type": "markdown",
   "metadata": {},
   "source": [
    "### Sistemas Digitais"
   ]
  },
  {
   "cell_type": "code",
   "execution_count": 2234,
   "metadata": {},
   "outputs": [],
   "source": [
    "df = normalize_column_value(df, 'cod_ccr', ['GEX016'], 'GEX607')"
   ]
  },
  {
   "cell_type": "markdown",
   "metadata": {},
   "source": [
    "### Teoria da Computação"
   ]
  },
  {
   "cell_type": "code",
   "execution_count": 2235,
   "metadata": {},
   "outputs": [],
   "source": [
    "df = normalize_column_value(df, 'cod_ccr', ['GEX104'], 'GEX614')"
   ]
  },
  {
   "cell_type": "markdown",
   "metadata": {},
   "source": [
    "### Matemática Discreta"
   ]
  },
  {
   "cell_type": "code",
   "execution_count": 2236,
   "metadata": {},
   "outputs": [],
   "source": [
    "df = normalize_column_value(df, 'cod_ccr', ['GEX093'], 'GEX608')"
   ]
  },
  {
   "cell_type": "markdown",
   "metadata": {},
   "source": [
    "### Inteligência Artificial"
   ]
  },
  {
   "cell_type": "code",
   "execution_count": 2237,
   "metadata": {},
   "outputs": [],
   "source": [
    "df = normalize_column_value(df, 'cod_ccr', ['GEX109'], 'GEX618')"
   ]
  },
  {
   "cell_type": "markdown",
   "metadata": {},
   "source": [
    "### Iniciação à Prática Científica"
   ]
  },
  {
   "cell_type": "code",
   "execution_count": 2238,
   "metadata": {},
   "outputs": [],
   "source": [
    "df = normalize_column_value(df, 'cod_ccr', ['GCH008'], 'GCH290')"
   ]
  },
  {
   "cell_type": "markdown",
   "metadata": {},
   "source": [
    "### Estatística Básica"
   ]
  },
  {
   "cell_type": "code",
   "execution_count": 2239,
   "metadata": {},
   "outputs": [],
   "source": [
    "df = normalize_column_value(df, 'cod_ccr', ['GEX006'], 'GEX210')"
   ]
  },
  {
   "cell_type": "markdown",
   "metadata": {},
   "source": [
    "### Engenharia de Software I"
   ]
  },
  {
   "cell_type": "code",
   "execution_count": 2240,
   "metadata": {},
   "outputs": [],
   "source": [
    "df = normalize_column_value(df, 'cod_ccr', ['GEX102'], 'GEX615')"
   ]
  },
  {
   "cell_type": "markdown",
   "metadata": {},
   "source": [
    "### Engenharia de Software II"
   ]
  },
  {
   "cell_type": "code",
   "execution_count": 2241,
   "metadata": {},
   "outputs": [],
   "source": [
    "df = normalize_column_value(df, 'cod_ccr', ['GEX103'], 'GEX616')"
   ]
  },
  {
   "cell_type": "markdown",
   "metadata": {},
   "source": [
    "### Grafos"
   ]
  },
  {
   "cell_type": "code",
   "execution_count": 2242,
   "metadata": {},
   "outputs": [],
   "source": [
    "df = normalize_column_value(df, 'cod_ccr', ['GEN039'], 'GEN254')"
   ]
  },
  {
   "cell_type": "markdown",
   "metadata": {},
   "source": [
    "### Circuitos Digitais"
   ]
  },
  {
   "cell_type": "code",
   "execution_count": 2243,
   "metadata": {},
   "outputs": [],
   "source": [
    "df = normalize_column_value(df, 'cod_ccr', ['GEN001'], 'GEN253')"
   ]
  },
  {
   "cell_type": "markdown",
   "metadata": {},
   "source": [
    "# Dataframe manipulation"
   ]
  },
  {
   "cell_type": "code",
   "execution_count": 2244,
   "metadata": {},
   "outputs": [
    {
     "data": {
      "text/plain": [
       "[('Linguagens de programação', 134),\n",
       " ('Algebra linear', 273),\n",
       " ('Redes de computadores', 341),\n",
       " ('Planejamento e gestão de projetos', 373),\n",
       " ('Computação gráfica', 378),\n",
       " ('Sistemas operacionais', 426),\n",
       " ('Engenharia de software II', 427),\n",
       " ('Construção de compiladores', 433),\n",
       " ('Inteligência artificial', 464),\n",
       " ('Linguagens formais e autômatos', 486),\n",
       " ('Teoria da computação', 498),\n",
       " ('Grafos', 551),\n",
       " ('Engenharia de software I', 562),\n",
       " ('Cálculo numérico', 586),\n",
       " ('Cálculo II', 595),\n",
       " ('Banco de dados II', 616),\n",
       " ('Programação II', 722),\n",
       " ('Organização de computadores', 743),\n",
       " ('Pesquisa e ordenação de dados', 747),\n",
       " ('Banco de dados I', 952),\n",
       " ('Sistemas digitais', 966),\n",
       " ('Iniciação à prática científica', 973),\n",
       " ('Programação I', 1036),\n",
       " ('Probabilidade e estatística', 1064),\n",
       " ('Matemática discreta', 1097),\n",
       " ('Cálculo I', 1240),\n",
       " ('Estruturas de dados', 1256),\n",
       " ('Geometria analítica', 1276),\n",
       " ('Circuitos digitais', 1536),\n",
       " ('Estatística básica', 1559),\n",
       " ('Matemática C', 1869),\n",
       " ('Algoritmos e programação', 1903)]"
      ]
     },
     "execution_count": 2244,
     "metadata": {},
     "output_type": "execute_result"
    }
   ],
   "source": [
    "# # find all unique values of nome_ccr where nome_curso=CIÊNCIA DA COMPUTAÇÃO\n",
    "# values, counts = np.unique(\n",
    "#     df[df['nome_curso'] == 'CIÊNCIA DA COMPUTAÇÃO']['nome_ccr'], return_counts=True)\n",
    "# result = list(zip(values, counts))\n",
    "\n",
    "# # drop rows where it was offered less than 10 times\n",
    "# for i in result:\n",
    "#     if i[1] <= 10:\n",
    "#         df = df.drop(df[df.nome_ccr == i[0]].index)\n",
    "\n",
    "df = remove_ccr(df, 'Tópicos')\n",
    "\n",
    "ccrs_ciencia_computacao = ['GCH290', 'GCH292', 'GCH293', 'GCS238', 'GCS239', 'GCS580', 'GEN253', 'GEN254', 'GEX003', 'GEX055', 'GEX090', 'GEX091', 'GEX098', 'GEX101', 'GEX105', 'GEX107', 'GEX108', 'GEX110', 'GEX178', 'GEX195', 'GEX208', 'GEX210', 'GEX213', 'GEX392', 'GEX395', 'GEX605', 'GEX606', 'GEX607', 'GEX608', 'GEX609', 'GEX612', 'GEX613', 'GEX614', 'GEX615', 'GEX616', 'GEX617', 'GEX618', 'GEX657', 'GEX658', 'GLA104']\n",
    "\n",
    "df = DataFrameNormalizer(df, 'cod_ccr', ccrs_ciencia_computacao).include_rows()\n",
    "\n",
    "toDropCCR = ['GCH011', 'GCH012', 'GCH029', 'GCH291', 'GCH292', 'GCH293', 'GCS010', 'GCS011', 'GCS238', 'GCS239', 'GCS320', 'GCS546', 'GCS573', 'GEX054', 'GEX112', 'GEX119', 'GEX120', 'GEX179', 'GEX433', 'GEX436', 'GEX443', 'GEX619', 'GEX620', 'GEX622', 'GEX623', 'GEX624', 'GEX625', 'GEX626', 'GEX629', 'GEX630', 'GEX631', 'GEX632', 'GEX633', 'GEX634', 'GEX635', 'GEX636', 'GEX637', 'GEX638', 'GEX639', 'GEX640', 'GEX642', 'GEX643', 'GEX657', 'GEX658', 'GLA001', 'GLA004', 'GLA008', 'GLA045', 'GLA102', 'GLA103', 'GLA104', 'GLA108', 'GLA192', 'GLA213']\n",
    "\n",
    "df = DataFrameNormalizer(df, 'cod_ccr', toDropCCR).exclude_rows()\n",
    "\n",
    "# count number of students per subject\n",
    "values, counts = np.unique(\n",
    "    df[df['nome_curso'] == 'CIÊNCIA DA COMPUTAÇÃO']['nome_ccr'], return_counts=True)\n",
    "result = list(zip(values, counts))\n",
    "result = sorted(result, key=lambda x: x[1])\n",
    "result\n"
   ]
  },
  {
   "cell_type": "code",
   "execution_count": 2245,
   "metadata": {
    "tags": []
   },
   "outputs": [],
   "source": [
    "#  Cria uma nova coluna cod_nome_turma na posição 4 com a concatenação das colunas nome_ccr e cod_ccr\n",
    "df.insert(1, 'cod_nome_turma', df['nome_ccr'] + ' - ' + df['cod_ccr'])\n",
    "\n",
    "# 'cod_ccr', 'nome_ccr', 'cod_nome_turma'\n",
    "df = df.drop(['cod_ccr', 'nome_ccr'], axis=1)\n",
    "\n",
    "# Renomeia a coluna cod_nome_turma para nome_ccr trazendo os valores junto\n",
    "df.insert(df.columns.get_loc('cod_nome_turma'), 'ccr', df.pop('cod_nome_turma'))"
   ]
  },
  {
   "cell_type": "code",
   "execution_count": 2246,
   "metadata": {},
   "outputs": [],
   "source": [
    "toDropStatus = ['APROVADO ESPECIAL', \n",
    "                'CANCELADA', \n",
    "                'CANCELAMENTO ADMINISTRATIVO', \n",
    "                'EM CURSO', \n",
    "                'INCOMPLETO', \n",
    "                'MOBILIDADE', \n",
    "                'TRANCAMENTO GERAL DA MATRÍCULA',  \n",
    "                'TRANSFERIDO INTERNAMENTE',\n",
    "                ]\n",
    "\n",
    "df = DataFrameNormalizer(df, 'sit_turma', toDropStatus).exclude_rows()\n",
    "\n",
    "# Drop rows where status column is 1 and media_final is 0\n",
    "df = df.drop(df[(df.sit_turma == 'REPROVADO POR NOTA') & (df.freq_turma == 100)].index)\n",
    "df = df.drop(df[(df.sit_turma == 'REPROVADO POR NOTA E FREQUÊNCIA') & (df.freq_turma == 0)].index)\n",
    "df = df.drop(df[(df.sit_turma == 'REPROVADO POR FREQUÊNCIA') & (df.media_final == 0)].index)\n",
    "df = df.drop(df[(df.sit_turma == 'DESISTENTE') & (df.media_final == 0)].index)\n",
    "\n",
    "\n",
    "df = df.drop([('media_final')], axis=1)"
   ]
  },
  {
   "cell_type": "code",
   "execution_count": 2247,
   "metadata": {
    "tags": []
   },
   "outputs": [
    {
     "data": {
      "text/html": [
       "<div>\n",
       "<style scoped>\n",
       "    .dataframe tbody tr th:only-of-type {\n",
       "        vertical-align: middle;\n",
       "    }\n",
       "\n",
       "    .dataframe tbody tr th {\n",
       "        vertical-align: top;\n",
       "    }\n",
       "\n",
       "    .dataframe thead th {\n",
       "        text-align: right;\n",
       "    }\n",
       "</style>\n",
       "<table border=\"1\" class=\"dataframe\">\n",
       "  <thead>\n",
       "    <tr style=\"text-align: right;\">\n",
       "      <th></th>\n",
       "      <th>status</th>\n",
       "      <th>ccr</th>\n",
       "      <th>nome_docente</th>\n",
       "      <th>freq_turma</th>\n",
       "      <th>ano</th>\n",
       "    </tr>\n",
       "  </thead>\n",
       "  <tbody>\n",
       "    <tr>\n",
       "      <th>567</th>\n",
       "      <td>0</td>\n",
       "      <td>Algebra linear - GEX607</td>\n",
       "      <td>ANTONIO MARCOS CORREA NERI</td>\n",
       "      <td>93.33</td>\n",
       "      <td>2021</td>\n",
       "    </tr>\n",
       "    <tr>\n",
       "      <th>569</th>\n",
       "      <td>1</td>\n",
       "      <td>Algebra linear - GEX607</td>\n",
       "      <td>ANTONIO MARCOS CORREA NERI</td>\n",
       "      <td>46.67</td>\n",
       "      <td>2021</td>\n",
       "    </tr>\n",
       "    <tr>\n",
       "      <th>584</th>\n",
       "      <td>1</td>\n",
       "      <td>Algebra linear - GEX607</td>\n",
       "      <td>ANTONIO MARCOS CORREA NERI</td>\n",
       "      <td>73.33</td>\n",
       "      <td>2021</td>\n",
       "    </tr>\n",
       "    <tr>\n",
       "      <th>612</th>\n",
       "      <td>1</td>\n",
       "      <td>Algebra linear - GEX607</td>\n",
       "      <td>ANTONIO MARCOS CORREA NERI</td>\n",
       "      <td>46.67</td>\n",
       "      <td>2021</td>\n",
       "    </tr>\n",
       "    <tr>\n",
       "      <th>623</th>\n",
       "      <td>0</td>\n",
       "      <td>Algebra linear - GEX607</td>\n",
       "      <td>ANTONIO MARCOS CORREA NERI</td>\n",
       "      <td>86.67</td>\n",
       "      <td>2021</td>\n",
       "    </tr>\n",
       "    <tr>\n",
       "      <th>...</th>\n",
       "      <td>...</td>\n",
       "      <td>...</td>\n",
       "      <td>...</td>\n",
       "      <td>...</td>\n",
       "      <td>...</td>\n",
       "    </tr>\n",
       "    <tr>\n",
       "      <th>68836</th>\n",
       "      <td>0</td>\n",
       "      <td>Teoria da computação - GEX614</td>\n",
       "      <td>SAMUEL DA SILVA FEITOSA</td>\n",
       "      <td>86.67</td>\n",
       "      <td>2023</td>\n",
       "    </tr>\n",
       "    <tr>\n",
       "      <th>68879</th>\n",
       "      <td>0</td>\n",
       "      <td>Teoria da computação - GEX614</td>\n",
       "      <td>SAMUEL DA SILVA FEITOSA</td>\n",
       "      <td>100.00</td>\n",
       "      <td>2022</td>\n",
       "    </tr>\n",
       "    <tr>\n",
       "      <th>68980</th>\n",
       "      <td>0</td>\n",
       "      <td>Teoria da computação - GEX614</td>\n",
       "      <td>SAMUEL DA SILVA FEITOSA</td>\n",
       "      <td>86.67</td>\n",
       "      <td>2023</td>\n",
       "    </tr>\n",
       "    <tr>\n",
       "      <th>68981</th>\n",
       "      <td>0</td>\n",
       "      <td>Teoria da computação - GEX614</td>\n",
       "      <td>SAMUEL DA SILVA FEITOSA</td>\n",
       "      <td>76.67</td>\n",
       "      <td>2023</td>\n",
       "    </tr>\n",
       "    <tr>\n",
       "      <th>69030</th>\n",
       "      <td>0</td>\n",
       "      <td>Teoria da computação - GEX614</td>\n",
       "      <td>SAMUEL DA SILVA FEITOSA</td>\n",
       "      <td>83.33</td>\n",
       "      <td>2023</td>\n",
       "    </tr>\n",
       "  </tbody>\n",
       "</table>\n",
       "<p>27019 rows × 5 columns</p>\n",
       "</div>"
      ],
      "text/plain": [
       "       status                            ccr                nome_docente  \\\n",
       "567         0        Algebra linear - GEX607  ANTONIO MARCOS CORREA NERI   \n",
       "569         1        Algebra linear - GEX607  ANTONIO MARCOS CORREA NERI   \n",
       "584         1        Algebra linear - GEX607  ANTONIO MARCOS CORREA NERI   \n",
       "612         1        Algebra linear - GEX607  ANTONIO MARCOS CORREA NERI   \n",
       "623         0        Algebra linear - GEX607  ANTONIO MARCOS CORREA NERI   \n",
       "...       ...                            ...                         ...   \n",
       "68836       0  Teoria da computação - GEX614     SAMUEL DA SILVA FEITOSA   \n",
       "68879       0  Teoria da computação - GEX614     SAMUEL DA SILVA FEITOSA   \n",
       "68980       0  Teoria da computação - GEX614     SAMUEL DA SILVA FEITOSA   \n",
       "68981       0  Teoria da computação - GEX614     SAMUEL DA SILVA FEITOSA   \n",
       "69030       0  Teoria da computação - GEX614     SAMUEL DA SILVA FEITOSA   \n",
       "\n",
       "       freq_turma   ano  \n",
       "567         93.33  2021  \n",
       "569         46.67  2021  \n",
       "584         73.33  2021  \n",
       "612         46.67  2021  \n",
       "623         86.67  2021  \n",
       "...           ...   ...  \n",
       "68836       86.67  2023  \n",
       "68879      100.00  2022  \n",
       "68980       86.67  2023  \n",
       "68981       76.67  2023  \n",
       "69030       83.33  2023  \n",
       "\n",
       "[27019 rows x 5 columns]"
      ]
     },
     "execution_count": 2247,
     "metadata": {},
     "output_type": "execute_result"
    }
   ],
   "source": [
    "def label_status(data):\n",
    "    if data == 'APROVADO':\n",
    "        return 0\n",
    "    elif data == 'REPROVADO POR NOTA' or 'REPROVADO POR NOTA E FREQUÊNCIA' or 'REPROVADO POR FREQUÊNCIA':\n",
    "        return 1\n",
    "    # elif data == 'REPROVADO POR NOTA' or 'REPROVADO POR NOTA E FREQUÊNCIA' or 'REPROVADO POR FREQUÊNCIA' or 'DESISTENTE':\n",
    "    #     return 1\n",
    "\n",
    "\n",
    "df.insert(0, 'status', df['sit_turma'].apply(label_status))\n",
    "df = df.drop(['sit_turma'], axis=1)\n",
    "\n",
    "# Drop rows where status column is 1 anf freq_turma is 100\n",
    "\n",
    "# df = df.drop(df[(df.status == 1) & (df.freq_turma == 100)].index)\n",
    "\n",
    "# Função para extrair o nome do docente\n",
    "def extrair_nome(docente):\n",
    "    return docente['docente']\n",
    "\n",
    "# # Função para extrair o valor de ch_docente\n",
    "# def extrair_ch(docente):\n",
    "#     return docente['ch_docente']\n",
    "\n",
    "# Função para aplicar nas listas da coluna lista_docentes_ch\n",
    "def formatar_lista(lista):\n",
    "    # Converte a string para lista de dicionários\n",
    "    docentes = ast.literal_eval(lista)\n",
    "    # nomes = [f\"{extrair_nome(docente)} ({extrair_ch(docente)})\" for docente in docentes]\n",
    "    nomes = [f\"{extrair_nome(docente)}\" for docente in docentes]\n",
    "    return ', '.join(nomes)\n",
    "\n",
    "# Aplicar a função formatar_lista na coluna lista_docentes_ch e armazenar o resultado na coluna nome_docente\n",
    "df.insert(2, 'nome_docente', df['lista_docentes_ch'].apply(formatar_lista))\n",
    "\n",
    "df = df.drop(['lista_docentes_ch'], axis=1)\n",
    "\n",
    "# print all unique values of nome_docente where nome_curso=\"CIÊNCIA DA COMPUTAÇÃO\"\n",
    "docentes_cc = df[df['nome_curso'] == 'CIÊNCIA DA COMPUTAÇÃO']['nome_docente'].unique()\n",
    "\n",
    "# Include only rows where nome_docente is in docentes_cc    \n",
    "df = DataFrameNormalizer(df, 'nome_docente', docentes_cc).include_rows()\n",
    "\n",
    "# Remove a coluna nome_curso\n",
    "df = df.drop('nome_curso', axis=1)\n",
    "\n",
    "# change freq_turma position to index 1 using insert function\n",
    "df.insert(3, 'freq_turma', df.pop('freq_turma'))\n",
    "\n",
    "if not os.path.exists(\"../src/output\"):\n",
    "    os.makedirs(\"../src/output\")\n",
    "    \n",
    "# order by nome_ccr and then by nome_docente\n",
    "df = df.sort_values(by=['ccr', 'nome_docente'])\n",
    "    \n",
    "df.to_csv('../../src/output/alunos_final.csv', index=False)\n",
    "df"
   ]
  }
 ],
 "metadata": {
  "availableInstances": [
   {
    "_defaultOrder": 0,
    "_isFastLaunch": true,
    "category": "General purpose",
    "gpuNum": 0,
    "hideHardwareSpecs": false,
    "memoryGiB": 4,
    "name": "ml.t3.medium",
    "vcpuNum": 2
   },
   {
    "_defaultOrder": 1,
    "_isFastLaunch": false,
    "category": "General purpose",
    "gpuNum": 0,
    "hideHardwareSpecs": false,
    "memoryGiB": 8,
    "name": "ml.t3.large",
    "vcpuNum": 2
   },
   {
    "_defaultOrder": 2,
    "_isFastLaunch": false,
    "category": "General purpose",
    "gpuNum": 0,
    "hideHardwareSpecs": false,
    "memoryGiB": 16,
    "name": "ml.t3.xlarge",
    "vcpuNum": 4
   },
   {
    "_defaultOrder": 3,
    "_isFastLaunch": false,
    "category": "General purpose",
    "gpuNum": 0,
    "hideHardwareSpecs": false,
    "memoryGiB": 32,
    "name": "ml.t3.2xlarge",
    "vcpuNum": 8
   },
   {
    "_defaultOrder": 4,
    "_isFastLaunch": true,
    "category": "General purpose",
    "gpuNum": 0,
    "hideHardwareSpecs": false,
    "memoryGiB": 8,
    "name": "ml.m5.large",
    "vcpuNum": 2
   },
   {
    "_defaultOrder": 5,
    "_isFastLaunch": false,
    "category": "General purpose",
    "gpuNum": 0,
    "hideHardwareSpecs": false,
    "memoryGiB": 16,
    "name": "ml.m5.xlarge",
    "vcpuNum": 4
   },
   {
    "_defaultOrder": 6,
    "_isFastLaunch": false,
    "category": "General purpose",
    "gpuNum": 0,
    "hideHardwareSpecs": false,
    "memoryGiB": 32,
    "name": "ml.m5.2xlarge",
    "vcpuNum": 8
   },
   {
    "_defaultOrder": 7,
    "_isFastLaunch": false,
    "category": "General purpose",
    "gpuNum": 0,
    "hideHardwareSpecs": false,
    "memoryGiB": 64,
    "name": "ml.m5.4xlarge",
    "vcpuNum": 16
   },
   {
    "_defaultOrder": 8,
    "_isFastLaunch": false,
    "category": "General purpose",
    "gpuNum": 0,
    "hideHardwareSpecs": false,
    "memoryGiB": 128,
    "name": "ml.m5.8xlarge",
    "vcpuNum": 32
   },
   {
    "_defaultOrder": 9,
    "_isFastLaunch": false,
    "category": "General purpose",
    "gpuNum": 0,
    "hideHardwareSpecs": false,
    "memoryGiB": 192,
    "name": "ml.m5.12xlarge",
    "vcpuNum": 48
   },
   {
    "_defaultOrder": 10,
    "_isFastLaunch": false,
    "category": "General purpose",
    "gpuNum": 0,
    "hideHardwareSpecs": false,
    "memoryGiB": 256,
    "name": "ml.m5.16xlarge",
    "vcpuNum": 64
   },
   {
    "_defaultOrder": 11,
    "_isFastLaunch": false,
    "category": "General purpose",
    "gpuNum": 0,
    "hideHardwareSpecs": false,
    "memoryGiB": 384,
    "name": "ml.m5.24xlarge",
    "vcpuNum": 96
   },
   {
    "_defaultOrder": 12,
    "_isFastLaunch": false,
    "category": "General purpose",
    "gpuNum": 0,
    "hideHardwareSpecs": false,
    "memoryGiB": 8,
    "name": "ml.m5d.large",
    "vcpuNum": 2
   },
   {
    "_defaultOrder": 13,
    "_isFastLaunch": false,
    "category": "General purpose",
    "gpuNum": 0,
    "hideHardwareSpecs": false,
    "memoryGiB": 16,
    "name": "ml.m5d.xlarge",
    "vcpuNum": 4
   },
   {
    "_defaultOrder": 14,
    "_isFastLaunch": false,
    "category": "General purpose",
    "gpuNum": 0,
    "hideHardwareSpecs": false,
    "memoryGiB": 32,
    "name": "ml.m5d.2xlarge",
    "vcpuNum": 8
   },
   {
    "_defaultOrder": 15,
    "_isFastLaunch": false,
    "category": "General purpose",
    "gpuNum": 0,
    "hideHardwareSpecs": false,
    "memoryGiB": 64,
    "name": "ml.m5d.4xlarge",
    "vcpuNum": 16
   },
   {
    "_defaultOrder": 16,
    "_isFastLaunch": false,
    "category": "General purpose",
    "gpuNum": 0,
    "hideHardwareSpecs": false,
    "memoryGiB": 128,
    "name": "ml.m5d.8xlarge",
    "vcpuNum": 32
   },
   {
    "_defaultOrder": 17,
    "_isFastLaunch": false,
    "category": "General purpose",
    "gpuNum": 0,
    "hideHardwareSpecs": false,
    "memoryGiB": 192,
    "name": "ml.m5d.12xlarge",
    "vcpuNum": 48
   },
   {
    "_defaultOrder": 18,
    "_isFastLaunch": false,
    "category": "General purpose",
    "gpuNum": 0,
    "hideHardwareSpecs": false,
    "memoryGiB": 256,
    "name": "ml.m5d.16xlarge",
    "vcpuNum": 64
   },
   {
    "_defaultOrder": 19,
    "_isFastLaunch": false,
    "category": "General purpose",
    "gpuNum": 0,
    "hideHardwareSpecs": false,
    "memoryGiB": 384,
    "name": "ml.m5d.24xlarge",
    "vcpuNum": 96
   },
   {
    "_defaultOrder": 20,
    "_isFastLaunch": false,
    "category": "General purpose",
    "gpuNum": 0,
    "hideHardwareSpecs": true,
    "memoryGiB": 0,
    "name": "ml.geospatial.interactive",
    "supportedImageNames": [
     "sagemaker-geospatial-v1-0"
    ],
    "vcpuNum": 0
   },
   {
    "_defaultOrder": 21,
    "_isFastLaunch": true,
    "category": "Compute optimized",
    "gpuNum": 0,
    "hideHardwareSpecs": false,
    "memoryGiB": 4,
    "name": "ml.c5.large",
    "vcpuNum": 2
   },
   {
    "_defaultOrder": 22,
    "_isFastLaunch": false,
    "category": "Compute optimized",
    "gpuNum": 0,
    "hideHardwareSpecs": false,
    "memoryGiB": 8,
    "name": "ml.c5.xlarge",
    "vcpuNum": 4
   },
   {
    "_defaultOrder": 23,
    "_isFastLaunch": false,
    "category": "Compute optimized",
    "gpuNum": 0,
    "hideHardwareSpecs": false,
    "memoryGiB": 16,
    "name": "ml.c5.2xlarge",
    "vcpuNum": 8
   },
   {
    "_defaultOrder": 24,
    "_isFastLaunch": false,
    "category": "Compute optimized",
    "gpuNum": 0,
    "hideHardwareSpecs": false,
    "memoryGiB": 32,
    "name": "ml.c5.4xlarge",
    "vcpuNum": 16
   },
   {
    "_defaultOrder": 25,
    "_isFastLaunch": false,
    "category": "Compute optimized",
    "gpuNum": 0,
    "hideHardwareSpecs": false,
    "memoryGiB": 72,
    "name": "ml.c5.9xlarge",
    "vcpuNum": 36
   },
   {
    "_defaultOrder": 26,
    "_isFastLaunch": false,
    "category": "Compute optimized",
    "gpuNum": 0,
    "hideHardwareSpecs": false,
    "memoryGiB": 96,
    "name": "ml.c5.12xlarge",
    "vcpuNum": 48
   },
   {
    "_defaultOrder": 27,
    "_isFastLaunch": false,
    "category": "Compute optimized",
    "gpuNum": 0,
    "hideHardwareSpecs": false,
    "memoryGiB": 144,
    "name": "ml.c5.18xlarge",
    "vcpuNum": 72
   },
   {
    "_defaultOrder": 28,
    "_isFastLaunch": false,
    "category": "Compute optimized",
    "gpuNum": 0,
    "hideHardwareSpecs": false,
    "memoryGiB": 192,
    "name": "ml.c5.24xlarge",
    "vcpuNum": 96
   },
   {
    "_defaultOrder": 29,
    "_isFastLaunch": true,
    "category": "Accelerated computing",
    "gpuNum": 1,
    "hideHardwareSpecs": false,
    "memoryGiB": 16,
    "name": "ml.g4dn.xlarge",
    "vcpuNum": 4
   },
   {
    "_defaultOrder": 30,
    "_isFastLaunch": false,
    "category": "Accelerated computing",
    "gpuNum": 1,
    "hideHardwareSpecs": false,
    "memoryGiB": 32,
    "name": "ml.g4dn.2xlarge",
    "vcpuNum": 8
   },
   {
    "_defaultOrder": 31,
    "_isFastLaunch": false,
    "category": "Accelerated computing",
    "gpuNum": 1,
    "hideHardwareSpecs": false,
    "memoryGiB": 64,
    "name": "ml.g4dn.4xlarge",
    "vcpuNum": 16
   },
   {
    "_defaultOrder": 32,
    "_isFastLaunch": false,
    "category": "Accelerated computing",
    "gpuNum": 1,
    "hideHardwareSpecs": false,
    "memoryGiB": 128,
    "name": "ml.g4dn.8xlarge",
    "vcpuNum": 32
   },
   {
    "_defaultOrder": 33,
    "_isFastLaunch": false,
    "category": "Accelerated computing",
    "gpuNum": 4,
    "hideHardwareSpecs": false,
    "memoryGiB": 192,
    "name": "ml.g4dn.12xlarge",
    "vcpuNum": 48
   },
   {
    "_defaultOrder": 34,
    "_isFastLaunch": false,
    "category": "Accelerated computing",
    "gpuNum": 1,
    "hideHardwareSpecs": false,
    "memoryGiB": 256,
    "name": "ml.g4dn.16xlarge",
    "vcpuNum": 64
   },
   {
    "_defaultOrder": 35,
    "_isFastLaunch": false,
    "category": "Accelerated computing",
    "gpuNum": 1,
    "hideHardwareSpecs": false,
    "memoryGiB": 61,
    "name": "ml.p3.2xlarge",
    "vcpuNum": 8
   },
   {
    "_defaultOrder": 36,
    "_isFastLaunch": false,
    "category": "Accelerated computing",
    "gpuNum": 4,
    "hideHardwareSpecs": false,
    "memoryGiB": 244,
    "name": "ml.p3.8xlarge",
    "vcpuNum": 32
   },
   {
    "_defaultOrder": 37,
    "_isFastLaunch": false,
    "category": "Accelerated computing",
    "gpuNum": 8,
    "hideHardwareSpecs": false,
    "memoryGiB": 488,
    "name": "ml.p3.16xlarge",
    "vcpuNum": 64
   },
   {
    "_defaultOrder": 38,
    "_isFastLaunch": false,
    "category": "Accelerated computing",
    "gpuNum": 8,
    "hideHardwareSpecs": false,
    "memoryGiB": 768,
    "name": "ml.p3dn.24xlarge",
    "vcpuNum": 96
   },
   {
    "_defaultOrder": 39,
    "_isFastLaunch": false,
    "category": "Memory Optimized",
    "gpuNum": 0,
    "hideHardwareSpecs": false,
    "memoryGiB": 16,
    "name": "ml.r5.large",
    "vcpuNum": 2
   },
   {
    "_defaultOrder": 40,
    "_isFastLaunch": false,
    "category": "Memory Optimized",
    "gpuNum": 0,
    "hideHardwareSpecs": false,
    "memoryGiB": 32,
    "name": "ml.r5.xlarge",
    "vcpuNum": 4
   },
   {
    "_defaultOrder": 41,
    "_isFastLaunch": false,
    "category": "Memory Optimized",
    "gpuNum": 0,
    "hideHardwareSpecs": false,
    "memoryGiB": 64,
    "name": "ml.r5.2xlarge",
    "vcpuNum": 8
   },
   {
    "_defaultOrder": 42,
    "_isFastLaunch": false,
    "category": "Memory Optimized",
    "gpuNum": 0,
    "hideHardwareSpecs": false,
    "memoryGiB": 128,
    "name": "ml.r5.4xlarge",
    "vcpuNum": 16
   },
   {
    "_defaultOrder": 43,
    "_isFastLaunch": false,
    "category": "Memory Optimized",
    "gpuNum": 0,
    "hideHardwareSpecs": false,
    "memoryGiB": 256,
    "name": "ml.r5.8xlarge",
    "vcpuNum": 32
   },
   {
    "_defaultOrder": 44,
    "_isFastLaunch": false,
    "category": "Memory Optimized",
    "gpuNum": 0,
    "hideHardwareSpecs": false,
    "memoryGiB": 384,
    "name": "ml.r5.12xlarge",
    "vcpuNum": 48
   },
   {
    "_defaultOrder": 45,
    "_isFastLaunch": false,
    "category": "Memory Optimized",
    "gpuNum": 0,
    "hideHardwareSpecs": false,
    "memoryGiB": 512,
    "name": "ml.r5.16xlarge",
    "vcpuNum": 64
   },
   {
    "_defaultOrder": 46,
    "_isFastLaunch": false,
    "category": "Memory Optimized",
    "gpuNum": 0,
    "hideHardwareSpecs": false,
    "memoryGiB": 768,
    "name": "ml.r5.24xlarge",
    "vcpuNum": 96
   },
   {
    "_defaultOrder": 47,
    "_isFastLaunch": false,
    "category": "Accelerated computing",
    "gpuNum": 1,
    "hideHardwareSpecs": false,
    "memoryGiB": 16,
    "name": "ml.g5.xlarge",
    "vcpuNum": 4
   },
   {
    "_defaultOrder": 48,
    "_isFastLaunch": false,
    "category": "Accelerated computing",
    "gpuNum": 1,
    "hideHardwareSpecs": false,
    "memoryGiB": 32,
    "name": "ml.g5.2xlarge",
    "vcpuNum": 8
   },
   {
    "_defaultOrder": 49,
    "_isFastLaunch": false,
    "category": "Accelerated computing",
    "gpuNum": 1,
    "hideHardwareSpecs": false,
    "memoryGiB": 64,
    "name": "ml.g5.4xlarge",
    "vcpuNum": 16
   },
   {
    "_defaultOrder": 50,
    "_isFastLaunch": false,
    "category": "Accelerated computing",
    "gpuNum": 1,
    "hideHardwareSpecs": false,
    "memoryGiB": 128,
    "name": "ml.g5.8xlarge",
    "vcpuNum": 32
   },
   {
    "_defaultOrder": 51,
    "_isFastLaunch": false,
    "category": "Accelerated computing",
    "gpuNum": 1,
    "hideHardwareSpecs": false,
    "memoryGiB": 256,
    "name": "ml.g5.16xlarge",
    "vcpuNum": 64
   },
   {
    "_defaultOrder": 52,
    "_isFastLaunch": false,
    "category": "Accelerated computing",
    "gpuNum": 4,
    "hideHardwareSpecs": false,
    "memoryGiB": 192,
    "name": "ml.g5.12xlarge",
    "vcpuNum": 48
   },
   {
    "_defaultOrder": 53,
    "_isFastLaunch": false,
    "category": "Accelerated computing",
    "gpuNum": 4,
    "hideHardwareSpecs": false,
    "memoryGiB": 384,
    "name": "ml.g5.24xlarge",
    "vcpuNum": 96
   },
   {
    "_defaultOrder": 54,
    "_isFastLaunch": false,
    "category": "Accelerated computing",
    "gpuNum": 8,
    "hideHardwareSpecs": false,
    "memoryGiB": 768,
    "name": "ml.g5.48xlarge",
    "vcpuNum": 192
   },
   {
    "_defaultOrder": 55,
    "_isFastLaunch": false,
    "category": "Accelerated computing",
    "gpuNum": 8,
    "hideHardwareSpecs": false,
    "memoryGiB": 1152,
    "name": "ml.p4d.24xlarge",
    "vcpuNum": 96
   },
   {
    "_defaultOrder": 56,
    "_isFastLaunch": false,
    "category": "Accelerated computing",
    "gpuNum": 8,
    "hideHardwareSpecs": false,
    "memoryGiB": 1152,
    "name": "ml.p4de.24xlarge",
    "vcpuNum": 96
   }
  ],
  "instance_type": "ml.m5.4xlarge",
  "kernelspec": {
   "display_name": ".venv",
   "language": "python",
   "name": "python3"
  },
  "language_info": {
   "codemirror_mode": {
    "name": "ipython",
    "version": 3
   },
   "file_extension": ".py",
   "mimetype": "text/x-python",
   "name": "python",
   "nbconvert_exporter": "python",
   "pygments_lexer": "ipython3",
   "version": "3.10.11"
  }
 },
 "nbformat": 4,
 "nbformat_minor": 4
}
