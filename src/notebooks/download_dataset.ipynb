{
 "cells": [
  {
   "cell_type": "code",
   "execution_count": 1,
   "metadata": {},
   "outputs": [],
   "source": [
    "import pandas as pd\n",
    "import requests\n",
    "import os"
   ]
  },
  {
   "cell_type": "code",
   "execution_count": 2,
   "metadata": {},
   "outputs": [
    {
     "name": "stderr",
     "output_type": "stream",
     "text": [
      "c:\\Users\\mathe\\Desktop\\DoutorNota\\.venv\\lib\\site-packages\\urllib3\\connectionpool.py:1095: InsecureRequestWarning: Unverified HTTPS request is being made to host 'dados.uffs.edu.br'. Adding certificate verification is strongly advised. See: https://urllib3.readthedocs.io/en/latest/advanced-usage.html#tls-warnings\n",
      "  warnings.warn(\n",
      "c:\\Users\\mathe\\Desktop\\DoutorNota\\.venv\\lib\\site-packages\\urllib3\\connectionpool.py:1095: InsecureRequestWarning: Unverified HTTPS request is being made to host 'dados.uffs.edu.br'. Adding certificate verification is strongly advised. See: https://urllib3.readthedocs.io/en/latest/advanced-usage.html#tls-warnings\n",
      "  warnings.warn(\n",
      "c:\\Users\\mathe\\Desktop\\DoutorNota\\.venv\\lib\\site-packages\\urllib3\\connectionpool.py:1095: InsecureRequestWarning: Unverified HTTPS request is being made to host 'dados.uffs.edu.br'. Adding certificate verification is strongly advised. See: https://urllib3.readthedocs.io/en/latest/advanced-usage.html#tls-warnings\n",
      "  warnings.warn(\n",
      "c:\\Users\\mathe\\Desktop\\DoutorNota\\.venv\\lib\\site-packages\\urllib3\\connectionpool.py:1095: InsecureRequestWarning: Unverified HTTPS request is being made to host 'dados.uffs.edu.br'. Adding certificate verification is strongly advised. See: https://urllib3.readthedocs.io/en/latest/advanced-usage.html#tls-warnings\n",
      "  warnings.warn(\n"
     ]
    }
   ],
   "source": [
    "# Initialize variables for offset and limit\n",
    "offset = 0\n",
    "limit = 32002  # Adjust the limit as needed\n",
    "\n",
    "# Initialize an empty list to store data\n",
    "all_records = []\n",
    "\n",
    "while True:\n",
    "    # Construct the SQL query with the current offset and limit\n",
    "    # sql_query = f\"SELECT * FROM \\\"2580453b-7c6e-4824-9d11-c7794445a1e6\\\" WHERE nome_campus = 'Chapecó' AND (nome_curso = 'CIÊNCIA DA COMPUTAÇÃO' OR nome_curso = 'ENGENHARIA AMBIENTAL E SANITÁRIA' OR nome_curso = 'MATEMÁTICA') AND ano >= 2018 LIMIT {limit} OFFSET {offset}\"\n",
    "    \n",
    "    # sql_query = f\"SELECT * FROM \\\"2580453b-7c6e-4824-9d11-c7794445a1e6\\\" WHERE nome_campus = 'Chapecó' AND ((nome_curso = 'CIÊNCIA DA COMPUTAÇÃO') OR (nome_curso IN ('ENGENHARIA AMBIENTAL E SANITÁRIA', 'MATEMÁTICA') AND ano >= 2018)) LIMIT {limit} OFFSET {offset}\"\n",
    "    \n",
    "    # sql_query = f\"SELECT * FROM \\\"2580453b-7c6e-4824-9d11-c7794445a1e6\\\" WHERE nome_campus = 'Chapecó' AND (nome_curso = 'CIÊNCIA DA COMPUTAÇÃO' OR nome_curso = 'ENGENHARIA AMBIENTAL E SANITÁRIA' OR nome_curso = 'MATEMÁTICA') LIMIT {limit} OFFSET {offset}\"\n",
    "    \n",
    "    columns_to_select = ['cod_ccr', 'nome_ccr', 'lista_docentes_ch', 'freq_turma', 'media_final', 'sit_turma', 'nome_curso']\n",
    "    column_names = ', '.join(columns_to_select)\n",
    "\n",
    "    sql_query = f\"SELECT {column_names} FROM \\\"2580453b-7c6e-4824-9d11-c7794445a1e6\\\" WHERE nome_campus = 'Chapecó' AND (nome_curso = 'CIÊNCIA DA COMPUTAÇÃO' OR nome_curso = 'ENGENHARIA AMBIENTAL E SANITÁRIA' OR nome_curso = 'MATEMÁTICA') ORDER BY nome_ccr LIMIT {limit} OFFSET {offset}\"\n",
    "    \n",
    "    # URL of the API with the query\n",
    "    url = f'https://dados.uffs.edu.br/api/3/action/datastore_search_sql?sql={sql_query}'\n",
    "\n",
    "    # Make the GET request to fetch the data\n",
    "    response = requests.get(url, verify=False)\n",
    "\n",
    "    # Check if the request was successful\n",
    "    if response.status_code == 200:\n",
    "        data = response.json()\n",
    "\n",
    "        # Check if data is found\n",
    "        if data['success']:\n",
    "            records = data['result']['records']\n",
    "\n",
    "            # If no more records are returned, exit the loop\n",
    "            if not records:\n",
    "                break\n",
    "\n",
    "            # Append the current chunk of records to the list\n",
    "            all_records.extend(records)\n",
    "\n",
    "            # Increment the offset for the next chunk\n",
    "            offset += limit\n",
    "        else:\n",
    "            print(\"Nenhum dado encontrado\")\n",
    "            break\n",
    "    else:\n",
    "        print(f\"Erro na solicitação: Código de status {response.status_code}\")\n",
    "        break\n",
    "\n",
    "# Create a DataFrame from all the retrieved records\n",
    "df = pd.DataFrame(all_records)\n",
    "\n",
    "# Create the directory if it does not exist\n",
    "if not os.path.exists(\"../../src/input\"):\n",
    "    os.makedirs(\"../../src/input\")\n",
    "\n",
    "# Save the DataFrame to a CSV file\n",
    "df.to_csv(\"../../src/input/alunos.csv\", index=False)"
   ]
  }
 ],
 "metadata": {
  "kernelspec": {
   "display_name": ".venv",
   "language": "python",
   "name": "python3"
  },
  "language_info": {
   "codemirror_mode": {
    "name": "ipython",
    "version": 3
   },
   "file_extension": ".py",
   "mimetype": "text/x-python",
   "name": "python",
   "nbconvert_exporter": "python",
   "pygments_lexer": "ipython3",
   "version": "3.10.11"
  },
  "orig_nbformat": 4
 },
 "nbformat": 4,
 "nbformat_minor": 2
}
