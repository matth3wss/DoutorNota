{
 "cells": [
  {
   "cell_type": "code",
   "execution_count": null,
   "metadata": {},
   "outputs": [],
   "source": [
    "import pandas as pd\n",
    "import requests\n",
    "from requests.exceptions import ChunkedEncodingError\n",
    "import os\n",
    "from pathlib import Path"
   ]
  },
  {
   "cell_type": "code",
   "execution_count": null,
   "metadata": {},
   "outputs": [],
   "source": [
    "def download_dataset(columns, database_id, filepath, arguments=\"\", \n",
    "                     url=\"https://dados.uffs.edu.br/api/3/action/datastore_search_sql?sql=\"):\n",
    "    offset = 0\n",
    "    limit = 32001\n",
    "    dataset = []\n",
    "    while True:\n",
    "        sql_query = f\"SELECT {columns} FROM \\\"{database_id}\\\" {arguments} LIMIT {limit} OFFSET {offset}\"\n",
    "        new_url = f\"{url}{sql_query}\"\n",
    "        try:\n",
    "            # Make the GET request to fetch the data\n",
    "            response = requests.get(new_url, verify=False)\n",
    "            # Check if the request was successful\n",
    "            if response.status_code == 200:\n",
    "                data = response.json()\n",
    "                # Check if data is found\n",
    "                if data['success']:\n",
    "                    records = data['result']['records']\n",
    "                    # If no more records are returned, exit the loop\n",
    "                    if not records:\n",
    "                        break\n",
    "                    # Append the current chunk of records to the list\n",
    "                    dataset.extend(records)\n",
    "                    # Increment the offset for the next chunk\n",
    "                    offset += limit\n",
    "                else:\n",
    "                    print(\"Nenhum dado encontrado\")\n",
    "                    break\n",
    "            else:\n",
    "                print(f\"Erro na solicitação: Código de status {response.status_code}\")\n",
    "                break\n",
    "        except ChunkedEncodingError:\n",
    "            print(\"Erro de conexão. Tentando novamente...\")\n",
    "            continue\n",
    "        # Create a DataFrame from all the retrieved records\n",
    "    dataset_df = pd.DataFrame(dataset)\n",
    "    os.makedirs(Path(filepath).parent, exist_ok=True)\n",
    "\n",
    "    # Save the DataFrame to a CSV file\n",
    "    dataset_df.to_csv(filepath, index=False)"
   ]
  },
  {
   "cell_type": "markdown",
   "metadata": {},
   "source": [
    "# CCRS DE CHAPECÓ"
   ]
  },
  {
   "cell_type": "code",
   "execution_count": null,
   "metadata": {},
   "outputs": [],
   "source": [
    "columns = \"cod_ccr, nome_ccr, unid_responsavel, cod_cursos, nome_cursos\"\n",
    "\n",
    "database_id = \"c51852e5-c5ae-4ce2-97d8-9261033b8877\"\n",
    "filepath = \"../../src/input/ccrs_uffs.csv\"\n",
    "\n",
    "arguments = \"WHERE unid_responsavel = 'COORDENAÇÃO ACADÊMICA - CHAPECÓ' and LOWER(nome_cursos) LIKE '%computação%'\"\n",
    "# download_dataset(\"*\", database_id, arguments, \"test.csv\")\n",
    "download_dataset(columns, database_id, filepath, arguments)"
   ]
  },
  {
   "cell_type": "markdown",
   "metadata": {},
   "source": [
    "# Turmas Graduação"
   ]
  },
  {
   "cell_type": "code",
   "execution_count": null,
   "metadata": {},
   "outputs": [],
   "source": [
    "columns = \"*\"\n",
    "\n",
    "database_id = \"670bc744-2570-4e2a-b73b-3acf2039a7c1\"\n",
    "filepath = \"../../src/input/turmas_graduacao.csv\"\n",
    "\n",
    "arguments = \"WHERE nome_campus = 'Chapecó' AND ano >= 2018\"\n",
    "# AND (cursos_turma = 'CIÊNCIA DA COMPUTAÇÃO' OR cursos_turma = 'ENGENHARIA AMBIENTAL E SANITÁRIA' OR cursos_turma = 'MATEMÁTICA')\n",
    "\n",
    "download_dataset(columns, database_id, filepath, arguments)"
   ]
  },
  {
   "cell_type": "markdown",
   "metadata": {},
   "source": [
    "# Histórico Graduação"
   ]
  },
  {
   "cell_type": "code",
   "execution_count": null,
   "metadata": {},
   "outputs": [],
   "source": [
    "columns = \"*\"\n",
    "\n",
    "database_id = \"3c31f55b-be46-4ddc-9cd5-f10f614f06bc\"\n",
    "filepath = \"../../src/input/historico_graduacao.csv\"\n",
    "\n",
    "arguments = \"WHERE ano >= 2018\"\n",
    "# nome_campus = 'Chapecó' AND (nome_curso = 'CIÊNCIA DA COMPUTAÇÃO' OR nome_curso = 'ENGENHARIA AMBIENTAL E SANITÁRIA' OR nome_curso = 'MATEMÁTICA') AND\n",
    "\n",
    "download_dataset(columns, database_id, filepath, arguments)\n"
   ]
  }
 ],
 "metadata": {
  "kernelspec": {
   "display_name": ".venv",
   "language": "python",
   "name": "python3"
  },
  "language_info": {
   "codemirror_mode": {
    "name": "ipython",
    "version": 3
   },
   "file_extension": ".py",
   "mimetype": "text/x-python",
   "name": "python",
   "nbconvert_exporter": "python",
   "pygments_lexer": "ipython3",
   "version": "3.11.8"
  },
  "orig_nbformat": 4
 },
 "nbformat": 4,
 "nbformat_minor": 2
}
