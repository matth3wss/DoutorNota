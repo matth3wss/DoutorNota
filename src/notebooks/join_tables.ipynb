{
 "cells": [
  {
   "cell_type": "code",
   "execution_count": 25,
   "metadata": {},
   "outputs": [],
   "source": [
    "import pandas as pd"
   ]
  },
  {
   "cell_type": "code",
   "execution_count": 26,
   "metadata": {},
   "outputs": [],
   "source": [
    "historico_graduacao_df = pd.read_csv('../input/historico_graduacao.csv')\n",
    "ccrs_uffs_df = pd.read_csv('../input/ccrs_uffs.csv')\n",
    "\n",
    "# remove repeated values from column nome_cursos of ccrs_uffs_df separated by semicolon\n",
    "ccrs_uffs_df['nome_cursos'] = ccrs_uffs_df['nome_cursos'].apply(lambda x: ';'.join(list(set(x.split(';')))))\n",
    "\n",
    "# ccrs_uffs_df.drop(columns=['nome_cursos'], inplace=True)\n",
    "\n",
    "ccrs_uffs_df.to_csv('../input/ccrs_uffs.csv', index=False)\n",
    "\n",
    "historico_ccrs_merge_df = pd.merge(historico_graduacao_df, ccrs_uffs_df, on='cod_ccr', how='inner')\n",
    "\n",
    "historico_ccrs_merge_df.to_csv('../input/merge/historico_ccrs_merge.csv', index=False)"
   ]
  },
  {
   "cell_type": "code",
   "execution_count": 27,
   "metadata": {},
   "outputs": [],
   "source": [
    "historico_ccrs_merge_df = pd.read_csv('../input/merge/historico_ccrs_merge.csv')\n",
    "turmas_graduacao_df = pd.read_csv('../input/turmas_graduacao.csv')\n",
    "\n",
    "historico_turmas_merge_df = pd.merge(historico_ccrs_merge_df, turmas_graduacao_df, on=['id_unico_turma', 'cod_ccr', 'nome_ccr'], how='inner')\n",
    "\n",
    "historico_turmas_merge_df.drop(['nome_cursos', 'id_unico_turma'], axis=1, inplace=True)\n",
    "\n",
    "historico_turmas_merge_df.to_csv('../input/merge/historico_turmas_merge.csv', index=False)"
   ]
  },
  {
   "cell_type": "code",
   "execution_count": 28,
   "metadata": {},
   "outputs": [],
   "source": [
    "# unique values of column"
   ]
  }
 ],
 "metadata": {
  "kernelspec": {
   "display_name": ".venv",
   "language": "python",
   "name": "python3"
  },
  "language_info": {
   "codemirror_mode": {
    "name": "ipython",
    "version": 3
   },
   "file_extension": ".py",
   "mimetype": "text/x-python",
   "name": "python",
   "nbconvert_exporter": "python",
   "pygments_lexer": "ipython3",
   "version": "3.11.8"
  }
 },
 "nbformat": 4,
 "nbformat_minor": 2
}
